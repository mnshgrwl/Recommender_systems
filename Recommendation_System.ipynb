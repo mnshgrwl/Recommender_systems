{
 "cells": [
  {
   "cell_type": "code",
   "execution_count": null,
   "metadata": {
    "colab": {},
    "colab_type": "code",
    "id": "Fbi91HoS2f69"
   },
   "outputs": [],
   "source": [
    "# this code is used for connecting to Google Colabotory.\n",
    "# If you run this file on your own local server,\n",
    "# DON'T run this code chunk\n",
    "\n",
    "!apt-get install -y -qq software-properties-common python-software-properties module-init-tools\n",
    "!add-apt-repository -y ppa:alessandro-strada/ppa 2>&1 > /dev/null\n",
    "!apt-get update -qq 2>&1 > /dev/null\n",
    "!apt-get -y install -qq google-drive-ocamlfuse fuse\n",
    "from google.colab import auth\n",
    "auth.authenticate_user()\n",
    "from oauth2client.client import GoogleCredentials\n",
    "creds = GoogleCredentials.get_application_default()\n",
    "import getpass\n",
    "!google-drive-ocamlfuse -headless -id={creds.client_id} -secret={creds.client_secret} < /dev/null 2>&1 | grep URL\n",
    "vcode = getpass.getpass()\n",
    "!echo {vcode} | google-drive-ocamlfuse -headless -id={creds.client_id} -secret={creds.client_secret}"
   ]
  },
  {
   "cell_type": "code",
   "execution_count": null,
   "metadata": {
    "colab": {},
    "colab_type": "code",
    "id": "bpIOGPSt2s1Z"
   },
   "outputs": [],
   "source": [
    "# And don't run this code chunk\n",
    "!mkdir -p drive\n",
    "!google-drive-ocamlfuse drive -o nonempty"
   ]
  },
  {
   "cell_type": "markdown",
   "metadata": {
    "colab_type": "text",
    "id": "GVUcq-BC2dgi"
   },
   "source": [
    "# Movie Recommender system\n",
    "This is a group project of ISSS 610 Applied Machine Learning.  \n",
    "\n",
    "Group Member: GENG Minghong, HUANG Lu, Manish Agarwal, TAO Xinru  \n",
    "\n",
    "Project Timeline:\n",
    "\n",
    "Time|Jobs\n",
    "-----|-----\n",
    "2020-03-21|Data Cleaning\n",
    "2020-03-23|Exploring\n",
    "**2020-03-30**|**Presentation**\n",
    "\n",
    "# 0. Introduction \n",
    "The data of this project can be accessed here:  \n",
    "https://smu.sharepoint.com/teams/ISSS610AppliedMachineLearning/Shared%20Documents/Forms/AllItems.aspx?viewid=1b247e4e%2D6a34%2D4c70%2D8abc%2D06cee2cccbea  "
   ]
  },
  {
   "cell_type": "code",
   "execution_count": 1,
   "metadata": {
    "colab": {},
    "colab_type": "code",
    "id": "fd3I2v7v2dgn"
   },
   "outputs": [],
   "source": [
    "# Ignore the warnings\n",
    "import warnings\n",
    "warnings.filterwarnings('ignore')"
   ]
  },
  {
   "cell_type": "code",
   "execution_count": 2,
   "metadata": {
    "colab": {},
    "colab_type": "code",
    "id": "1C4URn712dgw"
   },
   "outputs": [],
   "source": [
    "#使用pickle模块将数据对象保存到文件\n",
    "import pickle\n",
    "data1 = {'a': [1, 2.0, 3, 4+6j],\n",
    "     'b': ('string', u'Unicode string'),\n",
    "     'c': None}\n",
    " \n",
    "selfref_list = [1, 2, 3]\n",
    "selfref_list.append(selfref_list)\n",
    " \n",
    "output = open('data.pkl', 'wb')\n",
    " \n",
    "# Pickle dictionary using protocol 0.\n",
    "pickle.dump(data1, output)\n",
    " \n",
    "# Pickle the list using the highest protocol available.\n",
    "pickle.dump(selfref_list, output, -1)\n",
    " \n",
    "output.close()"
   ]
  },
  {
   "cell_type": "code",
   "execution_count": 3,
   "metadata": {
    "colab": {},
    "colab_type": "code",
    "id": "khYvmWPT2dg1"
   },
   "outputs": [
    {
     "name": "stdout",
     "output_type": "stream",
     "text": [
      "{'a': [1, 2.0, 3, (4+6j)], 'b': ('string', 'Unicode string'), 'c': None}\n",
      "[1, 2, 3, <Recursion on list with id=4427374496>]\n"
     ]
    }
   ],
   "source": [
    "#使用pickle模块从文件中重构python对象\n",
    "import pprint, pickle\n",
    "pkl_file = open('data.pkl', 'rb')\n",
    "data1 = pickle.load(pkl_file)\n",
    "pprint.pprint(data1)\n",
    "data2 = pickle.load(pkl_file)\n",
    "pprint.pprint(data2)\n",
    "pkl_file.close()"
   ]
  },
  {
   "cell_type": "markdown",
   "metadata": {
    "colab_type": "text",
    "id": "q-2-tctM2dg6"
   },
   "source": [
    "# 1. Processing Data"
   ]
  },
  {
   "cell_type": "markdown",
   "metadata": {
    "colab_type": "text",
    "id": "te0oyPjYYpCX"
   },
   "source": [
    "## 1.1 Packages Used in This Project\n",
    "The packages we used in this packages are:\n",
    "- Pandas\n",
    "- NumPy\n",
    "- ...\n",
    "- (To be fill)"
   ]
  },
  {
   "cell_type": "markdown",
   "metadata": {
    "colab_type": "text",
    "id": "OBAsGaY02diC"
   },
   "source": [
    "## 1.2 Data Cleaning "
   ]
  },
  {
   "cell_type": "markdown",
   "metadata": {
    "colab_type": "text",
    "id": "pNgdWzcJ2diK"
   },
   "source": [
    "\n",
    "### 1.2.1 keywords.csv"
   ]
  },
  {
   "cell_type": "code",
   "execution_count": 4,
   "metadata": {
    "colab": {},
    "colab_type": "code",
    "id": "2-U6unoW2diM"
   },
   "outputs": [],
   "source": [
    "import pandas as pd\n",
    "from ast import literal_eval\n",
    "\n",
    "keywords= pd.read_csv(r'data/themoviesdataset/keywords.csv')\n",
    "keywords['keywordsTr'] = keywords['keywords'].fillna('[]').apply(literal_eval).apply(lambda x: [i['name'] for i in x] if isinstance(x, list) else [])\n",
    "keywordsTr=keywords.drop(['keywords'],axis=1)"
   ]
  },
  {
   "cell_type": "code",
   "execution_count": 5,
   "metadata": {
    "colab": {
     "base_uri": "https://localhost:8080/",
     "height": 202
    },
    "colab_type": "code",
    "id": "zLLtovaz2diU",
    "outputId": "91ffcec1-cda2-4ee3-fda3-b5e9d5330f0b"
   },
   "outputs": [
    {
     "data": {
      "text/html": [
       "<div>\n",
       "<style scoped>\n",
       "    .dataframe tbody tr th:only-of-type {\n",
       "        vertical-align: middle;\n",
       "    }\n",
       "\n",
       "    .dataframe tbody tr th {\n",
       "        vertical-align: top;\n",
       "    }\n",
       "\n",
       "    .dataframe thead th {\n",
       "        text-align: right;\n",
       "    }\n",
       "</style>\n",
       "<table border=\"1\" class=\"dataframe\">\n",
       "  <thead>\n",
       "    <tr style=\"text-align: right;\">\n",
       "      <th></th>\n",
       "      <th>tmdb_id</th>\n",
       "      <th>keywordsTr</th>\n",
       "    </tr>\n",
       "  </thead>\n",
       "  <tbody>\n",
       "    <tr>\n",
       "      <th>0</th>\n",
       "      <td>862</td>\n",
       "      <td>[jealousy, toy, boy, friendship, friends, riva...</td>\n",
       "    </tr>\n",
       "    <tr>\n",
       "      <th>1</th>\n",
       "      <td>8844</td>\n",
       "      <td>[board game, disappearance, based on children'...</td>\n",
       "    </tr>\n",
       "    <tr>\n",
       "      <th>2</th>\n",
       "      <td>15602</td>\n",
       "      <td>[fishing, best friend, duringcreditsstinger, o...</td>\n",
       "    </tr>\n",
       "    <tr>\n",
       "      <th>3</th>\n",
       "      <td>31357</td>\n",
       "      <td>[based on novel, interracial relationship, sin...</td>\n",
       "    </tr>\n",
       "    <tr>\n",
       "      <th>4</th>\n",
       "      <td>11862</td>\n",
       "      <td>[baby, midlife crisis, confidence, aging, daug...</td>\n",
       "    </tr>\n",
       "  </tbody>\n",
       "</table>\n",
       "</div>"
      ],
      "text/plain": [
       "  tmdb_id                                         keywordsTr\n",
       "0     862  [jealousy, toy, boy, friendship, friends, riva...\n",
       "1    8844  [board game, disappearance, based on children'...\n",
       "2   15602  [fishing, best friend, duringcreditsstinger, o...\n",
       "3   31357  [based on novel, interracial relationship, sin...\n",
       "4   11862  [baby, midlife crisis, confidence, aging, daug..."
      ]
     },
     "execution_count": 5,
     "metadata": {},
     "output_type": "execute_result"
    }
   ],
   "source": [
    "keywordsTr.rename(columns = {'id':'tmdb_id'},inplace=True)\n",
    "keywordsTr['tmdb_id'] = keywordsTr['tmdb_id'].apply(str)\n",
    "\n",
    "keywordsTr.head()"
   ]
  },
  {
   "cell_type": "code",
   "execution_count": 6,
   "metadata": {
    "colab": {},
    "colab_type": "code",
    "id": "6xL8HGoS2dif"
   },
   "outputs": [],
   "source": [
    "keywordsTr.to_csv('data/themoviesdataset/keywordsTr.csv',index=False)"
   ]
  },
  {
   "cell_type": "markdown",
   "metadata": {
    "colab_type": "text",
    "id": "hwM3URt92dis"
   },
   "source": [
    "### 1.2.2  rating.csv\n",
    "We want to transform the time stamp into readable time format.   Reference:https://blog.csdn.net/weixin_43790560/article/details/88412005"
   ]
  },
  {
   "cell_type": "code",
   "execution_count": 8,
   "metadata": {
    "colab": {},
    "colab_type": "code",
    "id": "R8tdcg3G2diw"
   },
   "outputs": [],
   "source": [
    "rating= pd.read_csv(r'data/themoviesdataset/ratings.csv')\n",
    "#rating['timestampTr']=pd.to_datetime(rating['timestamp'],unit='s')\n",
    "ratingTr=rating[['userId','movieId','rating','timestamp']]"
   ]
  },
  {
   "cell_type": "code",
   "execution_count": null,
   "metadata": {
    "colab": {},
    "colab_type": "code",
    "id": "xK9-AqOo2di2"
   },
   "outputs": [],
   "source": [
    "#ratingTr.to_csv('ratingTr.csv')"
   ]
  },
  {
   "cell_type": "code",
   "execution_count": 9,
   "metadata": {
    "colab": {},
    "colab_type": "code",
    "id": "zUL22CJs2di7"
   },
   "outputs": [
    {
     "data": {
      "text/html": [
       "<div>\n",
       "<style scoped>\n",
       "    .dataframe tbody tr th:only-of-type {\n",
       "        vertical-align: middle;\n",
       "    }\n",
       "\n",
       "    .dataframe tbody tr th {\n",
       "        vertical-align: top;\n",
       "    }\n",
       "\n",
       "    .dataframe thead th {\n",
       "        text-align: right;\n",
       "    }\n",
       "</style>\n",
       "<table border=\"1\" class=\"dataframe\">\n",
       "  <thead>\n",
       "    <tr style=\"text-align: right;\">\n",
       "      <th></th>\n",
       "      <th>userId</th>\n",
       "      <th>movieId</th>\n",
       "      <th>rating</th>\n",
       "      <th>timestamp</th>\n",
       "    </tr>\n",
       "  </thead>\n",
       "  <tbody>\n",
       "    <tr>\n",
       "      <th>0</th>\n",
       "      <td>1</td>\n",
       "      <td>110</td>\n",
       "      <td>1.0</td>\n",
       "      <td>1425941529</td>\n",
       "    </tr>\n",
       "    <tr>\n",
       "      <th>1</th>\n",
       "      <td>1</td>\n",
       "      <td>147</td>\n",
       "      <td>4.5</td>\n",
       "      <td>1425942435</td>\n",
       "    </tr>\n",
       "    <tr>\n",
       "      <th>2</th>\n",
       "      <td>1</td>\n",
       "      <td>858</td>\n",
       "      <td>5.0</td>\n",
       "      <td>1425941523</td>\n",
       "    </tr>\n",
       "    <tr>\n",
       "      <th>3</th>\n",
       "      <td>1</td>\n",
       "      <td>1221</td>\n",
       "      <td>5.0</td>\n",
       "      <td>1425941546</td>\n",
       "    </tr>\n",
       "    <tr>\n",
       "      <th>4</th>\n",
       "      <td>1</td>\n",
       "      <td>1246</td>\n",
       "      <td>5.0</td>\n",
       "      <td>1425941556</td>\n",
       "    </tr>\n",
       "  </tbody>\n",
       "</table>\n",
       "</div>"
      ],
      "text/plain": [
       "   userId  movieId  rating   timestamp\n",
       "0       1      110     1.0  1425941529\n",
       "1       1      147     4.5  1425942435\n",
       "2       1      858     5.0  1425941523\n",
       "3       1     1221     5.0  1425941546\n",
       "4       1     1246     5.0  1425941556"
      ]
     },
     "execution_count": 9,
     "metadata": {},
     "output_type": "execute_result"
    }
   ],
   "source": [
    "ratingTr.head()"
   ]
  },
  {
   "cell_type": "markdown",
   "metadata": {
    "colab_type": "text",
    "id": "EZH_pRPL2djA"
   },
   "source": [
    "**Then we need to decide what to keep in `timestampTr`. Day? Week? Month?**"
   ]
  },
  {
   "cell_type": "markdown",
   "metadata": {
    "colab_type": "text",
    "id": "oe-9E2he2djB"
   },
   "source": [
    "### 1.2.3 credits.csv"
   ]
  },
  {
   "cell_type": "code",
   "execution_count": 10,
   "metadata": {
    "colab": {},
    "colab_type": "code",
    "id": "SI7WOtDM2djD"
   },
   "outputs": [],
   "source": [
    "import pandas as pd\n",
    "import numpy as np\n",
    "from ast import literal_eval"
   ]
  },
  {
   "cell_type": "code",
   "execution_count": 11,
   "metadata": {
    "colab": {
     "base_uri": "https://localhost:8080/",
     "height": 110
    },
    "colab_type": "code",
    "id": "LTxwfina2djJ",
    "outputId": "7adc43fa-0f33-4123-dcdb-a4e7b1aadfe1"
   },
   "outputs": [
    {
     "data": {
      "text/html": [
       "<div>\n",
       "<style scoped>\n",
       "    .dataframe tbody tr th:only-of-type {\n",
       "        vertical-align: middle;\n",
       "    }\n",
       "\n",
       "    .dataframe tbody tr th {\n",
       "        vertical-align: top;\n",
       "    }\n",
       "\n",
       "    .dataframe thead th {\n",
       "        text-align: right;\n",
       "    }\n",
       "</style>\n",
       "<table border=\"1\" class=\"dataframe\">\n",
       "  <thead>\n",
       "    <tr style=\"text-align: right;\">\n",
       "      <th></th>\n",
       "      <th>cast</th>\n",
       "      <th>crew</th>\n",
       "      <th>id</th>\n",
       "    </tr>\n",
       "  </thead>\n",
       "  <tbody>\n",
       "    <tr>\n",
       "      <th>0</th>\n",
       "      <td>[{'cast_id': 14, 'character': 'Woody (voice)',...</td>\n",
       "      <td>[{'credit_id': '52fe4284c3a36847f8024f49', 'de...</td>\n",
       "      <td>862</td>\n",
       "    </tr>\n",
       "    <tr>\n",
       "      <th>1</th>\n",
       "      <td>[{'cast_id': 1, 'character': 'Alan Parrish', '...</td>\n",
       "      <td>[{'credit_id': '52fe44bfc3a36847f80a7cd1', 'de...</td>\n",
       "      <td>8844</td>\n",
       "    </tr>\n",
       "  </tbody>\n",
       "</table>\n",
       "</div>"
      ],
      "text/plain": [
       "                                                cast  \\\n",
       "0  [{'cast_id': 14, 'character': 'Woody (voice)',...   \n",
       "1  [{'cast_id': 1, 'character': 'Alan Parrish', '...   \n",
       "\n",
       "                                                crew    id  \n",
       "0  [{'credit_id': '52fe4284c3a36847f8024f49', 'de...   862  \n",
       "1  [{'credit_id': '52fe44bfc3a36847f80a7cd1', 'de...  8844  "
      ]
     },
     "execution_count": 11,
     "metadata": {},
     "output_type": "execute_result"
    }
   ],
   "source": [
    "credits = pd.read_csv(r'data/themoviesdataset/credits.csv')\n",
    "credits.head(2)"
   ]
  },
  {
   "cell_type": "code",
   "execution_count": 12,
   "metadata": {
    "colab": {},
    "colab_type": "code",
    "id": "IhdSTk692djP"
   },
   "outputs": [
    {
     "data": {
      "text/html": [
       "<div>\n",
       "<style scoped>\n",
       "    .dataframe tbody tr th:only-of-type {\n",
       "        vertical-align: middle;\n",
       "    }\n",
       "\n",
       "    .dataframe tbody tr th {\n",
       "        vertical-align: top;\n",
       "    }\n",
       "\n",
       "    .dataframe thead th {\n",
       "        text-align: right;\n",
       "    }\n",
       "</style>\n",
       "<table border=\"1\" class=\"dataframe\">\n",
       "  <thead>\n",
       "    <tr style=\"text-align: right;\">\n",
       "      <th></th>\n",
       "      <th>cast</th>\n",
       "      <th>crew</th>\n",
       "      <th>tmdb_id</th>\n",
       "    </tr>\n",
       "  </thead>\n",
       "  <tbody>\n",
       "    <tr>\n",
       "      <th>0</th>\n",
       "      <td>[{'cast_id': 14, 'character': 'Woody (voice)',...</td>\n",
       "      <td>[{'credit_id': '52fe4284c3a36847f8024f49', 'de...</td>\n",
       "      <td>862</td>\n",
       "    </tr>\n",
       "    <tr>\n",
       "      <th>1</th>\n",
       "      <td>[{'cast_id': 1, 'character': 'Alan Parrish', '...</td>\n",
       "      <td>[{'credit_id': '52fe44bfc3a36847f80a7cd1', 'de...</td>\n",
       "      <td>8844</td>\n",
       "    </tr>\n",
       "    <tr>\n",
       "      <th>2</th>\n",
       "      <td>[{'cast_id': 2, 'character': 'Max Goldman', 'c...</td>\n",
       "      <td>[{'credit_id': '52fe466a9251416c75077a89', 'de...</td>\n",
       "      <td>15602</td>\n",
       "    </tr>\n",
       "    <tr>\n",
       "      <th>3</th>\n",
       "      <td>[{'cast_id': 1, 'character': 'Savannah 'Vannah...</td>\n",
       "      <td>[{'credit_id': '52fe44779251416c91011acb', 'de...</td>\n",
       "      <td>31357</td>\n",
       "    </tr>\n",
       "    <tr>\n",
       "      <th>4</th>\n",
       "      <td>[{'cast_id': 1, 'character': 'George Banks', '...</td>\n",
       "      <td>[{'credit_id': '52fe44959251416c75039ed7', 'de...</td>\n",
       "      <td>11862</td>\n",
       "    </tr>\n",
       "  </tbody>\n",
       "</table>\n",
       "</div>"
      ],
      "text/plain": [
       "                                                cast  \\\n",
       "0  [{'cast_id': 14, 'character': 'Woody (voice)',...   \n",
       "1  [{'cast_id': 1, 'character': 'Alan Parrish', '...   \n",
       "2  [{'cast_id': 2, 'character': 'Max Goldman', 'c...   \n",
       "3  [{'cast_id': 1, 'character': 'Savannah 'Vannah...   \n",
       "4  [{'cast_id': 1, 'character': 'George Banks', '...   \n",
       "\n",
       "                                                crew tmdb_id  \n",
       "0  [{'credit_id': '52fe4284c3a36847f8024f49', 'de...     862  \n",
       "1  [{'credit_id': '52fe44bfc3a36847f80a7cd1', 'de...    8844  \n",
       "2  [{'credit_id': '52fe466a9251416c75077a89', 'de...   15602  \n",
       "3  [{'credit_id': '52fe44779251416c91011acb', 'de...   31357  \n",
       "4  [{'credit_id': '52fe44959251416c75039ed7', 'de...   11862  "
      ]
     },
     "execution_count": 12,
     "metadata": {},
     "output_type": "execute_result"
    }
   ],
   "source": [
    "#Rename the id column and change the data type\n",
    "credits.rename(columns = {'id':'tmdb_id'},inplace=True)\n",
    "credits['tmdb_id'] = credits['tmdb_id'].apply(str)\n",
    "\n",
    "# Parse the stringified features into their corresponding python objects\n",
    "credits['cast'] = credits['cast'].apply(literal_eval)\n",
    "credits['crew'] = credits['crew'].apply(literal_eval)\n",
    "credits.head()"
   ]
  },
  {
   "cell_type": "code",
   "execution_count": 13,
   "metadata": {
    "colab": {},
    "colab_type": "code",
    "id": "NBtHdWTQ2dja"
   },
   "outputs": [],
   "source": [
    "# Define a function to get the director name\n",
    "def get_director(x):\n",
    "    for i in x:\n",
    "        if i['job'] == 'Director':\n",
    "            return i['name']\n",
    "    return np.nan\n",
    "\n",
    "# Apply the function to get director name\n",
    "credits['director'] = credits['crew'].apply(get_director)"
   ]
  },
  {
   "cell_type": "code",
   "execution_count": 14,
   "metadata": {
    "colab": {},
    "colab_type": "code",
    "id": "FxA-zI442dji"
   },
   "outputs": [],
   "source": [
    "# Returns the list top 3 elements or entire list; whichever is more.\n",
    "credits['cast'] = credits['cast'].apply(lambda x: [i['name'] for i in x] if isinstance(x, list) else [])\n",
    "credits['cast'] = credits['cast'].apply(lambda x: x[:3] if len(x) >=3 else x)\n",
    "\n",
    "# Drop the crew column\n",
    "credits = credits.drop(['crew'], axis=1)"
   ]
  },
  {
   "cell_type": "code",
   "execution_count": 15,
   "metadata": {
    "colab": {
     "base_uri": "https://localhost:8080/",
     "height": 110
    },
    "colab_type": "code",
    "id": "dvpFSNUw2djn",
    "outputId": "78652bf4-e23a-4d52-eb59-112442342288"
   },
   "outputs": [
    {
     "data": {
      "text/html": [
       "<div>\n",
       "<style scoped>\n",
       "    .dataframe tbody tr th:only-of-type {\n",
       "        vertical-align: middle;\n",
       "    }\n",
       "\n",
       "    .dataframe tbody tr th {\n",
       "        vertical-align: top;\n",
       "    }\n",
       "\n",
       "    .dataframe thead th {\n",
       "        text-align: right;\n",
       "    }\n",
       "</style>\n",
       "<table border=\"1\" class=\"dataframe\">\n",
       "  <thead>\n",
       "    <tr style=\"text-align: right;\">\n",
       "      <th></th>\n",
       "      <th>cast</th>\n",
       "      <th>tmdb_id</th>\n",
       "      <th>director</th>\n",
       "    </tr>\n",
       "  </thead>\n",
       "  <tbody>\n",
       "    <tr>\n",
       "      <th>0</th>\n",
       "      <td>[Tom Hanks, Tim Allen, Don Rickles]</td>\n",
       "      <td>862</td>\n",
       "      <td>John Lasseter</td>\n",
       "    </tr>\n",
       "    <tr>\n",
       "      <th>1</th>\n",
       "      <td>[Robin Williams, Jonathan Hyde, Kirsten Dunst]</td>\n",
       "      <td>8844</td>\n",
       "      <td>Joe Johnston</td>\n",
       "    </tr>\n",
       "  </tbody>\n",
       "</table>\n",
       "</div>"
      ],
      "text/plain": [
       "                                             cast tmdb_id       director\n",
       "0             [Tom Hanks, Tim Allen, Don Rickles]     862  John Lasseter\n",
       "1  [Robin Williams, Jonathan Hyde, Kirsten Dunst]    8844   Joe Johnston"
      ]
     },
     "execution_count": 15,
     "metadata": {},
     "output_type": "execute_result"
    }
   ],
   "source": [
    "creditsTr = credits\n",
    "creditsTr.head(2)"
   ]
  },
  {
   "cell_type": "code",
   "execution_count": 16,
   "metadata": {
    "colab": {},
    "colab_type": "code",
    "id": "5QJhCrfshnVD"
   },
   "outputs": [],
   "source": [
    "creditsTr.to_csv('data/themoviesdataset/creditsTr.csv',index=False)"
   ]
  },
  {
   "cell_type": "markdown",
   "metadata": {
    "colab_type": "text",
    "id": "NNz3fx9E2djs"
   },
   "source": [
    "### 1.2.4 movies_metadata.csv"
   ]
  },
  {
   "cell_type": "markdown",
   "metadata": {
    "colab_type": "text",
    "id": "r01DWJ6l2djy"
   },
   "source": [
    "In the origin dataset, 24 columns are provided. We only need 12 of them."
   ]
  },
  {
   "cell_type": "code",
   "execution_count": 17,
   "metadata": {
    "colab": {
     "base_uri": "https://localhost:8080/",
     "height": 392
    },
    "colab_type": "code",
    "id": "jF7gMUjK2djt",
    "outputId": "ec65ae40-e70a-4129-c432-b490d0024f39"
   },
   "outputs": [
    {
     "name": "stdout",
     "output_type": "stream",
     "text": [
      "(45466, 14)\n"
     ]
    },
    {
     "data": {
      "text/html": [
       "<div>\n",
       "<style scoped>\n",
       "    .dataframe tbody tr th:only-of-type {\n",
       "        vertical-align: middle;\n",
       "    }\n",
       "\n",
       "    .dataframe tbody tr th {\n",
       "        vertical-align: top;\n",
       "    }\n",
       "\n",
       "    .dataframe thead th {\n",
       "        text-align: right;\n",
       "    }\n",
       "</style>\n",
       "<table border=\"1\" class=\"dataframe\">\n",
       "  <thead>\n",
       "    <tr style=\"text-align: right;\">\n",
       "      <th></th>\n",
       "      <th>genres</th>\n",
       "      <th>id</th>\n",
       "      <th>imdb_id</th>\n",
       "      <th>overview</th>\n",
       "      <th>popularity</th>\n",
       "      <th>release_date</th>\n",
       "      <th>revenue</th>\n",
       "      <th>budget</th>\n",
       "      <th>runtime</th>\n",
       "      <th>status</th>\n",
       "      <th>title</th>\n",
       "      <th>vote_average</th>\n",
       "      <th>vote_count</th>\n",
       "      <th>poster_path</th>\n",
       "    </tr>\n",
       "  </thead>\n",
       "  <tbody>\n",
       "    <tr>\n",
       "      <th>0</th>\n",
       "      <td>[{'id': 16, 'name': 'Animation'}, {'id': 35, '...</td>\n",
       "      <td>862</td>\n",
       "      <td>tt0114709</td>\n",
       "      <td>Led by Woody, Andy's toys live happily in his ...</td>\n",
       "      <td>21.9469</td>\n",
       "      <td>1995-10-30</td>\n",
       "      <td>373554033.0</td>\n",
       "      <td>30000000</td>\n",
       "      <td>81.0</td>\n",
       "      <td>Released</td>\n",
       "      <td>Toy Story</td>\n",
       "      <td>7.7</td>\n",
       "      <td>5415.0</td>\n",
       "      <td>/rhIRbceoE9lR4veEXuwCC2wARtG.jpg</td>\n",
       "    </tr>\n",
       "    <tr>\n",
       "      <th>1</th>\n",
       "      <td>[{'id': 12, 'name': 'Adventure'}, {'id': 14, '...</td>\n",
       "      <td>8844</td>\n",
       "      <td>tt0113497</td>\n",
       "      <td>When siblings Judy and Peter discover an encha...</td>\n",
       "      <td>17.0155</td>\n",
       "      <td>1995-12-15</td>\n",
       "      <td>262797249.0</td>\n",
       "      <td>65000000</td>\n",
       "      <td>104.0</td>\n",
       "      <td>Released</td>\n",
       "      <td>Jumanji</td>\n",
       "      <td>6.9</td>\n",
       "      <td>2413.0</td>\n",
       "      <td>/vzmL6fP7aPKNKPRTFnZmiUfciyV.jpg</td>\n",
       "    </tr>\n",
       "  </tbody>\n",
       "</table>\n",
       "</div>"
      ],
      "text/plain": [
       "                                              genres    id    imdb_id  \\\n",
       "0  [{'id': 16, 'name': 'Animation'}, {'id': 35, '...   862  tt0114709   \n",
       "1  [{'id': 12, 'name': 'Adventure'}, {'id': 14, '...  8844  tt0113497   \n",
       "\n",
       "                                            overview popularity release_date  \\\n",
       "0  Led by Woody, Andy's toys live happily in his ...    21.9469   1995-10-30   \n",
       "1  When siblings Judy and Peter discover an encha...    17.0155   1995-12-15   \n",
       "\n",
       "       revenue    budget  runtime    status      title  vote_average  \\\n",
       "0  373554033.0  30000000     81.0  Released  Toy Story           7.7   \n",
       "1  262797249.0  65000000    104.0  Released    Jumanji           6.9   \n",
       "\n",
       "   vote_count                       poster_path  \n",
       "0      5415.0  /rhIRbceoE9lR4veEXuwCC2wARtG.jpg  \n",
       "1      2413.0  /vzmL6fP7aPKNKPRTFnZmiUfciyV.jpg  "
      ]
     },
     "execution_count": 17,
     "metadata": {},
     "output_type": "execute_result"
    }
   ],
   "source": [
    "import pandas as pd\n",
    "import numpy as np\n",
    "from ast import literal_eval\n",
    "\n",
    "#movies_metadata= pd.read_csv(r'/content/drive/data/themoviesdataset/movies_metadata.csv')\n",
    "movies_metadata= pd.read_csv('data/themoviesdataset/movies_metadata.csv')\n",
    "\n",
    "# select 12 variables from the movies_metadata dataset\n",
    "movies_metadataTr = movies_metadata[['genres','id','imdb_id','overview','popularity','release_date',\n",
    "                         'revenue','budget','runtime','status','title','vote_average','vote_count','poster_path']]\n",
    "\n",
    "print(movies_metadataTr.shape)\n",
    "movies_metadataTr.head(2)"
   ]
  },
  {
   "cell_type": "code",
   "execution_count": 18,
   "metadata": {
    "colab": {},
    "colab_type": "code",
    "id": "VAXaK2FQ2dj5"
   },
   "outputs": [],
   "source": [
    "movies_metadataTr['genres'] = movies_metadataTr['genres'].apply(literal_eval)\n",
    "# Get the genres\n",
    "movies_metadataTr['genres'] = movies_metadataTr['genres'].apply(lambda x: [i['name'] for i in x] if isinstance(x, list) else [])\n",
    "\n",
    "# Rename the column id to tmdb_id\n",
    "movies_metadataTr.rename(columns = {'id':'tmdb_id'},inplace=True)"
   ]
  },
  {
   "cell_type": "code",
   "execution_count": 19,
   "metadata": {
    "colab": {
     "base_uri": "https://localhost:8080/",
     "height": 338
    },
    "colab_type": "code",
    "id": "fLt6HIUM2dkB",
    "outputId": "4d4d4a43-94cc-4b38-95f6-cbf65424abca"
   },
   "outputs": [
    {
     "data": {
      "text/html": [
       "<div>\n",
       "<style scoped>\n",
       "    .dataframe tbody tr th:only-of-type {\n",
       "        vertical-align: middle;\n",
       "    }\n",
       "\n",
       "    .dataframe tbody tr th {\n",
       "        vertical-align: top;\n",
       "    }\n",
       "\n",
       "    .dataframe thead th {\n",
       "        text-align: right;\n",
       "    }\n",
       "</style>\n",
       "<table border=\"1\" class=\"dataframe\">\n",
       "  <thead>\n",
       "    <tr style=\"text-align: right;\">\n",
       "      <th></th>\n",
       "      <th>genres</th>\n",
       "      <th>tmdb_id</th>\n",
       "      <th>imdb_id</th>\n",
       "      <th>overview</th>\n",
       "      <th>popularity</th>\n",
       "      <th>release_date</th>\n",
       "      <th>revenue</th>\n",
       "      <th>budget</th>\n",
       "      <th>runtime</th>\n",
       "      <th>status</th>\n",
       "      <th>title</th>\n",
       "      <th>vote_average</th>\n",
       "      <th>vote_count</th>\n",
       "      <th>poster_path</th>\n",
       "    </tr>\n",
       "  </thead>\n",
       "  <tbody>\n",
       "    <tr>\n",
       "      <th>0</th>\n",
       "      <td>[Animation, Comedy, Family]</td>\n",
       "      <td>862</td>\n",
       "      <td>tt0114709</td>\n",
       "      <td>Led by Woody, Andy's toys live happily in his ...</td>\n",
       "      <td>21.9469</td>\n",
       "      <td>1995-10-30</td>\n",
       "      <td>373554033.0</td>\n",
       "      <td>30000000</td>\n",
       "      <td>81.0</td>\n",
       "      <td>Released</td>\n",
       "      <td>Toy Story</td>\n",
       "      <td>7.7</td>\n",
       "      <td>5415.0</td>\n",
       "      <td>/rhIRbceoE9lR4veEXuwCC2wARtG.jpg</td>\n",
       "    </tr>\n",
       "    <tr>\n",
       "      <th>1</th>\n",
       "      <td>[Adventure, Fantasy, Family]</td>\n",
       "      <td>8844</td>\n",
       "      <td>tt0113497</td>\n",
       "      <td>When siblings Judy and Peter discover an encha...</td>\n",
       "      <td>17.0155</td>\n",
       "      <td>1995-12-15</td>\n",
       "      <td>262797249.0</td>\n",
       "      <td>65000000</td>\n",
       "      <td>104.0</td>\n",
       "      <td>Released</td>\n",
       "      <td>Jumanji</td>\n",
       "      <td>6.9</td>\n",
       "      <td>2413.0</td>\n",
       "      <td>/vzmL6fP7aPKNKPRTFnZmiUfciyV.jpg</td>\n",
       "    </tr>\n",
       "  </tbody>\n",
       "</table>\n",
       "</div>"
      ],
      "text/plain": [
       "                         genres tmdb_id    imdb_id  \\\n",
       "0   [Animation, Comedy, Family]     862  tt0114709   \n",
       "1  [Adventure, Fantasy, Family]    8844  tt0113497   \n",
       "\n",
       "                                            overview popularity release_date  \\\n",
       "0  Led by Woody, Andy's toys live happily in his ...    21.9469   1995-10-30   \n",
       "1  When siblings Judy and Peter discover an encha...    17.0155   1995-12-15   \n",
       "\n",
       "       revenue    budget  runtime    status      title  vote_average  \\\n",
       "0  373554033.0  30000000     81.0  Released  Toy Story           7.7   \n",
       "1  262797249.0  65000000    104.0  Released    Jumanji           6.9   \n",
       "\n",
       "   vote_count                       poster_path  \n",
       "0      5415.0  /rhIRbceoE9lR4veEXuwCC2wARtG.jpg  \n",
       "1      2413.0  /vzmL6fP7aPKNKPRTFnZmiUfciyV.jpg  "
      ]
     },
     "execution_count": 19,
     "metadata": {},
     "output_type": "execute_result"
    }
   ],
   "source": [
    "movies_metadataTr.head(2)"
   ]
  },
  {
   "cell_type": "code",
   "execution_count": 20,
   "metadata": {
    "colab": {},
    "colab_type": "code",
    "id": "WlLUV2a42dkH"
   },
   "outputs": [],
   "source": [
    "#movies_metadataTr.to_csv('/content/drive/data/movies_metadataTr.csv',index=False)\n",
    "movies_metadataTr.to_csv('data/themoviesdataset/movies_metadataTr.csv',index=False)"
   ]
  },
  {
   "cell_type": "markdown",
   "metadata": {
    "colab_type": "text",
    "id": "cFOk4IBh2dkL"
   },
   "source": [
    "## 1.3 Merge the data"
   ]
  },
  {
   "cell_type": "markdown",
   "metadata": {
    "colab_type": "text",
    "id": "Nj8g37X62dkN"
   },
   "source": [
    "### 1.3.1 Movie"
   ]
  },
  {
   "cell_type": "markdown",
   "metadata": {
    "colab_type": "text",
    "id": "1LUaudRh2dkO"
   },
   "source": [
    "Merge the `movies_metadataTr`, `creditsTr`, and `keywordsTr.csv`."
   ]
  },
  {
   "cell_type": "code",
   "execution_count": 21,
   "metadata": {
    "colab": {},
    "colab_type": "code",
    "id": "R3XynN282dkP"
   },
   "outputs": [],
   "source": [
    "# Load the packages.\n",
    "import pandas as pd\n",
    "\n",
    "# And the files \n",
    "#movies_metadataTr = pd.read_csv('/content/drive/data/themoviesdataset/movies_metadataTr.csv')\n",
    "#creditsTr = pd.read_csv('/content/drive/data/themoviesdataset/creditsTr.csv')\n",
    "#keywordsTr = pd.read_csv('/content/drive/data/themoviesdataset/keywordsTr.csv')\n",
    "\n",
    "# change the data type of 'tmdb_id'\n",
    "movies_metadataTr['tmdb_id'] = movies_metadataTr['tmdb_id'].astype('category')\n",
    "creditsTr['tmdb_id'] = creditsTr['tmdb_id'].astype('category')\n",
    "keywordsTr['tmdb_id'] = keywordsTr['tmdb_id'].astype('category')"
   ]
  },
  {
   "cell_type": "code",
   "execution_count": 22,
   "metadata": {
    "colab": {
     "base_uri": "https://localhost:8080/",
     "height": 338
    },
    "colab_type": "code",
    "id": "yOEynmqngEY3",
    "outputId": "643b9cc5-2fe0-4c3a-cf1f-d419900e05c3"
   },
   "outputs": [
    {
     "data": {
      "text/html": [
       "<div>\n",
       "<style scoped>\n",
       "    .dataframe tbody tr th:only-of-type {\n",
       "        vertical-align: middle;\n",
       "    }\n",
       "\n",
       "    .dataframe tbody tr th {\n",
       "        vertical-align: top;\n",
       "    }\n",
       "\n",
       "    .dataframe thead th {\n",
       "        text-align: right;\n",
       "    }\n",
       "</style>\n",
       "<table border=\"1\" class=\"dataframe\">\n",
       "  <thead>\n",
       "    <tr style=\"text-align: right;\">\n",
       "      <th></th>\n",
       "      <th>genres</th>\n",
       "      <th>tmdb_id</th>\n",
       "      <th>imdb_id</th>\n",
       "      <th>overview</th>\n",
       "      <th>popularity</th>\n",
       "      <th>release_date</th>\n",
       "      <th>revenue</th>\n",
       "      <th>budget</th>\n",
       "      <th>runtime</th>\n",
       "      <th>status</th>\n",
       "      <th>title</th>\n",
       "      <th>vote_average</th>\n",
       "      <th>vote_count</th>\n",
       "      <th>poster_path</th>\n",
       "      <th>cast</th>\n",
       "      <th>director</th>\n",
       "      <th>keywordsTr</th>\n",
       "    </tr>\n",
       "  </thead>\n",
       "  <tbody>\n",
       "    <tr>\n",
       "      <th>0</th>\n",
       "      <td>[Animation, Comedy, Family]</td>\n",
       "      <td>862</td>\n",
       "      <td>tt0114709</td>\n",
       "      <td>Led by Woody, Andy's toys live happily in his ...</td>\n",
       "      <td>21.9469</td>\n",
       "      <td>1995-10-30</td>\n",
       "      <td>373554033.0</td>\n",
       "      <td>30000000</td>\n",
       "      <td>81.0</td>\n",
       "      <td>Released</td>\n",
       "      <td>Toy Story</td>\n",
       "      <td>7.7</td>\n",
       "      <td>5415.0</td>\n",
       "      <td>/rhIRbceoE9lR4veEXuwCC2wARtG.jpg</td>\n",
       "      <td>[Tom Hanks, Tim Allen, Don Rickles]</td>\n",
       "      <td>John Lasseter</td>\n",
       "      <td>[jealousy, toy, boy, friendship, friends, riva...</td>\n",
       "    </tr>\n",
       "    <tr>\n",
       "      <th>1</th>\n",
       "      <td>[Adventure, Fantasy, Family]</td>\n",
       "      <td>8844</td>\n",
       "      <td>tt0113497</td>\n",
       "      <td>When siblings Judy and Peter discover an encha...</td>\n",
       "      <td>17.0155</td>\n",
       "      <td>1995-12-15</td>\n",
       "      <td>262797249.0</td>\n",
       "      <td>65000000</td>\n",
       "      <td>104.0</td>\n",
       "      <td>Released</td>\n",
       "      <td>Jumanji</td>\n",
       "      <td>6.9</td>\n",
       "      <td>2413.0</td>\n",
       "      <td>/vzmL6fP7aPKNKPRTFnZmiUfciyV.jpg</td>\n",
       "      <td>[Robin Williams, Jonathan Hyde, Kirsten Dunst]</td>\n",
       "      <td>Joe Johnston</td>\n",
       "      <td>[board game, disappearance, based on children'...</td>\n",
       "    </tr>\n",
       "  </tbody>\n",
       "</table>\n",
       "</div>"
      ],
      "text/plain": [
       "                         genres tmdb_id    imdb_id  \\\n",
       "0   [Animation, Comedy, Family]     862  tt0114709   \n",
       "1  [Adventure, Fantasy, Family]    8844  tt0113497   \n",
       "\n",
       "                                            overview popularity release_date  \\\n",
       "0  Led by Woody, Andy's toys live happily in his ...    21.9469   1995-10-30   \n",
       "1  When siblings Judy and Peter discover an encha...    17.0155   1995-12-15   \n",
       "\n",
       "       revenue    budget  runtime    status      title  vote_average  \\\n",
       "0  373554033.0  30000000     81.0  Released  Toy Story           7.7   \n",
       "1  262797249.0  65000000    104.0  Released    Jumanji           6.9   \n",
       "\n",
       "   vote_count                       poster_path  \\\n",
       "0      5415.0  /rhIRbceoE9lR4veEXuwCC2wARtG.jpg   \n",
       "1      2413.0  /vzmL6fP7aPKNKPRTFnZmiUfciyV.jpg   \n",
       "\n",
       "                                             cast       director  \\\n",
       "0             [Tom Hanks, Tim Allen, Don Rickles]  John Lasseter   \n",
       "1  [Robin Williams, Jonathan Hyde, Kirsten Dunst]   Joe Johnston   \n",
       "\n",
       "                                          keywordsTr  \n",
       "0  [jealousy, toy, boy, friendship, friends, riva...  \n",
       "1  [board game, disappearance, based on children'...  "
      ]
     },
     "execution_count": 22,
     "metadata": {},
     "output_type": "execute_result"
    }
   ],
   "source": [
    "# Merge the movies_metadata.csv, credits.csv, and keywords.csv into a single dataframe.\n",
    "metadataTr_creditsTr = pd.merge(movies_metadataTr, \n",
    "                   creditsTr, \n",
    "                   how = 'left', \n",
    "                   on = ['tmdb_id'])\n",
    "\n",
    "metadataTr_creditsTr_keywordsTr = pd.merge(metadataTr_creditsTr, \n",
    "                       keywordsTr, \n",
    "                       how = 'left', \n",
    "                       on = ['tmdb_id'])\n",
    "# see what we get\n",
    "metadataTr_creditsTr_keywordsTr.head(2)"
   ]
  },
  {
   "cell_type": "code",
   "execution_count": 23,
   "metadata": {
    "colab": {
     "base_uri": "https://localhost:8080/",
     "height": 338
    },
    "colab_type": "code",
    "id": "JMQx3RWi2dkU",
    "outputId": "aca4f09a-7368-4d67-ebd3-e6212a6d0d64"
   },
   "outputs": [
    {
     "data": {
      "text/html": [
       "<div>\n",
       "<style scoped>\n",
       "    .dataframe tbody tr th:only-of-type {\n",
       "        vertical-align: middle;\n",
       "    }\n",
       "\n",
       "    .dataframe tbody tr th {\n",
       "        vertical-align: top;\n",
       "    }\n",
       "\n",
       "    .dataframe thead th {\n",
       "        text-align: right;\n",
       "    }\n",
       "</style>\n",
       "<table border=\"1\" class=\"dataframe\">\n",
       "  <thead>\n",
       "    <tr style=\"text-align: right;\">\n",
       "      <th></th>\n",
       "      <th>genres</th>\n",
       "      <th>tmdb_id</th>\n",
       "      <th>imdb_id</th>\n",
       "      <th>overview</th>\n",
       "      <th>popularity</th>\n",
       "      <th>release_date</th>\n",
       "      <th>revenue</th>\n",
       "      <th>budget</th>\n",
       "      <th>runtime</th>\n",
       "      <th>status</th>\n",
       "      <th>title</th>\n",
       "      <th>vote_average</th>\n",
       "      <th>vote_count</th>\n",
       "      <th>poster_path</th>\n",
       "      <th>cast</th>\n",
       "      <th>director</th>\n",
       "      <th>keywordsTr</th>\n",
       "    </tr>\n",
       "  </thead>\n",
       "  <tbody>\n",
       "    <tr>\n",
       "      <th>0</th>\n",
       "      <td>[Animation, Comedy, Family]</td>\n",
       "      <td>862</td>\n",
       "      <td>tt0114709</td>\n",
       "      <td>Led by Woody, Andy's toys live happily in his ...</td>\n",
       "      <td>21.9469</td>\n",
       "      <td>1995-10-30</td>\n",
       "      <td>373554033.0</td>\n",
       "      <td>30000000</td>\n",
       "      <td>81</td>\n",
       "      <td>Released</td>\n",
       "      <td>Toy Story</td>\n",
       "      <td>7.7</td>\n",
       "      <td>5415.0</td>\n",
       "      <td>/rhIRbceoE9lR4veEXuwCC2wARtG.jpg</td>\n",
       "      <td>[Tom Hanks, Tim Allen, Don Rickles]</td>\n",
       "      <td>John Lasseter</td>\n",
       "      <td>[jealousy, toy, boy, friendship, friends, riva...</td>\n",
       "    </tr>\n",
       "    <tr>\n",
       "      <th>1</th>\n",
       "      <td>[Adventure, Fantasy, Family]</td>\n",
       "      <td>8844</td>\n",
       "      <td>tt0113497</td>\n",
       "      <td>When siblings Judy and Peter discover an encha...</td>\n",
       "      <td>17.0155</td>\n",
       "      <td>1995-12-15</td>\n",
       "      <td>262797249.0</td>\n",
       "      <td>65000000</td>\n",
       "      <td>104</td>\n",
       "      <td>Released</td>\n",
       "      <td>Jumanji</td>\n",
       "      <td>6.9</td>\n",
       "      <td>2413.0</td>\n",
       "      <td>/vzmL6fP7aPKNKPRTFnZmiUfciyV.jpg</td>\n",
       "      <td>[Robin Williams, Jonathan Hyde, Kirsten Dunst]</td>\n",
       "      <td>Joe Johnston</td>\n",
       "      <td>[board game, disappearance, based on children'...</td>\n",
       "    </tr>\n",
       "  </tbody>\n",
       "</table>\n",
       "</div>"
      ],
      "text/plain": [
       "                         genres tmdb_id    imdb_id  \\\n",
       "0   [Animation, Comedy, Family]     862  tt0114709   \n",
       "1  [Adventure, Fantasy, Family]    8844  tt0113497   \n",
       "\n",
       "                                            overview popularity release_date  \\\n",
       "0  Led by Woody, Andy's toys live happily in his ...    21.9469   1995-10-30   \n",
       "1  When siblings Judy and Peter discover an encha...    17.0155   1995-12-15   \n",
       "\n",
       "       revenue    budget runtime    status      title  vote_average  \\\n",
       "0  373554033.0  30000000      81  Released  Toy Story           7.7   \n",
       "1  262797249.0  65000000     104  Released    Jumanji           6.9   \n",
       "\n",
       "   vote_count                       poster_path  \\\n",
       "0      5415.0  /rhIRbceoE9lR4veEXuwCC2wARtG.jpg   \n",
       "1      2413.0  /vzmL6fP7aPKNKPRTFnZmiUfciyV.jpg   \n",
       "\n",
       "                                             cast       director  \\\n",
       "0             [Tom Hanks, Tim Allen, Don Rickles]  John Lasseter   \n",
       "1  [Robin Williams, Jonathan Hyde, Kirsten Dunst]   Joe Johnston   \n",
       "\n",
       "                                          keywordsTr  \n",
       "0  [jealousy, toy, boy, friendship, friends, riva...  \n",
       "1  [board game, disappearance, based on children'...  "
      ]
     },
     "execution_count": 23,
     "metadata": {},
     "output_type": "execute_result"
    }
   ],
   "source": [
    "# Select rows where the column status == 'Released'\n",
    "data_movies = metadataTr_creditsTr_keywordsTr[metadataTr_creditsTr_keywordsTr['status'] == 'Released']\n",
    "\n",
    "# turn off the warning\n",
    "pd.options.mode.chained_assignment = None  # default='warn'\n",
    "\n",
    "# (2020-03-27 22:25)\n",
    "# This is an additional modification.\n",
    "# Remove the quotes\n",
    "\n",
    "data_movies['genres'] = data_movies['genres'].replace(\"'\", \"\")\n",
    "data_movies['cast'] = data_movies['cast'].replace(\"'\", \"\")\n",
    "data_movies['keywordsTr'] = data_movies['keywordsTr'].replace(\"'\", \"\")\n",
    "\n",
    "# Fill NA by the space\n",
    "data_movies = data_movies.fillna(' ')\n",
    "\n",
    "# see what we have\n",
    "data_movies.head(2)"
   ]
  },
  {
   "cell_type": "code",
   "execution_count": 24,
   "metadata": {
    "colab": {},
    "colab_type": "code",
    "id": "xlYOSesCOU6j"
   },
   "outputs": [],
   "source": [
    "def get_values(data_str):\n",
    "    if isinstance(data_str, float):\n",
    "        pass\n",
    "    else:\n",
    "        values = []\n",
    "        data_str = ast.literal_eval(data_str)\n",
    "        if isinstance(data_str, list):\n",
    "            for k_v in data_str:\n",
    "                values.append(k_v['name'])\n",
    "            return values\n",
    "        else:\n",
    "            return None"
   ]
  },
  {
   "cell_type": "code",
   "execution_count": 25,
   "metadata": {
    "colab": {},
    "colab_type": "code",
    "id": "DUmkC3XHOU6o"
   },
   "outputs": [],
   "source": [
    "def counting_values(df, column):\n",
    "    value_count = {}\n",
    "    for row in df[column].dropna():\n",
    "        if len(row) > 0:\n",
    "            for key in row:\n",
    "                if key in value_count:\n",
    "                    value_count[key] += 1\n",
    "                else:\n",
    "                    value_count[key] = 1\n",
    "        else:\n",
    "            pass\n",
    "    return value_count"
   ]
  },
  {
   "cell_type": "code",
   "execution_count": 26,
   "metadata": {
    "colab": {},
    "colab_type": "code",
    "id": "LWgOmqfcOU6s",
    "outputId": "170554bd-16eb-4525-854d-43b728144f12"
   },
   "outputs": [
    {
     "data": {
      "text/plain": [
       "<matplotlib.axes._subplots.AxesSubplot at 0x1ba913890>"
      ]
     },
     "execution_count": 26,
     "metadata": {},
     "output_type": "execute_result"
    },
    {
     "data": {
      "image/png": "[encoded data removed]",
      "text/plain": [
       "<Figure size 432x288 with 1 Axes>"
      ]
     },
     "metadata": {
      "needs_background": "light"
     },
     "output_type": "display_data"
    }
   ],
   "source": [
    "genres_count = pd.Series(counting_values(data_movies, 'genres'))\n",
    "genres_count.sort_values(ascending = False).head(10).plot(kind = 'bar')"
   ]
  },
  {
   "cell_type": "code",
   "execution_count": 27,
   "metadata": {
    "colab": {},
    "colab_type": "code",
    "id": "pdSpuaJG2dkq"
   },
   "outputs": [],
   "source": [
    "data_movies.to_csv('data/themoviesdataset/data_movies.csv',index=False)"
   ]
  },
  {
   "cell_type": "markdown",
   "metadata": {
    "colab_type": "text",
    "id": "E3p1dVYo2dku"
   },
   "source": [
    "`Genre`, `overview`, `Keywords` are very useful to calculate the similarity between movies."
   ]
  },
  {
   "cell_type": "markdown",
   "metadata": {
    "colab_type": "text",
    "id": "QtcZhSbK2dk0"
   },
   "source": [
    "### 1.3.2 User"
   ]
  },
  {
   "cell_type": "code",
   "execution_count": 29,
   "metadata": {
    "colab": {},
    "colab_type": "code",
    "id": "GdYvccFm2dk1"
   },
   "outputs": [],
   "source": [
    "tags = pd.read_csv('data/ml-25m/tags.csv')"
   ]
  },
  {
   "cell_type": "code",
   "execution_count": 30,
   "metadata": {
    "colab": {},
    "colab_type": "code",
    "id": "u_HNzig82dk6",
    "outputId": "7d9deb08-6ee7-4e2d-8364-72348afedfe6"
   },
   "outputs": [
    {
     "data": {
      "text/plain": [
       "(1093360, 4)"
      ]
     },
     "execution_count": 30,
     "metadata": {},
     "output_type": "execute_result"
    }
   ],
   "source": [
    "tags.shape"
   ]
  },
  {
   "cell_type": "code",
   "execution_count": 31,
   "metadata": {
    "colab": {},
    "colab_type": "code",
    "id": "vQ25Rt7y2dk_",
    "outputId": "69f2aba5-adb4-4328-c1ca-c7abea7c7607"
   },
   "outputs": [
    {
     "data": {
      "text/html": [
       "<div>\n",
       "<style scoped>\n",
       "    .dataframe tbody tr th:only-of-type {\n",
       "        vertical-align: middle;\n",
       "    }\n",
       "\n",
       "    .dataframe tbody tr th {\n",
       "        vertical-align: top;\n",
       "    }\n",
       "\n",
       "    .dataframe thead th {\n",
       "        text-align: right;\n",
       "    }\n",
       "</style>\n",
       "<table border=\"1\" class=\"dataframe\">\n",
       "  <thead>\n",
       "    <tr style=\"text-align: right;\">\n",
       "      <th></th>\n",
       "      <th>userId</th>\n",
       "      <th>movieId</th>\n",
       "      <th>tag</th>\n",
       "      <th>timestamp</th>\n",
       "    </tr>\n",
       "  </thead>\n",
       "  <tbody>\n",
       "    <tr>\n",
       "      <th>2</th>\n",
       "      <td>4</td>\n",
       "      <td>1732</td>\n",
       "      <td>dark comedy</td>\n",
       "      <td>1573943598</td>\n",
       "    </tr>\n",
       "    <tr>\n",
       "      <th>3</th>\n",
       "      <td>4</td>\n",
       "      <td>1732</td>\n",
       "      <td>great dialogue</td>\n",
       "      <td>1573943604</td>\n",
       "    </tr>\n",
       "    <tr>\n",
       "      <th>4</th>\n",
       "      <td>4</td>\n",
       "      <td>7569</td>\n",
       "      <td>so bad it's good</td>\n",
       "      <td>1573943455</td>\n",
       "    </tr>\n",
       "    <tr>\n",
       "      <th>5</th>\n",
       "      <td>4</td>\n",
       "      <td>44665</td>\n",
       "      <td>unreliable narrators</td>\n",
       "      <td>1573943619</td>\n",
       "    </tr>\n",
       "    <tr>\n",
       "      <th>6</th>\n",
       "      <td>4</td>\n",
       "      <td>115569</td>\n",
       "      <td>tense</td>\n",
       "      <td>1573943077</td>\n",
       "    </tr>\n",
       "    <tr>\n",
       "      <th>7</th>\n",
       "      <td>4</td>\n",
       "      <td>115713</td>\n",
       "      <td>artificial intelligence</td>\n",
       "      <td>1573942979</td>\n",
       "    </tr>\n",
       "    <tr>\n",
       "      <th>8</th>\n",
       "      <td>4</td>\n",
       "      <td>115713</td>\n",
       "      <td>philosophical</td>\n",
       "      <td>1573943033</td>\n",
       "    </tr>\n",
       "    <tr>\n",
       "      <th>9</th>\n",
       "      <td>4</td>\n",
       "      <td>115713</td>\n",
       "      <td>tense</td>\n",
       "      <td>1573943042</td>\n",
       "    </tr>\n",
       "    <tr>\n",
       "      <th>10</th>\n",
       "      <td>4</td>\n",
       "      <td>148426</td>\n",
       "      <td>so bad it's good</td>\n",
       "      <td>1573942965</td>\n",
       "    </tr>\n",
       "    <tr>\n",
       "      <th>11</th>\n",
       "      <td>4</td>\n",
       "      <td>164909</td>\n",
       "      <td>cliche</td>\n",
       "      <td>1573943721</td>\n",
       "    </tr>\n",
       "    <tr>\n",
       "      <th>12</th>\n",
       "      <td>4</td>\n",
       "      <td>164909</td>\n",
       "      <td>musical</td>\n",
       "      <td>1573943714</td>\n",
       "    </tr>\n",
       "    <tr>\n",
       "      <th>13</th>\n",
       "      <td>4</td>\n",
       "      <td>168250</td>\n",
       "      <td>horror</td>\n",
       "      <td>1573945163</td>\n",
       "    </tr>\n",
       "    <tr>\n",
       "      <th>14</th>\n",
       "      <td>4</td>\n",
       "      <td>168250</td>\n",
       "      <td>unpredictable</td>\n",
       "      <td>1573945171</td>\n",
       "    </tr>\n",
       "  </tbody>\n",
       "</table>\n",
       "</div>"
      ],
      "text/plain": [
       "    userId  movieId                      tag   timestamp\n",
       "2        4     1732              dark comedy  1573943598\n",
       "3        4     1732           great dialogue  1573943604\n",
       "4        4     7569         so bad it's good  1573943455\n",
       "5        4    44665     unreliable narrators  1573943619\n",
       "6        4   115569                    tense  1573943077\n",
       "7        4   115713  artificial intelligence  1573942979\n",
       "8        4   115713            philosophical  1573943033\n",
       "9        4   115713                    tense  1573943042\n",
       "10       4   148426         so bad it's good  1573942965\n",
       "11       4   164909                   cliche  1573943721\n",
       "12       4   164909                  musical  1573943714\n",
       "13       4   168250                   horror  1573945163\n",
       "14       4   168250            unpredictable  1573945171"
      ]
     },
     "execution_count": 31,
     "metadata": {},
     "output_type": "execute_result"
    }
   ],
   "source": [
    "tags[tags['userId']==4]"
   ]
  },
  {
   "cell_type": "code",
   "execution_count": 32,
   "metadata": {
    "colab": {},
    "colab_type": "code",
    "id": "m2L8A4Lc2dlF",
    "outputId": "2e182185-aa0f-4f47-b179-63de6df7336b"
   },
   "outputs": [
    {
     "data": {
      "text/html": [
       "<div>\n",
       "<style scoped>\n",
       "    .dataframe tbody tr th:only-of-type {\n",
       "        vertical-align: middle;\n",
       "    }\n",
       "\n",
       "    .dataframe tbody tr th {\n",
       "        vertical-align: top;\n",
       "    }\n",
       "\n",
       "    .dataframe thead th {\n",
       "        text-align: right;\n",
       "    }\n",
       "</style>\n",
       "<table border=\"1\" class=\"dataframe\">\n",
       "  <thead>\n",
       "    <tr style=\"text-align: right;\">\n",
       "      <th></th>\n",
       "      <th>userId</th>\n",
       "      <th>movieId</th>\n",
       "      <th>rating</th>\n",
       "      <th>timestamp</th>\n",
       "    </tr>\n",
       "  </thead>\n",
       "  <tbody>\n",
       "    <tr>\n",
       "      <th>59</th>\n",
       "      <td>4</td>\n",
       "      <td>223</td>\n",
       "      <td>4.0</td>\n",
       "      <td>1042668576</td>\n",
       "    </tr>\n",
       "    <tr>\n",
       "      <th>60</th>\n",
       "      <td>4</td>\n",
       "      <td>415</td>\n",
       "      <td>4.0</td>\n",
       "      <td>1042667925</td>\n",
       "    </tr>\n",
       "    <tr>\n",
       "      <th>61</th>\n",
       "      <td>4</td>\n",
       "      <td>648</td>\n",
       "      <td>4.0</td>\n",
       "      <td>1042674800</td>\n",
       "    </tr>\n",
       "    <tr>\n",
       "      <th>62</th>\n",
       "      <td>4</td>\n",
       "      <td>1097</td>\n",
       "      <td>5.0</td>\n",
       "      <td>1042667925</td>\n",
       "    </tr>\n",
       "    <tr>\n",
       "      <th>63</th>\n",
       "      <td>4</td>\n",
       "      <td>1197</td>\n",
       "      <td>4.0</td>\n",
       "      <td>1042667956</td>\n",
       "    </tr>\n",
       "    <tr>\n",
       "      <th>...</th>\n",
       "      <td>...</td>\n",
       "      <td>...</td>\n",
       "      <td>...</td>\n",
       "      <td>...</td>\n",
       "    </tr>\n",
       "    <tr>\n",
       "      <th>116</th>\n",
       "      <td>4</td>\n",
       "      <td>4226</td>\n",
       "      <td>3.0</td>\n",
       "      <td>1042674412</td>\n",
       "    </tr>\n",
       "    <tr>\n",
       "      <th>117</th>\n",
       "      <td>4</td>\n",
       "      <td>4238</td>\n",
       "      <td>4.0</td>\n",
       "      <td>1042674819</td>\n",
       "    </tr>\n",
       "    <tr>\n",
       "      <th>118</th>\n",
       "      <td>4</td>\n",
       "      <td>4848</td>\n",
       "      <td>3.0</td>\n",
       "      <td>1042674425</td>\n",
       "    </tr>\n",
       "    <tr>\n",
       "      <th>119</th>\n",
       "      <td>4</td>\n",
       "      <td>4896</td>\n",
       "      <td>4.0</td>\n",
       "      <td>1042667845</td>\n",
       "    </tr>\n",
       "    <tr>\n",
       "      <th>120</th>\n",
       "      <td>4</td>\n",
       "      <td>5679</td>\n",
       "      <td>3.0</td>\n",
       "      <td>1042674579</td>\n",
       "    </tr>\n",
       "  </tbody>\n",
       "</table>\n",
       "<p>62 rows × 4 columns</p>\n",
       "</div>"
      ],
      "text/plain": [
       "     userId  movieId  rating   timestamp\n",
       "59        4      223     4.0  1042668576\n",
       "60        4      415     4.0  1042667925\n",
       "61        4      648     4.0  1042674800\n",
       "62        4     1097     5.0  1042667925\n",
       "63        4     1197     4.0  1042667956\n",
       "..      ...      ...     ...         ...\n",
       "116       4     4226     3.0  1042674412\n",
       "117       4     4238     4.0  1042674819\n",
       "118       4     4848     3.0  1042674425\n",
       "119       4     4896     4.0  1042667845\n",
       "120       4     5679     3.0  1042674579\n",
       "\n",
       "[62 rows x 4 columns]"
      ]
     },
     "execution_count": 32,
     "metadata": {},
     "output_type": "execute_result"
    }
   ],
   "source": [
    "ratingTr[ratingTr['userId']==4]"
   ]
  },
  {
   "cell_type": "code",
   "execution_count": 33,
   "metadata": {
    "colab": {},
    "colab_type": "code",
    "id": "eM0OuvO92dlK"
   },
   "outputs": [],
   "source": [
    "data_user = pd.merge(ratingTr, tags, how = 'left', on = ['userId','movieId','timestamp'])"
   ]
  },
  {
   "cell_type": "code",
   "execution_count": 34,
   "metadata": {
    "colab": {},
    "colab_type": "code",
    "id": "u_HRqaKi2dlQ",
    "outputId": "7ea5b818-289b-40c1-853b-a12c2aa3b150"
   },
   "outputs": [
    {
     "data": {
      "text/plain": [
       "Series([], Name: tag, dtype: int64)"
      ]
     },
     "execution_count": 34,
     "metadata": {},
     "output_type": "execute_result"
    }
   ],
   "source": [
    "data_user['tag'].value_counts()"
   ]
  },
  {
   "cell_type": "code",
   "execution_count": null,
   "metadata": {
    "colab": {},
    "colab_type": "code",
    "id": "lY6gzZiJOU7a",
    "outputId": "8467e502-37c6-418d-c3bc-cc83e945837c"
   },
   "outputs": [
    {
     "name": "stdout",
     "output_type": "stream",
     "text": [
      "Collecting scikit-surprise\n",
      "Note: you may need to restart the kernel to use updated packages.\n"
     ]
    },
    {
     "name": "stderr",
     "output_type": "stream",
     "text": [
      "  WARNING: Retrying (Retry(total=4, connect=None, read=None, redirect=None, status=None)) after connection broken by 'ProxyError('Cannot connect to proxy.', ConnectionResetError(10054, 'An existing connection was forcibly closed by the remote host', None, 10054, None))': /simple/scikit-surprise/\n",
      "  WARNING: Retrying (Retry(total=3, connect=None, read=None, redirect=None, status=None)) after connection broken by 'ProxyError('Cannot connect to proxy.', ConnectionResetError(10054, 'An existing connection was forcibly closed by the remote host', None, 10054, None))': /simple/scikit-surprise/\n",
      "  WARNING: Retrying (Retry(total=2, connect=None, read=None, redirect=None, status=None)) after connection broken by 'ProxyError('Cannot connect to proxy.', ConnectionResetError(10054, 'An existing connection was forcibly closed by the remote host', None, 10054, None))': /simple/scikit-surprise/\n",
      "  WARNING: Retrying (Retry(total=1, connect=None, read=None, redirect=None, status=None)) after connection broken by 'ProxyError('Cannot connect to proxy.', ConnectionResetError(10054, 'An existing connection was forcibly closed by the remote host', None, 10054, None))': /simple/scikit-surprise/\n",
      "  WARNING: Retrying (Retry(total=0, connect=None, read=None, redirect=None, status=None)) after connection broken by 'ProxyError('Cannot connect to proxy.', ConnectionResetError(10054, 'An existing connection was forcibly closed by the remote host', None, 10054, None))': /simple/scikit-surprise/\n",
      "  ERROR: Could not find a version that satisfies the requirement scikit-surprise (from versions: none)\n",
      "ERROR: No matching distribution found for scikit-surprise\n"
     ]
    }
   ],
   "source": [
    "pip install scikit-surprise"
   ]
  },
  {
   "cell_type": "markdown",
   "metadata": {
    "colab_type": "text",
    "id": "sYWe4STDjryi"
   },
   "source": [
    "# 2. EDA"
   ]
  },
  {
   "cell_type": "code",
   "execution_count": 35,
   "metadata": {
    "colab": {},
    "colab_type": "code",
    "id": "WhcfhzghkY-p"
   },
   "outputs": [],
   "source": [
    "import pandas as pd\n",
    "import seaborn as sns\n",
    "import scipy.stats as stats\n",
    "import matplotlib.pyplot as plt"
   ]
  },
  {
   "cell_type": "markdown",
   "metadata": {
    "colab_type": "text",
    "id": "WwTNhqY8kdqp"
   },
   "source": [
    "## 2.1 Number of Movies"
   ]
  },
  {
   "cell_type": "markdown",
   "metadata": {
    "colab_type": "text",
    "id": "AeRBsGMVknBk"
   },
   "source": [
    "### 2.1.1 Number of Movies by the year\n"
   ]
  },
  {
   "cell_type": "code",
   "execution_count": 36,
   "metadata": {
    "colab": {
     "base_uri": "https://localhost:8080/",
     "height": 315
    },
    "colab_type": "code",
    "id": "UzdnVQUUkiEj",
    "outputId": "47515c4a-e183-4811-e46b-d4a02bbbf59c"
   },
   "outputs": [
    {
     "data": {
      "text/plain": [
       "<matplotlib.axes._subplots.AxesSubplot at 0x1b7885d10>"
      ]
     },
     "execution_count": 36,
     "metadata": {},
     "output_type": "execute_result"
    },
    {
     "data": {
      "image/png": "[encoded data removed]",
      "text/plain": [
       "<Figure size 1296x360 with 1 Axes>"
      ]
     },
     "metadata": {
      "needs_background": "light"
     },
     "output_type": "display_data"
    }
   ],
   "source": [
    "import pandas as pd\n",
    "import numpy as np\n",
    "\n",
    "data_movies = pd.read_csv('data/themoviesdataset/data_movies.csv')\n",
    "\n",
    "# Create a new column to store the variable year\n",
    "data_movies['year'] = pd.to_datetime(data_movies['release_date'], \n",
    "                            errors='coerce').apply(lambda x: str(x).split('-')[0] if x != np.nan else np.nan)\n",
    "\n",
    "year_count = data_movies.groupby('year')['tmdb_id'].count()\n",
    "plt.figure(figsize=(18,5))\n",
    "year_count.plot()"
   ]
  },
  {
   "cell_type": "markdown",
   "metadata": {
    "colab_type": "text",
    "id": "Z0SOajbZCN38"
   },
   "source": [
    "The Dataset of about 45,000 movies available to us does not represent the entire corpus of movies released since the inception of cinema. However, it is reasonable to assume that it does include almost every major film released in Hollywood as well as other major film industries across the world (such as Bollywood in India). \n",
    "\n",
    "It can be seen from the chart that there is a sharp rise in the number of movies **starting the 1990s decade**."
   ]
  },
  {
   "cell_type": "markdown",
   "metadata": {
    "colab_type": "text",
    "id": "GyBi0py_CYRA"
   },
   "source": [
    "### 2.1.2 Movies released by the month"
   ]
  },
  {
   "cell_type": "code",
   "execution_count": 37,
   "metadata": {
    "colab": {},
    "colab_type": "code",
    "id": "-CN5vvLsCgZ9"
   },
   "outputs": [],
   "source": [
    "month_order = ['Jan', 'Feb', 'Mar', 'Apr', 'May', 'Jun', 'Jul', 'Aug', 'Sep', 'Oct', 'Nov', 'Dec']\n",
    "def get_month(x):\n",
    "    try:\n",
    "        return month_order[int(str(x).split('-')[1]) - 1]\n",
    "    except:\n",
    "        return np.nan"
   ]
  },
  {
   "cell_type": "code",
   "execution_count": 38,
   "metadata": {
    "colab": {
     "base_uri": "https://localhost:8080/",
     "height": 35
    },
    "colab_type": "code",
    "id": "_h9C24iXCwkC",
    "outputId": "884ffa97-c5fd-4470-a187-375faa807f8c"
   },
   "outputs": [
    {
     "data": {
      "text/plain": [
       "(46165, 18)"
      ]
     },
     "execution_count": 38,
     "metadata": {},
     "output_type": "execute_result"
    }
   ],
   "source": [
    "data_movies.shape"
   ]
  },
  {
   "cell_type": "code",
   "execution_count": 39,
   "metadata": {
    "colab": {},
    "colab_type": "code",
    "id": "nCE1NsV5Cjih"
   },
   "outputs": [],
   "source": [
    "data_movies['month'] = data_movies['release_date'].apply(get_month)\n",
    "\n",
    "data_movies['revenue'] = data_movies['revenue'].astype('float')\n",
    "data_movies['budget'] = data_movies['budget'].astype('float')\n",
    "\n",
    "data_movies['return'] = data_movies['revenue'] / data_movies['budget']"
   ]
  },
  {
   "cell_type": "code",
   "execution_count": 40,
   "metadata": {
    "colab": {
     "base_uri": "https://localhost:8080/",
     "height": 519
    },
    "colab_type": "code",
    "id": "kdNpMT89ElkC",
    "outputId": "d457831b-bb28-40a3-a77d-a8524926d75b"
   },
   "outputs": [
    {
     "data": {
      "text/plain": [
       "(-1.0, 25.0)"
      ]
     },
     "execution_count": 40,
     "metadata": {},
     "output_type": "execute_result"
    },
    {
     "data": {
      "image/png": "[encoded data removed]",
      "text/plain": [
       "<Figure size 1080x576 with 1 Axes>"
      ]
     },
     "metadata": {
      "needs_background": "light"
     },
     "output_type": "display_data"
    }
   ],
   "source": [
    "fig, ax = plt.subplots(nrows=1, ncols=1,figsize=(15, 8))\n",
    "sns.boxplot(x='month', y='return', data=data_movies[data_movies['return'].notnull()], ax=ax, order=month_order)\n",
    "ax.set_ylim([-1, 25])"
   ]
  },
  {
   "cell_type": "markdown",
   "metadata": {
    "colab_type": "text",
    "id": "jyjSY2gQEvzm"
   },
   "source": [
    "**The months of June, July, and December tend to yield the highest median returns.** This can be attributed to the fact that blockbuster movies are usually released in the summer when the kids are out of school and the parents are on vacation and therefore, the audience is more likely to spend their disposable income on entertainment.\n",
    "\n",
    "**January, September, and October are the least successful months on the aforementioned metrics**, which are the month of the school/college semester beginning, and hence a slight reduction in the consumption of movies."
   ]
  },
  {
   "cell_type": "markdown",
   "metadata": {
    "colab_type": "text",
    "id": "uhTx20zNE0aW"
   },
   "source": [
    "## 2.2 Keywords and Genres"
   ]
  },
  {
   "cell_type": "code",
   "execution_count": 42,
   "metadata": {
    "colab": {},
    "colab_type": "code",
    "id": "1ee5ntgwEtd-"
   },
   "outputs": [],
   "source": [
    "from wordcloud import WordCloud, STOPWORDS\n",
    "import pandas as pd\n",
    "\n",
    "data_movies = pd.read_csv('data/themoviesdataset/data_movies.csv')\n",
    "\n",
    "stopwords = set(STOPWORDS)\n",
    "\n",
    "def show_wordcloud(data, title = None):\n",
    "    data = [i.replace(\"'\", '') for i in data]\n",
    "    wordcloud = WordCloud(\n",
    "        background_color='white',\n",
    "        stopwords=stopwords,\n",
    "        max_words=120,\n",
    "        max_font_size=40, \n",
    "        scale=5,\n",
    "        width=500, height=300,\n",
    "        margin=2\n",
    "    ).generate(str(data))\n",
    "\n",
    "    fig = plt.figure(figsize=(10,7))\n",
    "    plt.axis('off')\n",
    "    \n",
    "    if title: \n",
    "        fig.suptitle(title, fontsize=20)\n",
    "        fig.subplots_adjust()\n",
    "        \n",
    "    plt.tight_layout(pad=0)\n",
    "    plt.imshow(wordcloud,interpolation=\"bilinear\")\n",
    "    plt.show()"
   ]
  },
  {
   "cell_type": "code",
   "execution_count": 43,
   "metadata": {
    "colab": {
     "base_uri": "https://localhost:8080/",
     "height": 233
    },
    "colab_type": "code",
    "id": "gwzzudoLHj2o",
    "outputId": "09d8fc0b-2b2d-47e0-c13a-c3154a01daa4"
   },
   "outputs": [
    {
     "data": {
      "text/plain": [
       "0        ['jealousy', 'toy', 'boy', 'friendship', 'frie...\n",
       "1        ['board game', 'disappearance', \"based on chil...\n",
       "2        ['fishing', 'best friend', 'duringcreditssting...\n",
       "3        ['based on novel', 'interracial relationship',...\n",
       "4        ['baby', 'midlife crisis', 'confidence', 'agin...\n",
       "                               ...                        \n",
       "46160                                      ['tragic love']\n",
       "46161                          ['artist', 'play', 'pinoy']\n",
       "46162                                                   []\n",
       "46163                                                   []\n",
       "46164                                                   []\n",
       "Name: keywordsTr, Length: 46165, dtype: object"
      ]
     },
     "execution_count": 43,
     "metadata": {},
     "output_type": "execute_result"
    }
   ],
   "source": [
    "data_movies['keywordsTr']"
   ]
  },
  {
   "cell_type": "code",
   "execution_count": 44,
   "metadata": {
    "colab": {
     "base_uri": "https://localhost:8080/",
     "height": 463
    },
    "colab_type": "code",
    "id": "Mj0qp8bvE6ib",
    "outputId": "eee46b1b-79ea-4c91-bb08-566a99def8ee"
   },
   "outputs": [
    {
     "data": {
      "image/png": "[encoded data removed]",
      "text/plain": [
       "<Figure size 720x504 with 1 Axes>"
      ]
     },
     "metadata": {
      "needs_background": "light"
     },
     "output_type": "display_data"
    }
   ],
   "source": [
    "show_wordcloud(data_movies['keywordsTr'])"
   ]
  },
  {
   "cell_type": "markdown",
   "metadata": {
    "colab_type": "text",
    "id": "Yuy0LMbvJg3G"
   },
   "source": [
    "## 2.3 Popularity, Votes and Revenues\n"
   ]
  },
  {
   "cell_type": "markdown",
   "metadata": {
    "colab_type": "text",
    "id": "DgeqMx6eJqnl"
   },
   "source": [
    "### 2.3.1 Most Popular Movies by Popularity Score"
   ]
  },
  {
   "cell_type": "code",
   "execution_count": 45,
   "metadata": {
    "colab": {},
    "colab_type": "code",
    "id": "07uIupGvL7bk",
    "outputId": "0f2555b7-9547-43c6-f30d-8da576f53e21"
   },
   "outputs": [
    {
     "data": {
      "text/plain": [
       "count    46165.000000\n",
       "mean         2.912000\n",
       "std          5.968457\n",
       "min          0.000000\n",
       "25%          0.387594\n",
       "50%          1.127008\n",
       "75%          3.662290\n",
       "max        547.488298\n",
       "Name: popularity, dtype: float64"
      ]
     },
     "execution_count": 45,
     "metadata": {},
     "output_type": "execute_result"
    }
   ],
   "source": [
    "import pandas as pd\n",
    "\n",
    "data_movies = pd.read_csv('data/themoviesdataset/data_movies.csv')\n",
    "# Create a new column to store the variable year\n",
    "data_movies['year'] = pd.to_datetime(data_movies['release_date'], \n",
    "                            errors='coerce').apply(lambda x: str(x).split('-')[0] if x != np.nan else np.nan)\n",
    "data_movies['popularity'].describe()"
   ]
  },
  {
   "cell_type": "code",
   "execution_count": 46,
   "metadata": {
    "colab": {},
    "colab_type": "code",
    "id": "YnHuVC4tL9WH",
    "outputId": "58da10b1-22aa-4586-b21c-2f0cfbcbd86a"
   },
   "outputs": [
    {
     "data": {
      "text/plain": [
       "<matplotlib.axes._subplots.AxesSubplot at 0x1b7958950>"
      ]
     },
     "execution_count": 46,
     "metadata": {},
     "output_type": "execute_result"
    },
    {
     "data": {
      "image/png": "[encoded data removed]",
      "text/plain": [
       "<Figure size 432x288 with 1 Axes>"
      ]
     },
     "metadata": {
      "needs_background": "light"
     },
     "output_type": "display_data"
    }
   ],
   "source": [
    "data_movies['popularity'].plot(logy=True, kind='hist', edgecolor='black')"
   ]
  },
  {
   "cell_type": "markdown",
   "metadata": {
    "colab_type": "text",
    "id": "ohwOHZWTJ53i"
   },
   "source": [
    "The popularity seems to be an extremely skewed feature, with a mean of only **2.9** but maximum values reaching as high as **547**. However, as can be seen from the distribution plot, almost all movies have a popularity score less than 10 (the 75th percentile is at 3.678902)."
   ]
  },
  {
   "cell_type": "code",
   "execution_count": 47,
   "metadata": {
    "colab": {},
    "colab_type": "code",
    "id": "HJ_Ut1eoL-6y",
    "outputId": "2134ccc6-713e-42db-d29e-b4e31f8c9470"
   },
   "outputs": [
    {
     "data": {
      "text/html": [
       "<div>\n",
       "<style scoped>\n",
       "    .dataframe tbody tr th:only-of-type {\n",
       "        vertical-align: middle;\n",
       "    }\n",
       "\n",
       "    .dataframe tbody tr th {\n",
       "        vertical-align: top;\n",
       "    }\n",
       "\n",
       "    .dataframe thead th {\n",
       "        text-align: right;\n",
       "    }\n",
       "</style>\n",
       "<table border=\"1\" class=\"dataframe\">\n",
       "  <thead>\n",
       "    <tr style=\"text-align: right;\">\n",
       "      <th></th>\n",
       "      <th>title</th>\n",
       "      <th>popularity</th>\n",
       "      <th>year</th>\n",
       "    </tr>\n",
       "  </thead>\n",
       "  <tbody>\n",
       "    <tr>\n",
       "      <th>30644</th>\n",
       "      <td>Minions</td>\n",
       "      <td>547.488298</td>\n",
       "      <td>2015</td>\n",
       "    </tr>\n",
       "    <tr>\n",
       "      <th>33268</th>\n",
       "      <td>Wonder Woman</td>\n",
       "      <td>294.337037</td>\n",
       "      <td>2017</td>\n",
       "    </tr>\n",
       "    <tr>\n",
       "      <th>42981</th>\n",
       "      <td>Beauty and the Beast</td>\n",
       "      <td>287.253654</td>\n",
       "      <td>2017</td>\n",
       "    </tr>\n",
       "    <tr>\n",
       "      <th>44377</th>\n",
       "      <td>Baby Driver</td>\n",
       "      <td>228.032744</td>\n",
       "      <td>2017</td>\n",
       "    </tr>\n",
       "    <tr>\n",
       "      <th>24439</th>\n",
       "      <td>Big Hero 6</td>\n",
       "      <td>213.849907</td>\n",
       "      <td>2014</td>\n",
       "    </tr>\n",
       "    <tr>\n",
       "      <th>26551</th>\n",
       "      <td>Deadpool</td>\n",
       "      <td>187.860492</td>\n",
       "      <td>2016</td>\n",
       "    </tr>\n",
       "    <tr>\n",
       "      <th>26552</th>\n",
       "      <td>Guardians of the Galaxy Vol. 2</td>\n",
       "      <td>185.330992</td>\n",
       "      <td>2017</td>\n",
       "    </tr>\n",
       "    <tr>\n",
       "      <th>14577</th>\n",
       "      <td>Avatar</td>\n",
       "      <td>185.070892</td>\n",
       "      <td>2009</td>\n",
       "    </tr>\n",
       "    <tr>\n",
       "      <th>24337</th>\n",
       "      <td>John Wick</td>\n",
       "      <td>183.870374</td>\n",
       "      <td>2014</td>\n",
       "    </tr>\n",
       "    <tr>\n",
       "      <th>23666</th>\n",
       "      <td>Gone Girl</td>\n",
       "      <td>154.801009</td>\n",
       "      <td>2014</td>\n",
       "    </tr>\n",
       "  </tbody>\n",
       "</table>\n",
       "</div>"
      ],
      "text/plain": [
       "                                title  popularity  year\n",
       "30644                         Minions  547.488298  2015\n",
       "33268                    Wonder Woman  294.337037  2017\n",
       "42981            Beauty and the Beast  287.253654  2017\n",
       "44377                     Baby Driver  228.032744  2017\n",
       "24439                      Big Hero 6  213.849907  2014\n",
       "26551                        Deadpool  187.860492  2016\n",
       "26552  Guardians of the Galaxy Vol. 2  185.330992  2017\n",
       "14577                          Avatar  185.070892  2009\n",
       "24337                       John Wick  183.870374  2014\n",
       "23666                       Gone Girl  154.801009  2014"
      ]
     },
     "execution_count": 47,
     "metadata": {},
     "output_type": "execute_result"
    }
   ],
   "source": [
    "data_movies[['title', 'popularity', 'year']].sort_values('popularity', ascending=False).head(10)"
   ]
  },
  {
   "cell_type": "markdown",
   "metadata": {
    "colab_type": "text",
    "id": "3qQIXpxIKFzD"
   },
   "source": [
    "**Minions** is the most popular movie and the value of `popularity` is much ahead of the second."
   ]
  },
  {
   "cell_type": "markdown",
   "metadata": {
    "colab_type": "text",
    "id": "gOezw2SwKIyl"
   },
   "source": [
    "### 2.3.2 Most Voted on Movies"
   ]
  },
  {
   "cell_type": "code",
   "execution_count": 48,
   "metadata": {
    "colab": {},
    "colab_type": "code",
    "id": "lAiN3u8rMJ_-",
    "outputId": "f6d1506a-35bd-4525-c5f4-d836433784d6"
   },
   "outputs": [
    {
     "name": "stdout",
     "output_type": "stream",
     "text": [
      "count    46165.000000\n",
      "mean       109.150070\n",
      "std        488.734401\n",
      "min          0.000000\n",
      "25%          3.000000\n",
      "50%         10.000000\n",
      "75%         34.000000\n",
      "max      14075.000000\n",
      "Name: vote_count, dtype: float64\n"
     ]
    },
    {
     "data": {
      "text/plain": [
       "<matplotlib.axes._subplots.AxesSubplot at 0x1b41ebcd0>"
      ]
     },
     "execution_count": 48,
     "metadata": {},
     "output_type": "execute_result"
    },
    {
     "data": {
      "image/png": "[encoded data removed]",
      "text/plain": [
       "<Figure size 432x288 with 1 Axes>"
      ]
     },
     "metadata": {
      "needs_background": "light"
     },
     "output_type": "display_data"
    }
   ],
   "source": [
    "print(data_movies['vote_count'].describe())\n",
    "data_movies['vote_count'].plot(logy=True, kind='hist', edgecolor='black')"
   ]
  },
  {
   "cell_type": "code",
   "execution_count": 49,
   "metadata": {
    "colab": {},
    "colab_type": "code",
    "id": "8dCGjik3MBSO",
    "outputId": "ab07cad3-ad40-48f1-f75d-4b5f4af8e5dc"
   },
   "outputs": [
    {
     "data": {
      "text/html": [
       "<div>\n",
       "<style scoped>\n",
       "    .dataframe tbody tr th:only-of-type {\n",
       "        vertical-align: middle;\n",
       "    }\n",
       "\n",
       "    .dataframe tbody tr th {\n",
       "        vertical-align: top;\n",
       "    }\n",
       "\n",
       "    .dataframe thead th {\n",
       "        text-align: right;\n",
       "    }\n",
       "</style>\n",
       "<table border=\"1\" class=\"dataframe\">\n",
       "  <thead>\n",
       "    <tr style=\"text-align: right;\">\n",
       "      <th></th>\n",
       "      <th>title</th>\n",
       "      <th>vote_count</th>\n",
       "      <th>year</th>\n",
       "    </tr>\n",
       "  </thead>\n",
       "  <tbody>\n",
       "    <tr>\n",
       "      <th>15504</th>\n",
       "      <td>Inception</td>\n",
       "      <td>14075.0</td>\n",
       "      <td>2010</td>\n",
       "    </tr>\n",
       "    <tr>\n",
       "      <th>12485</th>\n",
       "      <td>The Dark Knight</td>\n",
       "      <td>12269.0</td>\n",
       "      <td>2008</td>\n",
       "    </tr>\n",
       "    <tr>\n",
       "      <th>14577</th>\n",
       "      <td>Avatar</td>\n",
       "      <td>12114.0</td>\n",
       "      <td>2009</td>\n",
       "    </tr>\n",
       "    <tr>\n",
       "      <th>17836</th>\n",
       "      <td>The Avengers</td>\n",
       "      <td>12000.0</td>\n",
       "      <td>2012</td>\n",
       "    </tr>\n",
       "    <tr>\n",
       "      <th>26551</th>\n",
       "      <td>Deadpool</td>\n",
       "      <td>11444.0</td>\n",
       "      <td>2016</td>\n",
       "    </tr>\n",
       "    <tr>\n",
       "      <th>22871</th>\n",
       "      <td>Interstellar</td>\n",
       "      <td>11187.0</td>\n",
       "      <td>2014</td>\n",
       "    </tr>\n",
       "    <tr>\n",
       "      <th>20050</th>\n",
       "      <td>Django Unchained</td>\n",
       "      <td>10297.0</td>\n",
       "      <td>2012</td>\n",
       "    </tr>\n",
       "    <tr>\n",
       "      <th>23742</th>\n",
       "      <td>Guardians of the Galaxy</td>\n",
       "      <td>10014.0</td>\n",
       "      <td>2014</td>\n",
       "    </tr>\n",
       "    <tr>\n",
       "      <th>2845</th>\n",
       "      <td>Fight Club</td>\n",
       "      <td>9678.0</td>\n",
       "      <td>1999</td>\n",
       "    </tr>\n",
       "    <tr>\n",
       "      <th>18252</th>\n",
       "      <td>The Hunger Games</td>\n",
       "      <td>9634.0</td>\n",
       "      <td>2012</td>\n",
       "    </tr>\n",
       "  </tbody>\n",
       "</table>\n",
       "</div>"
      ],
      "text/plain": [
       "                         title  vote_count  year\n",
       "15504                Inception     14075.0  2010\n",
       "12485          The Dark Knight     12269.0  2008\n",
       "14577                   Avatar     12114.0  2009\n",
       "17836             The Avengers     12000.0  2012\n",
       "26551                 Deadpool     11444.0  2016\n",
       "22871             Interstellar     11187.0  2014\n",
       "20050         Django Unchained     10297.0  2012\n",
       "23742  Guardians of the Galaxy     10014.0  2014\n",
       "2845                Fight Club      9678.0  1999\n",
       "18252         The Hunger Games      9634.0  2012"
      ]
     },
     "execution_count": 49,
     "metadata": {},
     "output_type": "execute_result"
    }
   ],
   "source": [
    "data_movies[['title', 'vote_count', 'year']].sort_values('vote_count', ascending=False).head(10)"
   ]
  },
  {
   "cell_type": "markdown",
   "metadata": {
    "colab_type": "text",
    "id": "qsACa5U4Ki0V"
   },
   "source": [
    "**Inception** and **The Dark Knight**, two critically acclaimed and commercially successful *Christopher Nolan* movies figure at the top of our chart."
   ]
  },
  {
   "cell_type": "code",
   "execution_count": 50,
   "metadata": {
    "colab": {},
    "colab_type": "code",
    "id": "ZI8XtUgHMDA7",
    "outputId": "3b14b576-a2da-468d-dc9f-4c36c4e7f765"
   },
   "outputs": [
    {
     "data": {
      "text/plain": [
       "count    43112.000000\n",
       "mean         6.014764\n",
       "std          1.253522\n",
       "min          0.500000\n",
       "25%          5.300000\n",
       "50%          6.100000\n",
       "75%          6.800000\n",
       "max         10.000000\n",
       "Name: vote_average, dtype: float64"
      ]
     },
     "execution_count": 50,
     "metadata": {},
     "output_type": "execute_result"
    }
   ],
   "source": [
    "data_movies['vote_average'] = data_movies['vote_average'].replace(0, np.nan)\n",
    "data_movies['vote_average'].describe()"
   ]
  },
  {
   "cell_type": "code",
   "execution_count": 51,
   "metadata": {
    "colab": {},
    "colab_type": "code",
    "id": "X8stxzNdMEC8",
    "outputId": "70ece7d7-82ce-4a86-83a9-4d304e0a9617"
   },
   "outputs": [
    {
     "data": {
      "text/plain": [
       "<matplotlib.axes._subplots.AxesSubplot at 0x1b7c08990>"
      ]
     },
     "execution_count": 51,
     "metadata": {},
     "output_type": "execute_result"
    },
    {
     "data": {
      "image/png": "[encoded data removed]",
      "text/plain": [
       "<Figure size 432x288 with 1 Axes>"
      ]
     },
     "metadata": {
      "needs_background": "light"
     },
     "output_type": "display_data"
    }
   ],
   "source": [
    "sns.distplot(data_movies['vote_average'].fillna(data_movies['vote_average'].median()))"
   ]
  },
  {
   "cell_type": "markdown",
   "metadata": {
    "colab_type": "text",
    "id": "Gh-GLhC5KtiZ"
   },
   "source": [
    "It appears that these movie viewers are extremely strict in their ratings. **The mean vote is only a 6 on a scale of 10.** Almost half the movies have a rating of less than or equal to 6. In general, the `vote_average` is normally distributed."
   ]
  },
  {
   "cell_type": "markdown",
   "metadata": {
    "colab_type": "text",
    "id": "_uVY7QPUKyLw"
   },
   "source": [
    "### 2.3.3 Most Critically Acclaimed Movies"
   ]
  },
  {
   "cell_type": "markdown",
   "metadata": {
    "colab_type": "text",
    "id": "q9voVKeWK8Y7"
   },
   "source": [
    "Only consider movies where `vote_count` is greater than 2500 to find out the most acclaimed movies."
   ]
  },
  {
   "cell_type": "code",
   "execution_count": 52,
   "metadata": {
    "colab": {},
    "colab_type": "code",
    "id": "_ntqx7JiMFl2",
    "outputId": "04330da7-173c-4698-bacf-1be60b42d154"
   },
   "outputs": [
    {
     "data": {
      "text/html": [
       "<div>\n",
       "<style scoped>\n",
       "    .dataframe tbody tr th:only-of-type {\n",
       "        vertical-align: middle;\n",
       "    }\n",
       "\n",
       "    .dataframe tbody tr th {\n",
       "        vertical-align: top;\n",
       "    }\n",
       "\n",
       "    .dataframe thead th {\n",
       "        text-align: right;\n",
       "    }\n",
       "</style>\n",
       "<table border=\"1\" class=\"dataframe\">\n",
       "  <thead>\n",
       "    <tr style=\"text-align: right;\">\n",
       "      <th></th>\n",
       "      <th>title</th>\n",
       "      <th>vote_average</th>\n",
       "      <th>vote_count</th>\n",
       "      <th>year</th>\n",
       "    </tr>\n",
       "  </thead>\n",
       "  <tbody>\n",
       "    <tr>\n",
       "      <th>313</th>\n",
       "      <td>The Shawshank Redemption</td>\n",
       "      <td>8.5</td>\n",
       "      <td>8358.0</td>\n",
       "      <td>1994</td>\n",
       "    </tr>\n",
       "    <tr>\n",
       "      <th>833</th>\n",
       "      <td>The Godfather</td>\n",
       "      <td>8.5</td>\n",
       "      <td>6024.0</td>\n",
       "      <td>1972</td>\n",
       "    </tr>\n",
       "    <tr>\n",
       "      <th>2845</th>\n",
       "      <td>Fight Club</td>\n",
       "      <td>8.3</td>\n",
       "      <td>9678.0</td>\n",
       "      <td>1999</td>\n",
       "    </tr>\n",
       "    <tr>\n",
       "      <th>12485</th>\n",
       "      <td>The Dark Knight</td>\n",
       "      <td>8.3</td>\n",
       "      <td>12269.0</td>\n",
       "      <td>2008</td>\n",
       "    </tr>\n",
       "    <tr>\n",
       "      <th>23664</th>\n",
       "      <td>Whiplash</td>\n",
       "      <td>8.3</td>\n",
       "      <td>4376.0</td>\n",
       "      <td>2014</td>\n",
       "    </tr>\n",
       "    <tr>\n",
       "      <th>1182</th>\n",
       "      <td>The Godfather: Part II</td>\n",
       "      <td>8.3</td>\n",
       "      <td>3418.0</td>\n",
       "      <td>1974</td>\n",
       "    </tr>\n",
       "    <tr>\n",
       "      <th>521</th>\n",
       "      <td>Schindler's List</td>\n",
       "      <td>8.3</td>\n",
       "      <td>4436.0</td>\n",
       "      <td>1993</td>\n",
       "    </tr>\n",
       "    <tr>\n",
       "      <th>5480</th>\n",
       "      <td>Spirited Away</td>\n",
       "      <td>8.3</td>\n",
       "      <td>3968.0</td>\n",
       "      <td>2001</td>\n",
       "    </tr>\n",
       "    <tr>\n",
       "      <th>1156</th>\n",
       "      <td>One Flew Over the Cuckoo's Nest</td>\n",
       "      <td>8.3</td>\n",
       "      <td>3001.0</td>\n",
       "      <td>1975</td>\n",
       "    </tr>\n",
       "    <tr>\n",
       "      <th>291</th>\n",
       "      <td>Pulp Fiction</td>\n",
       "      <td>8.3</td>\n",
       "      <td>8670.0</td>\n",
       "      <td>1994</td>\n",
       "    </tr>\n",
       "  </tbody>\n",
       "</table>\n",
       "</div>"
      ],
      "text/plain": [
       "                                 title  vote_average  vote_count  year\n",
       "313           The Shawshank Redemption           8.5      8358.0  1994\n",
       "833                      The Godfather           8.5      6024.0  1972\n",
       "2845                        Fight Club           8.3      9678.0  1999\n",
       "12485                  The Dark Knight           8.3     12269.0  2008\n",
       "23664                         Whiplash           8.3      4376.0  2014\n",
       "1182            The Godfather: Part II           8.3      3418.0  1974\n",
       "521                   Schindler's List           8.3      4436.0  1993\n",
       "5480                     Spirited Away           8.3      3968.0  2001\n",
       "1156   One Flew Over the Cuckoo's Nest           8.3      3001.0  1975\n",
       "291                       Pulp Fiction           8.3      8670.0  1994"
      ]
     },
     "execution_count": 52,
     "metadata": {},
     "output_type": "execute_result"
    }
   ],
   "source": [
    "data_movies[data_movies['vote_count'] > 2500][['title', 'vote_average', 'vote_count' ,'year']].sort_values('vote_average',ascending=False).head(10)"
   ]
  },
  {
   "cell_type": "markdown",
   "metadata": {
    "colab_type": "text",
    "id": "ZIdctJlDLjfU"
   },
   "source": [
    "**The Shawshank Redemption** and **The Godfather** are the two most critically acclaimed movies in the TMDB Database, and they are also common on other top rating lists."
   ]
  },
  {
   "cell_type": "code",
   "execution_count": 53,
   "metadata": {
    "colab": {},
    "colab_type": "code",
    "id": "bHLYZxDNOU9T",
    "outputId": "c84af55a-041a-440c-f415-df08ae5e98ce"
   },
   "outputs": [
    {
     "data": {
      "text/plain": [
       "<seaborn.axisgrid.JointGrid at 0x1b44e3410>"
      ]
     },
     "execution_count": 53,
     "metadata": {},
     "output_type": "execute_result"
    },
    {
     "data": {
      "image/png": "[encoded data removed]",
      "text/plain": [
       "<Figure size 432x432 with 3 Axes>"
      ]
     },
     "metadata": {
      "needs_background": "light"
     },
     "output_type": "display_data"
    }
   ],
   "source": [
    "sns.jointplot(x='vote_average', y='popularity', data=data_movies, kind=\"reg\").annotate(stats.pearsonr)"
   ]
  },
  {
   "cell_type": "markdown",
   "metadata": {
    "colab_type": "text",
    "id": "7pzQ1v1JOU9Z"
   },
   "source": [
    "However, it is surprising that there is almost no correlation between `popularity` and `vote_average` from the **Pearsonr Correlation 0.096**."
   ]
  },
  {
   "cell_type": "markdown",
   "metadata": {
    "colab_type": "text",
    "id": "Oryi0-ULOU9Z"
   },
   "source": [
    "### 2.3.4 Highest Grossing Films of All Time"
   ]
  },
  {
   "cell_type": "code",
   "execution_count": 54,
   "metadata": {
    "colab": {},
    "colab_type": "code",
    "id": "n8QT8Mb3OU9a",
    "outputId": "71852f26-eb1a-4cd5-8fd3-363cdb689791"
   },
   "outputs": [
    {
     "data": {
      "text/html": [
       "<div>\n",
       "<style scoped>\n",
       "    .dataframe tbody tr th:only-of-type {\n",
       "        vertical-align: middle;\n",
       "    }\n",
       "\n",
       "    .dataframe tbody tr th {\n",
       "        vertical-align: top;\n",
       "    }\n",
       "\n",
       "    .dataframe thead th {\n",
       "        text-align: right;\n",
       "    }\n",
       "</style>\n",
       "<table border=\"1\" class=\"dataframe\">\n",
       "  <thead>\n",
       "    <tr style=\"text-align: right;\">\n",
       "      <th></th>\n",
       "      <th>genres</th>\n",
       "      <th>tmdb_id</th>\n",
       "      <th>imdb_id</th>\n",
       "      <th>overview</th>\n",
       "      <th>popularity</th>\n",
       "      <th>release_date</th>\n",
       "      <th>revenue</th>\n",
       "      <th>budget</th>\n",
       "      <th>runtime</th>\n",
       "      <th>status</th>\n",
       "      <th>title</th>\n",
       "      <th>vote_average</th>\n",
       "      <th>vote_count</th>\n",
       "      <th>poster_path</th>\n",
       "      <th>cast</th>\n",
       "      <th>director</th>\n",
       "      <th>keywordsTr</th>\n",
       "      <th>year</th>\n",
       "    </tr>\n",
       "  </thead>\n",
       "  <tbody>\n",
       "    <tr>\n",
       "      <th>0</th>\n",
       "      <td>['Animation', 'Comedy', 'Family']</td>\n",
       "      <td>862</td>\n",
       "      <td>tt0114709</td>\n",
       "      <td>Led by Woody, Andy's toys live happily in his ...</td>\n",
       "      <td>21.946943</td>\n",
       "      <td>1995-10-30</td>\n",
       "      <td>373554033.0</td>\n",
       "      <td>30000000</td>\n",
       "      <td>81.0</td>\n",
       "      <td>Released</td>\n",
       "      <td>Toy Story</td>\n",
       "      <td>7.7</td>\n",
       "      <td>5415.0</td>\n",
       "      <td>/rhIRbceoE9lR4veEXuwCC2wARtG.jpg</td>\n",
       "      <td>['Tom Hanks', 'Tim Allen', 'Don Rickles']</td>\n",
       "      <td>John Lasseter</td>\n",
       "      <td>['jealousy', 'toy', 'boy', 'friendship', 'frie...</td>\n",
       "      <td>1995</td>\n",
       "    </tr>\n",
       "    <tr>\n",
       "      <th>1</th>\n",
       "      <td>['Adventure', 'Fantasy', 'Family']</td>\n",
       "      <td>8844</td>\n",
       "      <td>tt0113497</td>\n",
       "      <td>When siblings Judy and Peter discover an encha...</td>\n",
       "      <td>17.015539</td>\n",
       "      <td>1995-12-15</td>\n",
       "      <td>262797249.0</td>\n",
       "      <td>65000000</td>\n",
       "      <td>104.0</td>\n",
       "      <td>Released</td>\n",
       "      <td>Jumanji</td>\n",
       "      <td>6.9</td>\n",
       "      <td>2413.0</td>\n",
       "      <td>/vzmL6fP7aPKNKPRTFnZmiUfciyV.jpg</td>\n",
       "      <td>['Robin Williams', 'Jonathan Hyde', 'Kirsten D...</td>\n",
       "      <td>Joe Johnston</td>\n",
       "      <td>['board game', 'disappearance', \"based on chil...</td>\n",
       "      <td>1995</td>\n",
       "    </tr>\n",
       "  </tbody>\n",
       "</table>\n",
       "</div>"
      ],
      "text/plain": [
       "                               genres  tmdb_id    imdb_id  \\\n",
       "0   ['Animation', 'Comedy', 'Family']      862  tt0114709   \n",
       "1  ['Adventure', 'Fantasy', 'Family']     8844  tt0113497   \n",
       "\n",
       "                                            overview  popularity release_date  \\\n",
       "0  Led by Woody, Andy's toys live happily in his ...   21.946943   1995-10-30   \n",
       "1  When siblings Judy and Peter discover an encha...   17.015539   1995-12-15   \n",
       "\n",
       "       revenue    budget runtime    status      title  vote_average  \\\n",
       "0  373554033.0  30000000    81.0  Released  Toy Story           7.7   \n",
       "1  262797249.0  65000000   104.0  Released    Jumanji           6.9   \n",
       "\n",
       "   vote_count                       poster_path  \\\n",
       "0      5415.0  /rhIRbceoE9lR4veEXuwCC2wARtG.jpg   \n",
       "1      2413.0  /vzmL6fP7aPKNKPRTFnZmiUfciyV.jpg   \n",
       "\n",
       "                                                cast       director  \\\n",
       "0          ['Tom Hanks', 'Tim Allen', 'Don Rickles']  John Lasseter   \n",
       "1  ['Robin Williams', 'Jonathan Hyde', 'Kirsten D...   Joe Johnston   \n",
       "\n",
       "                                          keywordsTr  year  \n",
       "0  ['jealousy', 'toy', 'boy', 'friendship', 'frie...  1995  \n",
       "1  ['board game', 'disappearance', \"based on chil...  1995  "
      ]
     },
     "execution_count": 54,
     "metadata": {},
     "output_type": "execute_result"
    }
   ],
   "source": [
    "data_movies.head(2)"
   ]
  },
  {
   "cell_type": "code",
   "execution_count": 55,
   "metadata": {
    "colab": {},
    "colab_type": "code",
    "id": "BGMS2jAmOU9e",
    "outputId": "6d2b0c39-ec53-4269-d806-a595c3ff48b8"
   },
   "outputs": [
    {
     "data": {
      "text/html": [
       "<table border=\"1\" class=\"dataframe\">\n",
       "  <thead>\n",
       "    <tr style=\"text-align: right;\">\n",
       "      <th></th>\n",
       "      <th>poster_path</th>\n",
       "      <th>title</th>\n",
       "      <th>revenue</th>\n",
       "      <th>year</th>\n",
       "    </tr>\n",
       "  </thead>\n",
       "  <tbody>\n",
       "    <tr>\n",
       "      <th>14577</th>\n",
       "      <td><img src='http://image.tmdb.org/t/p/w185//kmcqlZGaSh20zpTbuoF0Cdn07dT.jpg' style='height:100px;'></td>\n",
       "      <td>Avatar</td>\n",
       "      <td>2.787965e+09</td>\n",
       "      <td>2009</td>\n",
       "    </tr>\n",
       "    <tr>\n",
       "      <th>26544</th>\n",
       "      <td><img src='http://image.tmdb.org/t/p/w185//weUSwMdQIa3NaXVzwUoIIcAi85d.jpg' style='height:100px;'></td>\n",
       "      <td>Star Wars: The Force Awakens</td>\n",
       "      <td>2.068224e+09</td>\n",
       "      <td>2015</td>\n",
       "    </tr>\n",
       "    <tr>\n",
       "      <th>1642</th>\n",
       "      <td><img src='http://image.tmdb.org/t/p/w185//kHXEpyfl6zqn8a6YuozZUujufXf.jpg' style='height:100px;'></td>\n",
       "      <td>Titanic</td>\n",
       "      <td>1.845034e+09</td>\n",
       "      <td>1997</td>\n",
       "    </tr>\n",
       "    <tr>\n",
       "      <th>17836</th>\n",
       "      <td><img src='http://image.tmdb.org/t/p/w185//cezWGskPY5x7GaglTTRN4Fugfb8.jpg' style='height:100px;'></td>\n",
       "      <td>The Avengers</td>\n",
       "      <td>1.519558e+09</td>\n",
       "      <td>2012</td>\n",
       "    </tr>\n",
       "    <tr>\n",
       "      <th>25068</th>\n",
       "      <td><img src='http://image.tmdb.org/t/p/w185//jjBgi2r5cRt36xF6iNUEhzscEcb.jpg' style='height:100px;'></td>\n",
       "      <td>Jurassic World</td>\n",
       "      <td>1.513529e+09</td>\n",
       "      <td>2015</td>\n",
       "    </tr>\n",
       "    <tr>\n",
       "      <th>28794</th>\n",
       "      <td><img src='http://image.tmdb.org/t/p/w185//dCgm7efXDmiABSdWDHBDBx2jwmn.jpg' style='height:100px;'></td>\n",
       "      <td>Furious 7</td>\n",
       "      <td>1.506249e+09</td>\n",
       "      <td>2015</td>\n",
       "    </tr>\n",
       "  </tbody>\n",
       "</table>"
      ],
      "text/plain": [
       "<IPython.core.display.HTML object>"
      ]
     },
     "execution_count": 55,
     "metadata": {},
     "output_type": "execute_result"
    }
   ],
   "source": [
    "from IPython.display import Image, HTML\n",
    "# Load poster from the TMDB website\n",
    "base_poster_url = 'http://image.tmdb.org/t/p/w185/'\n",
    "data_movies['poster_path'] = \"<img src='\" + base_poster_url + data_movies['poster_path'] + \"' style='height:100px;'>\"\n",
    "\n",
    "gross_top = data_movies[['poster_path', 'title', 'revenue', 'year']].sort_values('revenue', ascending=False).head(6)\n",
    "pd.set_option('display.max_colwidth', 100)\n",
    "HTML(gross_top.to_html(escape=False))"
   ]
  },
  {
   "cell_type": "code",
   "execution_count": 57,
   "metadata": {
    "colab": {},
    "colab_type": "code",
    "id": "f-vPfChAOU9n",
    "outputId": "5ca5b94b-50c2-4f7d-ea70-c1a7fc079f90"
   },
   "outputs": [
    {
     "data": {
      "image/png": "[encoded data removed]",
      "text/plain": [
       "<Figure size 1296x360 with 1 Axes>"
      ]
     },
     "metadata": {
      "needs_background": "light"
     },
     "output_type": "display_data"
    }
   ],
   "source": [
    "plt.figure(figsize=(18,5))\n",
    "year_revenue = data_movies[(data_movies['revenue'].notnull()) & (data_movies['year'] != 'NaT')].groupby('year')['revenue'].max()\n",
    "plt.plot(year_revenue.index, year_revenue)\n",
    "plt.xticks(np.arange(1874, 2024, 10.0))\n",
    "plt.autoscale()\n",
    "plt.ylabel('Max Movie Revenue of the Year')\n",
    "plt.xlabel('Year')\n",
    "plt.show()"
   ]
  },
  {
   "cell_type": "markdown",
   "metadata": {
    "colab_type": "text",
    "id": "q3bRD2yBOU9r"
   },
   "source": [
    "As can be seen from the figure, the maximum gross has steadily risen over the years. The world of movies broke the 1 billion dollar mark in 1997 with the release of **Titanic**. It took another 12 years to break the 2 billion dollar mark with **Avatar**. Both these movies were directed by **James Cameron**."
   ]
  },
  {
   "cell_type": "markdown",
   "metadata": {
    "colab_type": "text",
    "id": "K-e_jC7W2dlX"
   },
   "source": [
    "# 3. Model Building\n",
    "Basiclly there are 3 kinds of recommendation system:\n",
    "\n",
    "- Demographic Filtering: They offer generalized recommendations to every user, based on movie popularity and/or genre. The System recommends the same movies to users with similar demographic features. Since each user is different , this approach is considered to be too simple. The basic idea behind this system is that movies that are more popular and critically acclaimed will have a higher probability of being liked by the average audience.\n",
    "- Content Based Filtering: They suggest similar items based on a particular item. This system uses item metadata, such as genre, director, description, actors, etc. for movies, to make these recommendations. The general idea behind these recommender systems is that if a person liked a particular item, he or she will also like an item that is similar to it.\n",
    "- Collaborative Filtering: This system matches persons with similar interests and provides recommendations based on this matching. Collaborative filters do not require item metadata like its content-based counterparts.\n",
    "\n",
    "Reference: [Getting start with a movie recommendation system](https://www.kaggle.com/ibtesama/getting-started-with-a-movie-recommendation-system)"
   ]
  },
  {
   "cell_type": "markdown",
   "metadata": {
    "colab_type": "text",
    "id": "MQiCeVn-2dlb"
   },
   "source": [
    "## 2.1 Content Based Filtering System\n",
    "When recommending a movie to a certain user, the first intuitive idea is to find the movies which are similar to the movies that the user previous watched. The fundation of this concept is that if one user has watched a movie before, it is very possible he/she watch this movie for his/her own interest.  \n",
    "\n",
    "In another word, at this step, we **assume** that the movies that a user watchs are the movies that this user likes, or at ieast, are the movies his/her interested in. \n",
    "\n",
    "Hence, we need to choose an apporite method to calculate the similiarity between movies.  \n",
    "\n",
    "Here, we try to bulid a *content base system*.\n",
    "\n",
    "In a content base system, we **assume** the content of the movies is a very good summary of the movies and truly reflects the core of the movies.  \n",
    "\n",
    "In this system, we use following variables as the component of the **content**s of movies.\n",
    "\n",
    "- `overview`\n",
    "- `cast`\n",
    "- `crew` \n",
    "- `keyword` \n",
    "- `tagline` \n",
    "- ...\n",
    "\n",
    "These variables are used to find its similarity between movies. Then the movies that are most likely to be similar are recommended.  \n",
    "\n",
    "There are many measurements to calculate the similarity between contents. For now there are no prevailing metrics that are definitively better or best. \n",
    "\n",
    "measurement|review\n",
    "-----------|------------------\n",
    "dot product|The fastest algorithm\n",
    "Cosine Similarity| Widely used\n",
    "\n",
    "This project mainly uses **cosine similarity**.\n"
   ]
  },
  {
   "cell_type": "markdown",
   "metadata": {
    "colab_type": "text",
    "id": "csqo48OX2dlc"
   },
   "source": [
    "### 2.1.1 Plot description based Recommender\n",
    "Here we try to calculate the similarity between movies based on the **overview** of movies.  \n",
    "We will compute pairwise similarity scores for all movies based on their `plot` descriptions and recommend movies based on that **similarity score**. The plot description is given in the `overview feature` of our dataset. Let's take a look at the data."
   ]
  },
  {
   "cell_type": "code",
   "execution_count": 59,
   "metadata": {
    "colab": {},
    "colab_type": "code",
    "id": "xFpflagy2dld"
   },
   "outputs": [],
   "source": [
    "movies_metadataTr=pd.read_csv('data/themoviesdataset/movies_metadataTr.csv')"
   ]
  },
  {
   "cell_type": "code",
   "execution_count": 60,
   "metadata": {
    "colab": {
     "base_uri": "https://localhost:8080/",
     "height": 338
    },
    "colab_type": "code",
    "id": "nw48nsZ02dlh",
    "outputId": "52c8a7e5-1b0e-474f-82d9-8c08241e8f73"
   },
   "outputs": [
    {
     "data": {
      "text/html": [
       "<div>\n",
       "<style scoped>\n",
       "    .dataframe tbody tr th:only-of-type {\n",
       "        vertical-align: middle;\n",
       "    }\n",
       "\n",
       "    .dataframe tbody tr th {\n",
       "        vertical-align: top;\n",
       "    }\n",
       "\n",
       "    .dataframe thead th {\n",
       "        text-align: right;\n",
       "    }\n",
       "</style>\n",
       "<table border=\"1\" class=\"dataframe\">\n",
       "  <thead>\n",
       "    <tr style=\"text-align: right;\">\n",
       "      <th></th>\n",
       "      <th>genres</th>\n",
       "      <th>tmdb_id</th>\n",
       "      <th>imdb_id</th>\n",
       "      <th>overview</th>\n",
       "      <th>popularity</th>\n",
       "      <th>release_date</th>\n",
       "      <th>revenue</th>\n",
       "      <th>budget</th>\n",
       "      <th>runtime</th>\n",
       "      <th>status</th>\n",
       "      <th>title</th>\n",
       "      <th>vote_average</th>\n",
       "      <th>vote_count</th>\n",
       "      <th>poster_path</th>\n",
       "    </tr>\n",
       "  </thead>\n",
       "  <tbody>\n",
       "    <tr>\n",
       "      <th>0</th>\n",
       "      <td>['Animation', 'Comedy', 'Family']</td>\n",
       "      <td>862</td>\n",
       "      <td>tt0114709</td>\n",
       "      <td>Led by Woody, Andy's toys live happily in his room until Andy's birthday brings Buzz Lightyear o...</td>\n",
       "      <td>21.946943</td>\n",
       "      <td>1995-10-30</td>\n",
       "      <td>373554033.0</td>\n",
       "      <td>30000000</td>\n",
       "      <td>81.0</td>\n",
       "      <td>Released</td>\n",
       "      <td>Toy Story</td>\n",
       "      <td>7.7</td>\n",
       "      <td>5415.0</td>\n",
       "      <td>/rhIRbceoE9lR4veEXuwCC2wARtG.jpg</td>\n",
       "    </tr>\n",
       "    <tr>\n",
       "      <th>1</th>\n",
       "      <td>['Adventure', 'Fantasy', 'Family']</td>\n",
       "      <td>8844</td>\n",
       "      <td>tt0113497</td>\n",
       "      <td>When siblings Judy and Peter discover an enchanted board game that opens the door to a magical w...</td>\n",
       "      <td>17.015539</td>\n",
       "      <td>1995-12-15</td>\n",
       "      <td>262797249.0</td>\n",
       "      <td>65000000</td>\n",
       "      <td>104.0</td>\n",
       "      <td>Released</td>\n",
       "      <td>Jumanji</td>\n",
       "      <td>6.9</td>\n",
       "      <td>2413.0</td>\n",
       "      <td>/vzmL6fP7aPKNKPRTFnZmiUfciyV.jpg</td>\n",
       "    </tr>\n",
       "  </tbody>\n",
       "</table>\n",
       "</div>"
      ],
      "text/plain": [
       "                               genres tmdb_id    imdb_id  \\\n",
       "0   ['Animation', 'Comedy', 'Family']     862  tt0114709   \n",
       "1  ['Adventure', 'Fantasy', 'Family']    8844  tt0113497   \n",
       "\n",
       "                                                                                              overview  \\\n",
       "0  Led by Woody, Andy's toys live happily in his room until Andy's birthday brings Buzz Lightyear o...   \n",
       "1  When siblings Judy and Peter discover an enchanted board game that opens the door to a magical w...   \n",
       "\n",
       "  popularity release_date      revenue    budget  runtime    status  \\\n",
       "0  21.946943   1995-10-30  373554033.0  30000000     81.0  Released   \n",
       "1  17.015539   1995-12-15  262797249.0  65000000    104.0  Released   \n",
       "\n",
       "       title  vote_average  vote_count                       poster_path  \n",
       "0  Toy Story           7.7      5415.0  /rhIRbceoE9lR4veEXuwCC2wARtG.jpg  \n",
       "1    Jumanji           6.9      2413.0  /vzmL6fP7aPKNKPRTFnZmiUfciyV.jpg  "
      ]
     },
     "execution_count": 60,
     "metadata": {},
     "output_type": "execute_result"
    }
   ],
   "source": [
    "movies_metadataTr.head(2)"
   ]
  },
  {
   "cell_type": "markdown",
   "metadata": {
    "colab_type": "text",
    "id": "cBkoHv_D2dlk"
   },
   "source": [
    "Analysing the `overview` column is a process of **text analysis**. We need to transform the `overview` of each movies to a matrix for further analysis.  \n",
    "Two forms of matrix are aviliable: \n",
    "- Count\n",
    "- Term Frequency-Inverse Document Frequency (TF-IDF)\n",
    "\n",
    "In this project, **TD-IDF** is used. TD-IDF can help us reduce the weight of high frequency words in the matrix and thus help us to balance the matrix.  \n",
    "The output of TF-IDF is a matrix of which:\n",
    "- each row represents an overview of a movie.\n",
    "- each column represents a term ( words that at least appears once in all the overviews)"
   ]
  },
  {
   "cell_type": "markdown",
   "metadata": {
    "colab_type": "text",
    "id": "jd0vB4ErFiGC"
   },
   "source": [
    " To achieve a good model, we need to do\n",
    "- Tokenization: Split the text into sentences and the sentences into words. Lowercase the words and remove punctuation.\n",
    "- All stopwords are removed.\n",
    "- Words are lemmatized — words in third person are changed to first person and verbs in past and future tenses are changed into present.\n",
    "- Words are stemmed — words are reduced to their root form.\n",
    "\n",
    "Belowing is the way how we transfrom `overview` into matrix."
   ]
  },
  {
   "cell_type": "code",
   "execution_count": 61,
   "metadata": {
    "colab": {
     "base_uri": "https://localhost:8080/",
     "height": 70
    },
    "colab_type": "code",
    "id": "CpiFtdA_2dlo",
    "outputId": "c75433d5-e377-4fcc-cb50-145a1f20ab38"
   },
   "outputs": [
    {
     "name": "stderr",
     "output_type": "stream",
     "text": [
      "[nltk_data] Downloading package wordnet to\n",
      "[nltk_data]     /Users/manishagarwal/nltk_data...\n",
      "[nltk_data]   Package wordnet is already up-to-date!\n"
     ]
    },
    {
     "data": {
      "text/plain": [
       "True"
      ]
     },
     "execution_count": 61,
     "metadata": {},
     "output_type": "execute_result"
    }
   ],
   "source": [
    "import gensim\n",
    "from gensim.utils import simple_preprocess\n",
    "from gensim.parsing.preprocessing import STOPWORDS\n",
    "from nltk.stem import WordNetLemmatizer, SnowballStemmer\n",
    "from nltk.stem.porter import *\n",
    "import numpy as np\n",
    "np.random.seed(2020)\n",
    "import nltk\n",
    "nltk.download('wordnet')"
   ]
  },
  {
   "cell_type": "markdown",
   "metadata": {
    "colab_type": "text",
    "id": "Wxxv7nW_FiGR"
   },
   "source": [
    "Here we define a function `lemmatize_stemming()`, which is used to lemmatize and stem `overview`."
   ]
  },
  {
   "cell_type": "code",
   "execution_count": 62,
   "metadata": {
    "colab": {},
    "colab_type": "code",
    "id": "Z-XujmfL2dlu"
   },
   "outputs": [],
   "source": [
    "stemmer = SnowballStemmer('english')\n",
    "def lemmatize_stemming(text):\n",
    "    return stemmer.stem(WordNetLemmatizer().lemmatize(text, pos='v'))\n",
    "def preprocess(text):\n",
    "    result = []\n",
    "    for token in gensim.utils.simple_preprocess(text):\n",
    "        if token not in gensim.parsing.preprocessing.STOPWORDS and len(token) > 0:\n",
    "            result.append(lemmatize_stemming(token))\n",
    "    return result"
   ]
  },
  {
   "cell_type": "code",
   "execution_count": 64,
   "metadata": {
    "colab": {
     "base_uri": "https://localhost:8080/",
     "height": 200
    },
    "colab_type": "code",
    "id": "DVNCJFI02dlz",
    "outputId": "421f7903-7d3a-4c65-9f40-1b14a6d97401"
   },
   "outputs": [],
   "source": [
    "overview=pd.DataFrame()\n",
    "overview[['tmdb_id','overview_origin']] = movies_metadataTr[['tmdb_id','overview']]\n",
    "\n",
    "overview['overview_processed'] = overview['overview_origin'].fillna('').astype(str).map(preprocess)\n",
    "#documents['content'].fillna('').astype(str).map(preprocess)\n",
    "overview['overview_processed'] = overview['overview_processed'].apply(', '.join)\n",
    "\n",
    "overview = overview.drop(columns=['overview_origin'])\n",
    "\n",
    "overview.head()\n",
    "\n",
    "# save the dataframe into .csv file for later use.\n",
    "\n",
    "overview.to_csv('data/themoviesdataset/overview.csv',index=False)"
   ]
  },
  {
   "cell_type": "markdown",
   "metadata": {
    "colab_type": "text",
    "id": "Ee-JELJDGPYO"
   },
   "source": [
    "#### 2.1.1.1 Use overview as plot"
   ]
  },
  {
   "cell_type": "code",
   "execution_count": null,
   "metadata": {
    "colab": {},
    "colab_type": "code",
    "id": "Gtn0K8WA2dl7"
   },
   "outputs": [],
   "source": [
    "# save the dataframe into .csv file for later use.\n",
    "#overview.to_csv('data/overview.csv',index=False)"
   ]
  },
  {
   "cell_type": "code",
   "execution_count": 65,
   "metadata": {
    "colab": {},
    "colab_type": "code",
    "id": "-kf8r6NV2dl_"
   },
   "outputs": [],
   "source": [
    "import pandas as pd\n",
    "import numpy as np\n",
    "from scipy import sparse\n",
    "from sklearn.feature_extraction.text import TfidfVectorizer\n",
    "from sklearn.metrics.pairwise import linear_kernel\n",
    "from sklearn.metrics.pairwise import cosine_similarity\n",
    "\n",
    "# import the file. To save time.\n",
    "overview = pd.read_csv('data/themoviesdataset/overview.csv')\n",
    "overview['overview_processed'] = overview['overview_processed'].fillna('').astype(str)\n",
    "\n",
    "# create TF-IDF matrix:\n",
    "tfidf = TfidfVectorizer(#min_df=0.01, \n",
    "             max_df = 0.5, \n",
    "             stop_words = 'english')\n",
    "tfidf_overview = tfidf.fit_transform(overview['overview_processed'])"
   ]
  },
  {
   "cell_type": "code",
   "execution_count": 66,
   "metadata": {
    "colab": {
     "base_uri": "https://localhost:8080/",
     "height": 52
    },
    "colab_type": "code",
    "id": "Ihj8rKliIJ8f",
    "outputId": "372ba384-4665-4481-e3d2-89d8b263016c"
   },
   "outputs": [
    {
     "data": {
      "text/plain": [
       "<45466x55625 sparse matrix of type '<class 'numpy.float64'>'\n",
       "\twith 1148986 stored elements in Compressed Sparse Row format>"
      ]
     },
     "execution_count": 66,
     "metadata": {},
     "output_type": "execute_result"
    }
   ],
   "source": [
    "tfidf_overview"
   ]
  },
  {
   "cell_type": "code",
   "execution_count": 67,
   "metadata": {
    "colab": {},
    "colab_type": "code",
    "id": "rD0MRJKk2dmC"
   },
   "outputs": [],
   "source": [
    "# Compute the cosine similarity matrix\n",
    "#tfidf_overview_csr = sparse.csr_matrix(tfidf_overview).astype(np.float16)\n",
    "\n",
    "#cosine_similiarity = cosine_similarity(tfidf_overview_csr)\n",
    "#cosine_similiarity.shape\n",
    "\n",
    "\n",
    "# this is another way to calculate the similiarity\n",
    "from sklearn.metrics.pairwise import linear_kernel\n",
    "# Compute the cosine similarity matrix\n",
    "tfidf_overview = tfidf_overview.astype(np.float32)\n",
    "cosine_sim = linear_kernel(tfidf_overview,tfidf_overview)"
   ]
  },
  {
   "cell_type": "code",
   "execution_count": 68,
   "metadata": {
    "colab": {
     "base_uri": "https://localhost:8080/",
     "height": 248
    },
    "colab_type": "code",
    "id": "8KIHS_DQGOaZ",
    "outputId": "35359785-4c63-4fba-8f66-7e82e643921a"
   },
   "outputs": [
    {
     "data": {
      "text/plain": [
       "array([[0.99999994, 0.02134756, 0.        , ..., 0.        , 0.00641567,\n",
       "        0.        ],\n",
       "       [0.02134756, 0.9999999 , 0.04065556, ..., 0.        , 0.02878305,\n",
       "        0.00905906],\n",
       "       [0.        , 0.04065556, 0.99999994, ..., 0.        , 0.01433483,\n",
       "        0.        ],\n",
       "       ...,\n",
       "       [0.        , 0.        , 0.        , ..., 1.        , 0.        ,\n",
       "        0.        ],\n",
       "       [0.00641567, 0.02878305, 0.01433483, ..., 0.        , 0.99999994,\n",
       "        0.01120984],\n",
       "       [0.        , 0.00905906, 0.        , ..., 0.        , 0.01120984,\n",
       "        0.9999999 ]], dtype=float32)"
      ]
     },
     "execution_count": 68,
     "metadata": {},
     "output_type": "execute_result"
    }
   ],
   "source": [
    "cosine_sim"
   ]
  },
  {
   "cell_type": "markdown",
   "metadata": {
    "colab_type": "text",
    "id": "M89eeb-c2dmR"
   },
   "source": [
    "We see that 456 different words were used to describe the 45466 movies in our dataset.\n",
    "\n",
    "With this matrix in hand, we can now compute a similarity score. There are several candidates for this; such as the euclidean, the Pearson and the cosine similarity scores. There is no right answer to which score is the best. Different scores work well in different scenarios and it is often a good idea to experiment with different metrics.\n",
    "\n",
    "We will be using the cosine similarity to calculate a numeric quantity that denotes the similarity between two movies. We use the cosine similarity score since it is independent of magnitude and is relatively easy and fast to calculate. Mathematically, it is defined as follows:  \n",
    "![cosine_similiarity](\\pic\\cosine_similiarity.png)  \n",
    "Since we have used the TF-IDF vectorizer, calculating the dot product will directly give us the cosine similarity score. Therefore, we will use sklearn's linear_kernel() instead of cosine_similarities() since it is faster.\n"
   ]
  },
  {
   "cell_type": "markdown",
   "metadata": {
    "colab_type": "text",
    "id": "HGy4mroG2dmV"
   },
   "source": [
    "We are going to define a function that takes in a movie title as an input and outputs a list of the 10 most similar movies. Firstly, for this, we need a reverse mapping of movie titles and DataFrame indices. In other words, we need a mechanism to identify the index of a movie in our metadata DataFrame, given its title."
   ]
  },
  {
   "cell_type": "code",
   "execution_count": 69,
   "metadata": {
    "colab": {},
    "colab_type": "code",
    "id": "Vo8LDdKk2dmW"
   },
   "outputs": [],
   "source": [
    "#Construct a reverse map of indices and movie titles\n",
    "movies_metadata = pd.read_csv('data/themoviesdataset/movies_metadataTr.csv')\n",
    "indices = pd.Series(movies_metadata.index, index=movies_metadata['title']).drop_duplicates()"
   ]
  },
  {
   "cell_type": "markdown",
   "metadata": {
    "colab_type": "text",
    "id": "2KTAginr2dmk"
   },
   "source": [
    "We are now in a good position to define our recommendation function. These are the following steps we'll follow :-\n",
    "\n",
    "Get the index of the movie given its title.\n",
    "Get the list of cosine similarity scores for that particular movie with all movies. Convert it into a list of tuples where the first element is its position and the second is the similarity score.\n",
    "Sort the aforementioned list of tuples based on the similarity scores; that is, the second element.\n",
    "Get the top 10 elements of this list. Ignore the first element as it refers to self (the movie most similar to a particular movie is the movie itself).\n",
    "Return the titles corresponding to the indices of the top elements."
   ]
  },
  {
   "cell_type": "code",
   "execution_count": 70,
   "metadata": {
    "colab": {},
    "colab_type": "code",
    "id": "9uQZ-YWM2dml"
   },
   "outputs": [],
   "source": [
    "# Function that takes in movie title as input and outputs most similar movies\n",
    "def get_recommendations(title, cosine_sim=cosine_sim):\n",
    "    # Get the index of the movie that matches the title\n",
    "    idx = indices[title]\n",
    "\n",
    "    # Get the pairwsie similarity scores of all movies with that movie\n",
    "    sim_scores = list(enumerate(cosine_sim[idx]))\n",
    "\n",
    "    # Sort the movies based on the similarity scores\n",
    "    sim_scores = sorted(sim_scores, key=lambda x: x[1], reverse=True)\n",
    "\n",
    "    # Get the scores of the 10 most similar movies\n",
    "    sim_scores = sim_scores[1:11]\n",
    "\n",
    "    # Get the movie indices\n",
    "    movie_indices = [i[0] for i in sim_scores]\n",
    "\n",
    "    # Return the top 10 most similar movies\n",
    "    return movies_metadata['title'].iloc[movie_indices]"
   ]
  },
  {
   "cell_type": "code",
   "execution_count": 71,
   "metadata": {
    "colab": {
     "base_uri": "https://localhost:8080/",
     "height": 212
    },
    "colab_type": "code",
    "id": "ji76IUF52dm0",
    "outputId": "5734d94a-eda1-43d4-88aa-8da6d4d57be1"
   },
   "outputs": [
    {
     "data": {
      "text/plain": [
       "12481                                       The Dark Knight\n",
       "150                                          Batman Forever\n",
       "1328                                         Batman Returns\n",
       "15511                            Batman: Under the Red Hood\n",
       "585                                                  Batman\n",
       "21194    Batman Unmasked: The Psychology of the Dark Knight\n",
       "9230                     Batman Beyond: Return of the Joker\n",
       "19792               Batman: The Dark Knight Returns, Part 1\n",
       "3095                           Batman: Mask of the Phantasm\n",
       "18035                                      Batman: Year One\n",
       "Name: title, dtype: object"
      ]
     },
     "execution_count": 71,
     "metadata": {},
     "output_type": "execute_result"
    }
   ],
   "source": [
    "get_recommendations('The Dark Knight Rises')"
   ]
  },
  {
   "cell_type": "markdown",
   "metadata": {
    "colab_type": "text",
    "id": "f0GDfLwHJT7z"
   },
   "source": [
    "While our system has done a decent job of finding movies with similar plot descriptions, the quality of recommendations is not that great. \"The Dark Knight Rises\" returns all Batman movies while it is more likely that the people who liked that movie are more inclined to enjoy other Christopher Nolan movies. This is something that cannot be captured by the present system."
   ]
  },
  {
   "cell_type": "markdown",
   "metadata": {
    "colab_type": "text",
    "id": "HbljUjmjMucq"
   },
   "source": [
    "#### 2.1.1.2 use keywords of overview\n",
    "\n",
    "I discovered a nice feature within the nltk package that allows us to extract the key words from a text, and it even assigns scores to each word. I did not really consider the scores for this basic recommender, however I used this Rake function to extract key words from the Plot column, so instead of using the entire sentences describing the plot, I only considered the most relevant words in the description. In order to do this, I applied this function to each row under the Plot column and assigned the list of key words to a new column, named Key_words\n",
    "\n",
    "link:https://towardsdatascience.com/how-to-build-from-scratch-a-content-based-movie-recommender-with-natural-language-processing-25ad400eb243"
   ]
  },
  {
   "cell_type": "code",
   "execution_count": 73,
   "metadata": {
    "colab": {},
    "colab_type": "code",
    "id": "BMuZRza4M9Ma"
   },
   "outputs": [],
   "source": [
    "# import the file. To save time.\n",
    "overview = pd.read_csv('data/themoviesdataset/overview.csv')\n",
    "overview['overview_processed'] = overview['overview_processed'].fillna('').astype(str)"
   ]
  },
  {
   "cell_type": "code",
   "execution_count": 74,
   "metadata": {
    "colab": {
     "base_uri": "https://localhost:8080/",
     "height": 110
    },
    "colab_type": "code",
    "id": "FifiVY8qqvg3",
    "outputId": "fab6cc7c-245f-4cb2-fb6a-5b4c939e92a9"
   },
   "outputs": [
    {
     "data": {
      "text/html": [
       "<div>\n",
       "<style scoped>\n",
       "    .dataframe tbody tr th:only-of-type {\n",
       "        vertical-align: middle;\n",
       "    }\n",
       "\n",
       "    .dataframe tbody tr th {\n",
       "        vertical-align: top;\n",
       "    }\n",
       "\n",
       "    .dataframe thead th {\n",
       "        text-align: right;\n",
       "    }\n",
       "</style>\n",
       "<table border=\"1\" class=\"dataframe\">\n",
       "  <thead>\n",
       "    <tr style=\"text-align: right;\">\n",
       "      <th></th>\n",
       "      <th>tmdb_id</th>\n",
       "      <th>overview_processed</th>\n",
       "    </tr>\n",
       "  </thead>\n",
       "  <tbody>\n",
       "    <tr>\n",
       "      <th>0</th>\n",
       "      <td>862</td>\n",
       "      <td>lead, woodi, andi, toy, live, happili, room, andi, birthday, bring, buzz, lightyear, scene, afra...</td>\n",
       "    </tr>\n",
       "    <tr>\n",
       "      <th>1</th>\n",
       "      <td>8844</td>\n",
       "      <td>sibl, judi, peter, discov, enchant, board, game, open, door, magic, world, unwit, invit, alan, a...</td>\n",
       "    </tr>\n",
       "  </tbody>\n",
       "</table>\n",
       "</div>"
      ],
      "text/plain": [
       "  tmdb_id  \\\n",
       "0     862   \n",
       "1    8844   \n",
       "\n",
       "                                                                                    overview_processed  \n",
       "0  lead, woodi, andi, toy, live, happili, room, andi, birthday, bring, buzz, lightyear, scene, afra...  \n",
       "1  sibl, judi, peter, discov, enchant, board, game, open, door, magic, world, unwit, invit, alan, a...  "
      ]
     },
     "execution_count": 74,
     "metadata": {},
     "output_type": "execute_result"
    }
   ],
   "source": [
    "overview.head(2)"
   ]
  },
  {
   "cell_type": "code",
   "execution_count": 76,
   "metadata": {
    "colab": {},
    "colab_type": "code",
    "id": "TiSgt1pyqq6I"
   },
   "outputs": [],
   "source": [
    "#!pip install rake_nltk\n",
    "from rake_nltk import Rake\n",
    "\n",
    "# initializing the new column\n",
    "overview['overview_keywords'] = \"\"\n",
    "\n",
    "for index, row in overview.iterrows():# Iterate over DataFrame rows as (index, Series) pairs.\n",
    "                  # 迭代表格\n",
    "    overview_processed = row['overview_processed']\n",
    "    \n",
    "    # instantiating Rake, by default it uses english stopwords from NLTK\n",
    "    # and discards all puntuation characters as well\n",
    "    r = Rake()\n",
    "\n",
    "    # extracting the words by passing the text\n",
    "    r.extract_keywords_from_text(overview_processed)\n",
    "\n",
    "    # getting the dictionary whith key words as keys and their scores as values\n",
    "    key_words_dict_scores = r.get_word_degrees()\n",
    "    \n",
    "    # assigning the key words to the new column for the corresponding movie\n",
    "    row['overview_keywords'] = list(key_words_dict_scores.keys())\n",
    "\n",
    "# dropping the Plot column\n",
    "overview.drop(columns = ['overview_processed'], inplace = True)\n",
    "\n"
   ]
  },
  {
   "cell_type": "code",
   "execution_count": 77,
   "metadata": {
    "colab": {
     "base_uri": "https://localhost:8080/",
     "height": 141
    },
    "colab_type": "code",
    "id": "M_Di2dwWtAQl",
    "outputId": "cf34a6fe-28d2-48ae-d39a-3eb3ae1ef53a"
   },
   "outputs": [
    {
     "data": {
      "text/html": [
       "<div>\n",
       "<style scoped>\n",
       "    .dataframe tbody tr th:only-of-type {\n",
       "        vertical-align: middle;\n",
       "    }\n",
       "\n",
       "    .dataframe tbody tr th {\n",
       "        vertical-align: top;\n",
       "    }\n",
       "\n",
       "    .dataframe thead th {\n",
       "        text-align: right;\n",
       "    }\n",
       "</style>\n",
       "<table border=\"1\" class=\"dataframe\">\n",
       "  <thead>\n",
       "    <tr style=\"text-align: right;\">\n",
       "      <th></th>\n",
       "      <th>tmdb_id</th>\n",
       "      <th>overview_keywords</th>\n",
       "    </tr>\n",
       "  </thead>\n",
       "  <tbody>\n",
       "    <tr>\n",
       "      <th>0</th>\n",
       "      <td>862</td>\n",
       "      <td>[separ, asid, plot, owner, room, place, eventu, bring, lead, happili, scene, afraid, lose, andi,...</td>\n",
       "    </tr>\n",
       "    <tr>\n",
       "      <th>1</th>\n",
       "      <td>8844</td>\n",
       "      <td>[hope, magic, monkey, room, creatur, door, terrifi, prove, judi, unwit, riski, open, freedom, rh...</td>\n",
       "    </tr>\n",
       "    <tr>\n",
       "      <th>2</th>\n",
       "      <td>15602</td>\n",
       "      <td>[scare, fish, shop, time, local, neighbor, cook, italian, door, feud, wed, alarm, divorcé, worri...</td>\n",
       "    </tr>\n",
       "  </tbody>\n",
       "</table>\n",
       "</div>"
      ],
      "text/plain": [
       "  tmdb_id  \\\n",
       "0     862   \n",
       "1    8844   \n",
       "2   15602   \n",
       "\n",
       "                                                                                     overview_keywords  \n",
       "0  [separ, asid, plot, owner, room, place, eventu, bring, lead, happili, scene, afraid, lose, andi,...  \n",
       "1  [hope, magic, monkey, room, creatur, door, terrifi, prove, judi, unwit, riski, open, freedom, rh...  \n",
       "2  [scare, fish, shop, time, local, neighbor, cook, italian, door, feud, wed, alarm, divorcé, worri...  "
      ]
     },
     "execution_count": 77,
     "metadata": {},
     "output_type": "execute_result"
    }
   ],
   "source": [
    "#Now we can see the new columns of keywords of movies\n",
    "overview.head(3)"
   ]
  },
  {
   "cell_type": "code",
   "execution_count": 78,
   "metadata": {
    "colab": {},
    "colab_type": "code",
    "id": "eyZzn2r3toOE"
   },
   "outputs": [],
   "source": [
    "import pandas as pd\n",
    "import numpy as np\n",
    "from scipy import sparse\n",
    "from sklearn.feature_extraction.text import TfidfVectorizer\n",
    "from sklearn.metrics.pairwise import linear_kernel\n",
    "from sklearn.metrics.pairwise import cosine_similarity\n",
    "\n",
    "# create TF-IDF matrix:\n",
    "tfidf = TfidfVectorizer(#min_df=0.01, \n",
    "             max_df = 0.5, \n",
    "             stop_words = 'english')\n",
    "overview['overview_keywords'] = overview['overview_keywords'].apply(', '.join)\n",
    "tfidf_overview_keywords = tfidf.fit_transform(overview['overview_keywords'])"
   ]
  },
  {
   "cell_type": "code",
   "execution_count": 79,
   "metadata": {
    "colab": {
     "base_uri": "https://localhost:8080/",
     "height": 53
    },
    "colab_type": "code",
    "id": "RRvq8ngeuDDW",
    "outputId": "c78aabef-44a1-47af-e4d9-2ce5c4acc104"
   },
   "outputs": [
    {
     "data": {
      "text/plain": [
       "<45466x55625 sparse matrix of type '<class 'numpy.float32'>'\n",
       "\twith 1148986 stored elements in Compressed Sparse Row format>"
      ]
     },
     "execution_count": 79,
     "metadata": {},
     "output_type": "execute_result"
    }
   ],
   "source": [
    "tfidf_overview"
   ]
  },
  {
   "cell_type": "code",
   "execution_count": 80,
   "metadata": {
    "colab": {},
    "colab_type": "code",
    "id": "JUCOj8dnuwkh"
   },
   "outputs": [],
   "source": [
    "from sklearn.metrics.pairwise import linear_kernel\n",
    "\n",
    "# Compute the cosine similarity matrix\n",
    "#tfidf_overview = tfidf_overview.astype(np.float32)\n",
    "cosine_sim = linear_kernel(tfidf_overview,tfidf_overview)"
   ]
  },
  {
   "cell_type": "code",
   "execution_count": 81,
   "metadata": {
    "colab": {
     "base_uri": "https://localhost:8080/",
     "height": 251
    },
    "colab_type": "code",
    "id": "TWxRCbHHvv_b",
    "outputId": "344825ec-5f50-4a6d-ffb9-a8c775352b3d"
   },
   "outputs": [
    {
     "data": {
      "text/plain": [
       "array([[0.99999994, 0.02134756, 0.        , ..., 0.        , 0.00641567,\n",
       "        0.        ],\n",
       "       [0.02134756, 0.9999999 , 0.04065556, ..., 0.        , 0.02878305,\n",
       "        0.00905906],\n",
       "       [0.        , 0.04065556, 0.99999994, ..., 0.        , 0.01433483,\n",
       "        0.        ],\n",
       "       ...,\n",
       "       [0.        , 0.        , 0.        , ..., 1.        , 0.        ,\n",
       "        0.        ],\n",
       "       [0.00641567, 0.02878305, 0.01433483, ..., 0.        , 0.99999994,\n",
       "        0.01120984],\n",
       "       [0.        , 0.00905906, 0.        , ..., 0.        , 0.01120984,\n",
       "        0.9999999 ]], dtype=float32)"
      ]
     },
     "execution_count": 81,
     "metadata": {},
     "output_type": "execute_result"
    }
   ],
   "source": [
    "cosine_sim"
   ]
  },
  {
   "cell_type": "code",
   "execution_count": 82,
   "metadata": {
    "colab": {},
    "colab_type": "code",
    "id": "pMNYSlIi6DlN"
   },
   "outputs": [],
   "source": [
    "### ***后续改进：通过名字查找会出现重复，通过输入tmdbid来锁定电影。\n",
    "movies_metadata = pd.read_csv('data/themoviesdataset/movies_metadataTr.csv')\n",
    "indices = pd.Series(movies_metadata.index, index=movies_metadata['title']).drop_duplicates()\n",
    "\n",
    "# Function that takes in movie title as input and outputs most similar movies\n",
    "def get_recommendations(title, cosine_sim=cosine_sim):\n",
    "    # Get the index of the movie that matches the title\n",
    "\n",
    "    idx = indices[title] \n",
    "\n",
    "    # Get the pairwsie similarity scores of all movies with that movie\n",
    "    # 返回所有其他的电影与输入电影的相似程度。\n",
    "    # index 150 为batman forever\n",
    "    sim_scores = list(enumerate(cosine_sim[idx])) \n",
    "                             \n",
    "\n",
    "    # Sort the movies based on the similarity scores\n",
    "    # 相似性降序排列，最大的相似度的电影编号18252，score有0.2762\n",
    "    sim_scores = sorted(sim_scores, key=lambda x: x[1], reverse=True)\n",
    "\n",
    "    # Get the scores of the 10 most similar movies\n",
    "    sim_scores = sim_scores[1:11]\n",
    "\n",
    "    # Get the movie indices\n",
    "    movie_indices = [i[0] for i in sim_scores]\n",
    "\n",
    "    # Return the top 10 most similar movies\n",
    "    return movies_metadata['title'].iloc[movie_indices]"
   ]
  },
  {
   "cell_type": "code",
   "execution_count": 85,
   "metadata": {
    "colab": {
     "base_uri": "https://localhost:8080/",
     "height": 215
    },
    "colab_type": "code",
    "id": "_4hGfIb5wyPq",
    "outputId": "0d93b83b-e305-496f-bcd1-e87e9826cf54"
   },
   "outputs": [
    {
     "data": {
      "text/plain": [
       "12481                                       The Dark Knight\n",
       "150                                          Batman Forever\n",
       "1328                                         Batman Returns\n",
       "15511                            Batman: Under the Red Hood\n",
       "585                                                  Batman\n",
       "21194    Batman Unmasked: The Psychology of the Dark Knight\n",
       "9230                     Batman Beyond: Return of the Joker\n",
       "19792               Batman: The Dark Knight Returns, Part 1\n",
       "3095                           Batman: Mask of the Phantasm\n",
       "18035                                      Batman: Year One\n",
       "Name: title, dtype: object"
      ]
     },
     "execution_count": 85,
     "metadata": {},
     "output_type": "execute_result"
    }
   ],
   "source": [
    "get_recommendations('The Dark Knight Rises')\n",
    "#get_recommendations('The Avengers') #有重名，无法返回列表。"
   ]
  },
  {
   "cell_type": "markdown",
   "metadata": {
    "colab_type": "text",
    "id": "_vIAmcl22dm7"
   },
   "source": [
    "### 2.1.2 Credits, Genres and Keywords Based Recommender"
   ]
  },
  {
   "cell_type": "code",
   "execution_count": null,
   "metadata": {
    "colab": {
     "base_uri": "https://localhost:8080/",
     "height": 135
    },
    "colab_type": "code",
    "id": "o-YLlRUqWu_f",
    "outputId": "c17d60cb-161f-46ad-a3e9-381c0fdb31e8"
   },
   "outputs": [],
   "source": [
    "from ast import literal_eval\n",
    "import pandas as pd\n",
    "data_movies = pd.read_csv('data/themoviesdataset/data_movies.csv')\n",
    "#features = ['cast', 'director', 'keywordsTr', 'genres']\n",
    "\n",
    "data_movies['cast'] = data_movies['cast'].apply(lambda x: literal_eval(str(x)))\n",
    "data_movies['director'] = data_movies['director'].apply(lambda x: literal_eval(str(x)))\n",
    "data_movies['keywordsTr'] = data_movies['keywordsTr'].apply(lambda x: literal_eval(str(x)))\n",
    "data_movies['genres'] = data_movies['genres'].apply(lambda x: literal_eval(str(x)))\n",
    "#for feature in features:\n",
    "    #data_movies[feature] = data_movies[feature].fillna('').astype(str)\n",
    "    #data_movies[feature] = data_movies[feature].apply(literal_eval)"
   ]
  },
  {
   "cell_type": "code",
   "execution_count": 95,
   "metadata": {
    "colab": {},
    "colab_type": "code",
    "id": "8YwDxUiy2dm8"
   },
   "outputs": [],
   "source": [
    "# Function to convert all strings to lower case\n",
    "def clean_data(x):\n",
    "    if isinstance(x, list):\n",
    "        return [str.lower(i) for i in x]\n",
    "    else:\n",
    "        #Check if director exists. If not, return empty string\n",
    "        if isinstance(x, str):\n",
    "            return str.lower(x)\n",
    "        else:\n",
    "            return ''"
   ]
  },
  {
   "cell_type": "code",
   "execution_count": 97,
   "metadata": {
    "colab": {},
    "colab_type": "code",
    "id": "0L-1Pj5n2dnB"
   },
   "outputs": [],
   "source": [
    "# Apply clean_data function to your features.\n",
    "import pandas as pd\n",
    "\n",
    "features = ['cast', 'keywordsTr', 'director', 'genres']\n",
    "data_movies = pd.read_csv('data/themoviesdataset/data_movies.csv')\n",
    "\n",
    "for feature in features:\n",
    "    data_movies[feature] = data_movies[feature].apply(clean_data)"
   ]
  },
  {
   "cell_type": "code",
   "execution_count": 98,
   "metadata": {
    "colab": {
     "base_uri": "https://localhost:8080/",
     "height": 338
    },
    "colab_type": "code",
    "id": "z48s7Ag8R_jr",
    "outputId": "b2a45e52-5eae-4425-841a-99798364066a"
   },
   "outputs": [
    {
     "data": {
      "text/html": [
       "<div>\n",
       "<style scoped>\n",
       "    .dataframe tbody tr th:only-of-type {\n",
       "        vertical-align: middle;\n",
       "    }\n",
       "\n",
       "    .dataframe tbody tr th {\n",
       "        vertical-align: top;\n",
       "    }\n",
       "\n",
       "    .dataframe thead th {\n",
       "        text-align: right;\n",
       "    }\n",
       "</style>\n",
       "<table border=\"1\" class=\"dataframe\">\n",
       "  <thead>\n",
       "    <tr style=\"text-align: right;\">\n",
       "      <th></th>\n",
       "      <th>genres</th>\n",
       "      <th>tmdb_id</th>\n",
       "      <th>imdb_id</th>\n",
       "      <th>overview</th>\n",
       "      <th>popularity</th>\n",
       "      <th>release_date</th>\n",
       "      <th>revenue</th>\n",
       "      <th>budget</th>\n",
       "      <th>runtime</th>\n",
       "      <th>status</th>\n",
       "      <th>title</th>\n",
       "      <th>vote_average</th>\n",
       "      <th>vote_count</th>\n",
       "      <th>poster_path</th>\n",
       "      <th>cast</th>\n",
       "      <th>director</th>\n",
       "      <th>keywordsTr</th>\n",
       "    </tr>\n",
       "  </thead>\n",
       "  <tbody>\n",
       "    <tr>\n",
       "      <th>0</th>\n",
       "      <td>['animation', 'comedy', 'family']</td>\n",
       "      <td>862</td>\n",
       "      <td>tt0114709</td>\n",
       "      <td>Led by Woody, Andy's toys live happily in his room until Andy's birthday brings Buzz Lightyear o...</td>\n",
       "      <td>21.946943</td>\n",
       "      <td>1995-10-30</td>\n",
       "      <td>373554033.0</td>\n",
       "      <td>30000000</td>\n",
       "      <td>81.0</td>\n",
       "      <td>Released</td>\n",
       "      <td>Toy Story</td>\n",
       "      <td>7.7</td>\n",
       "      <td>5415.0</td>\n",
       "      <td>/rhIRbceoE9lR4veEXuwCC2wARtG.jpg</td>\n",
       "      <td>['tom hanks', 'tim allen', 'don rickles']</td>\n",
       "      <td>john lasseter</td>\n",
       "      <td>['jealousy', 'toy', 'boy', 'friendship', 'friends', 'rivalry', 'boy next door', 'new toy', 'toy ...</td>\n",
       "    </tr>\n",
       "    <tr>\n",
       "      <th>1</th>\n",
       "      <td>['adventure', 'fantasy', 'family']</td>\n",
       "      <td>8844</td>\n",
       "      <td>tt0113497</td>\n",
       "      <td>When siblings Judy and Peter discover an enchanted board game that opens the door to a magical w...</td>\n",
       "      <td>17.015539</td>\n",
       "      <td>1995-12-15</td>\n",
       "      <td>262797249.0</td>\n",
       "      <td>65000000</td>\n",
       "      <td>104.0</td>\n",
       "      <td>Released</td>\n",
       "      <td>Jumanji</td>\n",
       "      <td>6.9</td>\n",
       "      <td>2413.0</td>\n",
       "      <td>/vzmL6fP7aPKNKPRTFnZmiUfciyV.jpg</td>\n",
       "      <td>['robin williams', 'jonathan hyde', 'kirsten dunst']</td>\n",
       "      <td>joe johnston</td>\n",
       "      <td>['board game', 'disappearance', \"based on children's book\", 'new home', 'recluse', 'giant insect']</td>\n",
       "    </tr>\n",
       "  </tbody>\n",
       "</table>\n",
       "</div>"
      ],
      "text/plain": [
       "                               genres  tmdb_id    imdb_id  \\\n",
       "0   ['animation', 'comedy', 'family']      862  tt0114709   \n",
       "1  ['adventure', 'fantasy', 'family']     8844  tt0113497   \n",
       "\n",
       "                                                                                              overview  \\\n",
       "0  Led by Woody, Andy's toys live happily in his room until Andy's birthday brings Buzz Lightyear o...   \n",
       "1  When siblings Judy and Peter discover an enchanted board game that opens the door to a magical w...   \n",
       "\n",
       "   popularity release_date      revenue    budget runtime    status  \\\n",
       "0   21.946943   1995-10-30  373554033.0  30000000    81.0  Released   \n",
       "1   17.015539   1995-12-15  262797249.0  65000000   104.0  Released   \n",
       "\n",
       "       title  vote_average  vote_count                       poster_path  \\\n",
       "0  Toy Story           7.7      5415.0  /rhIRbceoE9lR4veEXuwCC2wARtG.jpg   \n",
       "1    Jumanji           6.9      2413.0  /vzmL6fP7aPKNKPRTFnZmiUfciyV.jpg   \n",
       "\n",
       "                                                   cast       director  \\\n",
       "0             ['tom hanks', 'tim allen', 'don rickles']  john lasseter   \n",
       "1  ['robin williams', 'jonathan hyde', 'kirsten dunst']   joe johnston   \n",
       "\n",
       "                                                                                            keywordsTr  \n",
       "0  ['jealousy', 'toy', 'boy', 'friendship', 'friends', 'rivalry', 'boy next door', 'new toy', 'toy ...  \n",
       "1   ['board game', 'disappearance', \"based on children's book\", 'new home', 'recluse', 'giant insect']  "
      ]
     },
     "execution_count": 98,
     "metadata": {},
     "output_type": "execute_result"
    }
   ],
   "source": [
    "data_movies.head(2)"
   ]
  },
  {
   "cell_type": "code",
   "execution_count": 99,
   "metadata": {
    "colab": {
     "base_uri": "https://localhost:8080/",
     "height": 125
    },
    "colab_type": "code",
    "id": "W0xqXRAN2dnF",
    "outputId": "3cf6809b-274a-40ed-dac9-eaa52adef25b"
   },
   "outputs": [
    {
     "data": {
      "text/plain": [
       "0    ['jealousy', 'toy', 'boy', 'friendship', 'friends', 'rivalry', 'boy next door', 'new toy', 'toy ...\n",
       "1    ['board game', 'disappearance', \"based on children's book\", 'new home', 'recluse', 'giant insect...\n",
       "2    ['fishing', 'best friend', 'duringcreditsstinger', 'old men'] [ ' w a l t e r   m a t t h a u ' ...\n",
       "3    ['based on novel', 'interracial relationship', 'single mother', 'divorce', 'chick flick'] [ ' w ...\n",
       "4    ['baby', 'midlife crisis', 'confidence', 'aging', 'daughter', 'mother daughter relationship', 'p...\n",
       "Name: pool, dtype: object"
      ]
     },
     "execution_count": 99,
     "metadata": {},
     "output_type": "execute_result"
    }
   ],
   "source": [
    "# Create a string that contains all the metadata which feeds to vectorizer\n",
    "def create_pool(x):\n",
    "    return ''.join(x['keywordsTr']) + ' ' + ' '.join(x['cast']) + ' ' + x['director'] + ' ' + ' '.join(x['genres'])\n",
    "\n",
    "data_movies['pool'] = data_movies.apply(create_pool, axis=1)\n",
    "data_movies['pool'].head(5)"
   ]
  },
  {
   "cell_type": "code",
   "execution_count": 100,
   "metadata": {
    "colab": {},
    "colab_type": "code",
    "id": "l3LteESX2dnQ"
   },
   "outputs": [],
   "source": [
    "# Import CountVectorizer and create the count matrix\n",
    "from sklearn.feature_extraction.text import CountVectorizer\n",
    "\n",
    "count = CountVectorizer(stop_words='english')\n",
    "count_matrix = count.fit_transform(data_movies['pool'])"
   ]
  },
  {
   "cell_type": "code",
   "execution_count": 101,
   "metadata": {
    "colab": {},
    "colab_type": "code",
    "id": "i7AJf97D2dnT"
   },
   "outputs": [],
   "source": [
    "# Compute the Cosine Similarity matrix based on the count_matrix\n",
    "from sklearn.metrics.pairwise import cosine_similarity\n",
    "\n",
    "cosine_sim2 = cosine_similarity(count_matrix, count_matrix)"
   ]
  },
  {
   "cell_type": "code",
   "execution_count": 102,
   "metadata": {
    "colab": {},
    "colab_type": "code",
    "id": "KmjRwcwU2dnW"
   },
   "outputs": [],
   "source": [
    "#Construct a reverse map of indices and movie titles\n",
    "indices = pd.Series(data_movies.index, index=data_movies['title']).drop_duplicates()"
   ]
  },
  {
   "cell_type": "code",
   "execution_count": 103,
   "metadata": {
    "colab": {},
    "colab_type": "code",
    "id": "FZR-1qJj2dnY"
   },
   "outputs": [],
   "source": [
    "# Function that takes in movie title as input and outputs most similar movies\n",
    "def get_recommendations(title, cosine_sim):\n",
    "    # Get the index of the movie that matches the title\n",
    "    idx = indices[title]\n",
    "\n",
    "    # Get the pairwsie similarity scores of all movies with that movie\n",
    "    sim_scores = list(enumerate(cosine_sim[idx]))\n",
    "\n",
    "    # Sort the movies based on the similarity scores\n",
    "    sim_scores = sorted(sim_scores, key=lambda x: x[1], reverse=True)\n",
    "\n",
    "    # Get the scores of the 10 most similar movies\n",
    "    sim_scores = sim_scores[1:11]\n",
    "\n",
    "    # Get the movie indices\n",
    "    movie_indices = [i[0] for i in sim_scores]\n",
    "\n",
    "    # Return the top 10 most similar movies\n",
    "    return data_movies['title'].iloc[movie_indices]"
   ]
  },
  {
   "cell_type": "code",
   "execution_count": 104,
   "metadata": {
    "colab": {},
    "colab_type": "code",
    "id": "_GZ_GoL92dnb"
   },
   "outputs": [],
   "source": [
    "# Reset index of our main DataFrame and construct reverse mapping as before\n",
    "data_movies = data_movies.reset_index()\n",
    "indices = pd.Series(data_movies.index, index = data_movies['title'])"
   ]
  },
  {
   "cell_type": "code",
   "execution_count": 105,
   "metadata": {
    "colab": {
     "base_uri": "https://localhost:8080/",
     "height": 215
    },
    "colab_type": "code",
    "id": "VYSSdFVC2dnf",
    "outputId": "04d3d075-aec8-49d3-9b4d-830e14ee0284"
   },
   "outputs": [
    {
     "data": {
      "text/plain": [
       "12485               The Dark Knight\n",
       "10122                 Batman Begins\n",
       "584                          Batman\n",
       "1496                 Batman & Robin\n",
       "1332                 Batman Returns\n",
       "42745         DC Showcase: Catwoman\n",
       "21416                    Kick-Ass 2\n",
       "15535    Batman: Under the Red Hood\n",
       "30488                 Suicide Squad\n",
       "5052                  Hero at Large\n",
       "Name: title, dtype: object"
      ]
     },
     "execution_count": 105,
     "metadata": {},
     "output_type": "execute_result"
    }
   ],
   "source": [
    "get_recommendations('The Dark Knight Rises', cosine_sim2)"
   ]
  },
  {
   "cell_type": "code",
   "execution_count": 106,
   "metadata": {
    "colab": {
     "base_uri": "https://localhost:8080/",
     "height": 215
    },
    "colab_type": "code",
    "id": "Jqxa8fWL2dni",
    "outputId": "32706f06-8e45-497a-c72a-03ed9fd4b884"
   },
   "outputs": [
    {
     "data": {
      "text/plain": [
       "1813                                      Small Soldiers\n",
       "15372                                        Toy Story 3\n",
       "25779                         Toy Story That Time Forgot\n",
       "1885                                      Child's Play 2\n",
       "7554                                               Dolls\n",
       "1884                                        Child's Play\n",
       "3880                         The Transformers: The Movie\n",
       "19114                                                Ted\n",
       "2998                                         Toy Story 2\n",
       "37304    The Tangerine Bear: Home in Time for Christmas!\n",
       "Name: title, dtype: object"
      ]
     },
     "execution_count": 106,
     "metadata": {},
     "output_type": "execute_result"
    }
   ],
   "source": [
    "get_recommendations('Toy Story', cosine_sim2)"
   ]
  },
  {
   "cell_type": "markdown",
   "metadata": {
    "colab_type": "text",
    "id": "2fZGVjLkO0eT"
   },
   "source": [
    "## 2.2 Collaborative Filtering"
   ]
  },
  {
   "cell_type": "markdown",
   "metadata": {
    "colab_type": "text",
    "id": "kJ2ELXedQcBt"
   },
   "source": [
    "Our content based engine suffers from some severe limitations. It is only capable of suggesting movies which are close to a certain movie. That is, it is not capable of capturing tastes and providing recommendations across genres.\n",
    "\n",
    "Also, the engine that we built is not really personal in that it doesn't capture the personal tastes and biases of a user. Anyone querying our engine for recommendations based on a movie will receive the same recommendations for that movie, regardless of who she/he is.\n",
    "\n",
    "Therefore, in this section, we will use a technique called Collaborative Filtering to make recommendations to Movie Watchers. It is basically of two types:-\n",
    "\n",
    "User based filtering- These systems recommend products to a user that similar users have liked. For measuring the similarity between two users we can either use pearson correlation or cosine similarity. This filtering technique can be illustrated with an example. In the following matrixes, each row represents a user, while the columns correspond to different movies except the last one which records the similarity between that user and the target user. Each cell represents the rating that the user gives to that movie. Assume user E is the target."
   ]
  },
  {
   "cell_type": "markdown",
   "metadata": {
    "colab_type": "text",
    "id": "aHKEMqVzOVAG"
   },
   "source": [
    "### 2.2.1 Content based collaborative filtering(item based and user-based)"
   ]
  },
  {
   "cell_type": "code",
   "execution_count": 108,
   "metadata": {
    "colab": {},
    "colab_type": "code",
    "id": "NoyLWar9OVAH",
    "outputId": "482890f7-76d0-49b5-839f-1e2d8c7af189"
   },
   "outputs": [
    {
     "data": {
      "text/html": [
       "<div>\n",
       "<style scoped>\n",
       "    .dataframe tbody tr th:only-of-type {\n",
       "        vertical-align: middle;\n",
       "    }\n",
       "\n",
       "    .dataframe tbody tr th {\n",
       "        vertical-align: top;\n",
       "    }\n",
       "\n",
       "    .dataframe thead th {\n",
       "        text-align: right;\n",
       "    }\n",
       "</style>\n",
       "<table border=\"1\" class=\"dataframe\">\n",
       "  <thead>\n",
       "    <tr style=\"text-align: right;\">\n",
       "      <th></th>\n",
       "      <th>userId</th>\n",
       "      <th>tmdb_id</th>\n",
       "      <th>rating</th>\n",
       "      <th>timestamp</th>\n",
       "    </tr>\n",
       "  </thead>\n",
       "  <tbody>\n",
       "    <tr>\n",
       "      <th>0</th>\n",
       "      <td>1</td>\n",
       "      <td>31</td>\n",
       "      <td>2.5</td>\n",
       "      <td>2009-12-14</td>\n",
       "    </tr>\n",
       "    <tr>\n",
       "      <th>1</th>\n",
       "      <td>1</td>\n",
       "      <td>1029</td>\n",
       "      <td>3.0</td>\n",
       "      <td>2009-12-14</td>\n",
       "    </tr>\n",
       "    <tr>\n",
       "      <th>2</th>\n",
       "      <td>1</td>\n",
       "      <td>1061</td>\n",
       "      <td>3.0</td>\n",
       "      <td>2009-12-14</td>\n",
       "    </tr>\n",
       "    <tr>\n",
       "      <th>3</th>\n",
       "      <td>1</td>\n",
       "      <td>1129</td>\n",
       "      <td>2.0</td>\n",
       "      <td>2009-12-14</td>\n",
       "    </tr>\n",
       "    <tr>\n",
       "      <th>4</th>\n",
       "      <td>1</td>\n",
       "      <td>1172</td>\n",
       "      <td>4.0</td>\n",
       "      <td>2009-12-14</td>\n",
       "    </tr>\n",
       "  </tbody>\n",
       "</table>\n",
       "</div>"
      ],
      "text/plain": [
       "   userId  tmdb_id  rating   timestamp\n",
       "0       1       31     2.5  2009-12-14\n",
       "1       1     1029     3.0  2009-12-14\n",
       "2       1     1061     3.0  2009-12-14\n",
       "3       1     1129     2.0  2009-12-14\n",
       "4       1     1172     4.0  2009-12-14"
      ]
     },
     "execution_count": 108,
     "metadata": {},
     "output_type": "execute_result"
    }
   ],
   "source": [
    "from datetime import datetime\n",
    "from surprise import Reader, Dataset, SVD\n",
    "from surprise.model_selection import cross_validate\n",
    "\n",
    "reader = Reader()\n",
    "ratings = pd.read_csv('data/themoviesdataset/ratings_small.csv')\n",
    "#ratings = pd.read_csv('data/themoviesdataset/ratings_small.csv')\n",
    "ratings['timestamp'] = ratings['timestamp'].apply( lambda x: datetime.fromtimestamp(x).date())\n",
    "ratings.rename(columns = {'movieId':'tmdb_id'},inplace=True)\n",
    "ratings.head()"
   ]
  },
  {
   "cell_type": "code",
   "execution_count": 114,
   "metadata": {
    "colab": {},
    "colab_type": "code",
    "id": "QPjzFgxWOVAK"
   },
   "outputs": [],
   "source": [
    "user_id_movie = ratings.groupby('userId').count().tmdb_id"
   ]
  },
  {
   "cell_type": "code",
   "execution_count": 115,
   "metadata": {
    "colab": {},
    "colab_type": "code",
    "id": "BZfmEWw1OVAM",
    "outputId": "9295f5c5-a629-4cbc-99d5-acdae89a4422"
   },
   "outputs": [
    {
     "data": {
      "text/plain": [
       "<function matplotlib.pyplot.show(*args, **kw)>"
      ]
     },
     "execution_count": 115,
     "metadata": {},
     "output_type": "execute_result"
    },
    {
     "data": {
      "image/png": "[encoded data removed]",
      "text/plain": [
       "<Figure size 432x288 with 1 Axes>"
      ]
     },
     "metadata": {
      "needs_background": "light"
     },
     "output_type": "display_data"
    }
   ],
   "source": [
    "import matplotlib.pyplot as plt\n",
    "plt.hist(user_id_movie.values)\n",
    "plt.show"
   ]
  },
  {
   "cell_type": "code",
   "execution_count": 116,
   "metadata": {
    "colab": {},
    "colab_type": "code",
    "id": "n6QDs_JgOVAP"
   },
   "outputs": [],
   "source": [
    "from sklearn import preprocessing\n",
    "le = preprocessing.LabelEncoder()\n",
    "le.fit(ratings['tmdb_id'])\n",
    "ratings['id_trans'] = le.transform(ratings['tmdb_id'])"
   ]
  },
  {
   "cell_type": "code",
   "execution_count": 117,
   "metadata": {
    "colab": {},
    "colab_type": "code",
    "id": "dWMHltTfOVAS",
    "outputId": "4293da13-8d64-426c-e20c-5cc39a598c6b"
   },
   "outputs": [
    {
     "data": {
      "text/html": [
       "<div>\n",
       "<style scoped>\n",
       "    .dataframe tbody tr th:only-of-type {\n",
       "        vertical-align: middle;\n",
       "    }\n",
       "\n",
       "    .dataframe tbody tr th {\n",
       "        vertical-align: top;\n",
       "    }\n",
       "\n",
       "    .dataframe thead th {\n",
       "        text-align: right;\n",
       "    }\n",
       "</style>\n",
       "<table border=\"1\" class=\"dataframe\">\n",
       "  <thead>\n",
       "    <tr style=\"text-align: right;\">\n",
       "      <th></th>\n",
       "      <th>userId</th>\n",
       "      <th>tmdb_id</th>\n",
       "      <th>rating</th>\n",
       "      <th>timestamp</th>\n",
       "      <th>id_trans</th>\n",
       "    </tr>\n",
       "  </thead>\n",
       "  <tbody>\n",
       "    <tr>\n",
       "      <th>0</th>\n",
       "      <td>1</td>\n",
       "      <td>31</td>\n",
       "      <td>2.5</td>\n",
       "      <td>2009-12-14</td>\n",
       "      <td>30</td>\n",
       "    </tr>\n",
       "    <tr>\n",
       "      <th>1</th>\n",
       "      <td>1</td>\n",
       "      <td>1029</td>\n",
       "      <td>3.0</td>\n",
       "      <td>2009-12-14</td>\n",
       "      <td>833</td>\n",
       "    </tr>\n",
       "    <tr>\n",
       "      <th>2</th>\n",
       "      <td>1</td>\n",
       "      <td>1061</td>\n",
       "      <td>3.0</td>\n",
       "      <td>2009-12-14</td>\n",
       "      <td>859</td>\n",
       "    </tr>\n",
       "    <tr>\n",
       "      <th>3</th>\n",
       "      <td>1</td>\n",
       "      <td>1129</td>\n",
       "      <td>2.0</td>\n",
       "      <td>2009-12-14</td>\n",
       "      <td>906</td>\n",
       "    </tr>\n",
       "    <tr>\n",
       "      <th>4</th>\n",
       "      <td>1</td>\n",
       "      <td>1172</td>\n",
       "      <td>4.0</td>\n",
       "      <td>2009-12-14</td>\n",
       "      <td>931</td>\n",
       "    </tr>\n",
       "  </tbody>\n",
       "</table>\n",
       "</div>"
      ],
      "text/plain": [
       "   userId  tmdb_id  rating   timestamp  id_trans\n",
       "0       1       31     2.5  2009-12-14        30\n",
       "1       1     1029     3.0  2009-12-14       833\n",
       "2       1     1061     3.0  2009-12-14       859\n",
       "3       1     1129     2.0  2009-12-14       906\n",
       "4       1     1172     4.0  2009-12-14       931"
      ]
     },
     "execution_count": 117,
     "metadata": {},
     "output_type": "execute_result"
    }
   ],
   "source": [
    "ratings.head()"
   ]
  },
  {
   "cell_type": "code",
   "execution_count": 118,
   "metadata": {
    "colab": {},
    "colab_type": "code",
    "id": "0I_NJ_AwOVAY",
    "outputId": "293b36a4-c683-4d64-ab81-0334e6dea48f"
   },
   "outputs": [
    {
     "data": {
      "text/plain": [
       "671"
      ]
     },
     "execution_count": 118,
     "metadata": {},
     "output_type": "execute_result"
    }
   ],
   "source": [
    "n_users = ratings.userId.nunique()\n",
    "n_users"
   ]
  },
  {
   "cell_type": "code",
   "execution_count": 119,
   "metadata": {
    "colab": {},
    "colab_type": "code",
    "id": "fr93JOciOVAc",
    "outputId": "98c60b97-d24f-49eb-ab36-754fb2a99fd9"
   },
   "outputs": [
    {
     "data": {
      "text/plain": [
       "9066"
      ]
     },
     "execution_count": 119,
     "metadata": {},
     "output_type": "execute_result"
    }
   ],
   "source": [
    "n_movies = ratings.tmdb_id.nunique()\n",
    "n_movies"
   ]
  },
  {
   "cell_type": "code",
   "execution_count": 120,
   "metadata": {
    "colab": {},
    "colab_type": "code",
    "id": "Ikxo86-hOVAi"
   },
   "outputs": [],
   "source": [
    "from sklearn.model_selection import train_test_split\n",
    "\n",
    "train_data, test_data = train_test_split(ratings, test_size=0.3)"
   ]
  },
  {
   "cell_type": "code",
   "execution_count": 197,
   "metadata": {},
   "outputs": [
    {
     "data": {
      "text/html": [
       "<div>\n",
       "<style scoped>\n",
       "    .dataframe tbody tr th:only-of-type {\n",
       "        vertical-align: middle;\n",
       "    }\n",
       "\n",
       "    .dataframe tbody tr th {\n",
       "        vertical-align: top;\n",
       "    }\n",
       "\n",
       "    .dataframe thead th {\n",
       "        text-align: right;\n",
       "    }\n",
       "</style>\n",
       "<table border=\"1\" class=\"dataframe\">\n",
       "  <thead>\n",
       "    <tr style=\"text-align: right;\">\n",
       "      <th></th>\n",
       "      <th>userId</th>\n",
       "      <th>tmdb_id</th>\n",
       "      <th>rating</th>\n",
       "      <th>timestamp</th>\n",
       "      <th>id_trans</th>\n",
       "    </tr>\n",
       "  </thead>\n",
       "  <tbody>\n",
       "    <tr>\n",
       "      <th>75687</th>\n",
       "      <td>525</td>\n",
       "      <td>4306</td>\n",
       "      <td>5.0</td>\n",
       "      <td>2002-06-24</td>\n",
       "      <td>3419</td>\n",
       "    </tr>\n",
       "    <tr>\n",
       "      <th>8597</th>\n",
       "      <td>56</td>\n",
       "      <td>56367</td>\n",
       "      <td>5.0</td>\n",
       "      <td>2016-06-27</td>\n",
       "      <td>6824</td>\n",
       "    </tr>\n",
       "    <tr>\n",
       "      <th>31921</th>\n",
       "      <td>232</td>\n",
       "      <td>1374</td>\n",
       "      <td>3.0</td>\n",
       "      <td>2000-04-07</td>\n",
       "      <td>1114</td>\n",
       "    </tr>\n",
       "    <tr>\n",
       "      <th>23872</th>\n",
       "      <td>169</td>\n",
       "      <td>1197</td>\n",
       "      <td>4.0</td>\n",
       "      <td>2009-02-10</td>\n",
       "      <td>954</td>\n",
       "    </tr>\n",
       "    <tr>\n",
       "      <th>85659</th>\n",
       "      <td>575</td>\n",
       "      <td>915</td>\n",
       "      <td>4.0</td>\n",
       "      <td>2002-04-06</td>\n",
       "      <td>736</td>\n",
       "    </tr>\n",
       "    <tr>\n",
       "      <th>...</th>\n",
       "      <td>...</td>\n",
       "      <td>...</td>\n",
       "      <td>...</td>\n",
       "      <td>...</td>\n",
       "      <td>...</td>\n",
       "    </tr>\n",
       "    <tr>\n",
       "      <th>18523</th>\n",
       "      <td>121</td>\n",
       "      <td>339</td>\n",
       "      <td>3.0</td>\n",
       "      <td>1996-05-26</td>\n",
       "      <td>304</td>\n",
       "    </tr>\n",
       "    <tr>\n",
       "      <th>44739</th>\n",
       "      <td>313</td>\n",
       "      <td>2394</td>\n",
       "      <td>5.0</td>\n",
       "      <td>2005-08-16</td>\n",
       "      <td>1904</td>\n",
       "    </tr>\n",
       "    <tr>\n",
       "      <th>40259</th>\n",
       "      <td>294</td>\n",
       "      <td>619</td>\n",
       "      <td>3.5</td>\n",
       "      <td>2003-08-22</td>\n",
       "      <td>545</td>\n",
       "    </tr>\n",
       "    <tr>\n",
       "      <th>61832</th>\n",
       "      <td>452</td>\n",
       "      <td>1752</td>\n",
       "      <td>2.0</td>\n",
       "      <td>2000-12-10</td>\n",
       "      <td>1377</td>\n",
       "    </tr>\n",
       "    <tr>\n",
       "      <th>41824</th>\n",
       "      <td>299</td>\n",
       "      <td>26749</td>\n",
       "      <td>5.0</td>\n",
       "      <td>2012-08-05</td>\n",
       "      <td>5839</td>\n",
       "    </tr>\n",
       "  </tbody>\n",
       "</table>\n",
       "<p>70002 rows × 5 columns</p>\n",
       "</div>"
      ],
      "text/plain": [
       "       userId  tmdb_id  rating   timestamp  id_trans\n",
       "75687     525     4306     5.0  2002-06-24      3419\n",
       "8597       56    56367     5.0  2016-06-27      6824\n",
       "31921     232     1374     3.0  2000-04-07      1114\n",
       "23872     169     1197     4.0  2009-02-10       954\n",
       "85659     575      915     4.0  2002-04-06       736\n",
       "...       ...      ...     ...         ...       ...\n",
       "18523     121      339     3.0  1996-05-26       304\n",
       "44739     313     2394     5.0  2005-08-16      1904\n",
       "40259     294      619     3.5  2003-08-22       545\n",
       "61832     452     1752     2.0  2000-12-10      1377\n",
       "41824     299    26749     5.0  2012-08-05      5839\n",
       "\n",
       "[70002 rows x 5 columns]"
      ]
     },
     "execution_count": 197,
     "metadata": {},
     "output_type": "execute_result"
    }
   ],
   "source": [
    "train_data"
   ]
  },
  {
   "cell_type": "code",
   "execution_count": 198,
   "metadata": {},
   "outputs": [
    {
     "data": {
      "text/html": [
       "<div>\n",
       "<style scoped>\n",
       "    .dataframe tbody tr th:only-of-type {\n",
       "        vertical-align: middle;\n",
       "    }\n",
       "\n",
       "    .dataframe tbody tr th {\n",
       "        vertical-align: top;\n",
       "    }\n",
       "\n",
       "    .dataframe thead th {\n",
       "        text-align: right;\n",
       "    }\n",
       "</style>\n",
       "<table border=\"1\" class=\"dataframe\">\n",
       "  <thead>\n",
       "    <tr style=\"text-align: right;\">\n",
       "      <th></th>\n",
       "      <th>userId</th>\n",
       "      <th>tmdb_id</th>\n",
       "      <th>rating</th>\n",
       "      <th>timestamp</th>\n",
       "      <th>id_trans</th>\n",
       "    </tr>\n",
       "  </thead>\n",
       "  <tbody>\n",
       "    <tr>\n",
       "      <th>37518</th>\n",
       "      <td>270</td>\n",
       "      <td>4308</td>\n",
       "      <td>3.0</td>\n",
       "      <td>2016-07-23</td>\n",
       "      <td>3420</td>\n",
       "    </tr>\n",
       "    <tr>\n",
       "      <th>99000</th>\n",
       "      <td>664</td>\n",
       "      <td>7445</td>\n",
       "      <td>4.5</td>\n",
       "      <td>2012-07-31</td>\n",
       "      <td>5144</td>\n",
       "    </tr>\n",
       "    <tr>\n",
       "      <th>70606</th>\n",
       "      <td>492</td>\n",
       "      <td>681</td>\n",
       "      <td>3.0</td>\n",
       "      <td>1998-06-18</td>\n",
       "      <td>581</td>\n",
       "    </tr>\n",
       "    <tr>\n",
       "      <th>72993</th>\n",
       "      <td>509</td>\n",
       "      <td>3978</td>\n",
       "      <td>3.0</td>\n",
       "      <td>2002-11-21</td>\n",
       "      <td>3183</td>\n",
       "    </tr>\n",
       "    <tr>\n",
       "      <th>71303</th>\n",
       "      <td>500</td>\n",
       "      <td>4973</td>\n",
       "      <td>4.5</td>\n",
       "      <td>2009-09-27</td>\n",
       "      <td>3854</td>\n",
       "    </tr>\n",
       "    <tr>\n",
       "      <th>...</th>\n",
       "      <td>...</td>\n",
       "      <td>...</td>\n",
       "      <td>...</td>\n",
       "      <td>...</td>\n",
       "      <td>...</td>\n",
       "    </tr>\n",
       "    <tr>\n",
       "      <th>32047</th>\n",
       "      <td>232</td>\n",
       "      <td>2145</td>\n",
       "      <td>4.0</td>\n",
       "      <td>2000-04-07</td>\n",
       "      <td>1703</td>\n",
       "    </tr>\n",
       "    <tr>\n",
       "      <th>65986</th>\n",
       "      <td>468</td>\n",
       "      <td>1610</td>\n",
       "      <td>2.5</td>\n",
       "      <td>2011-01-28</td>\n",
       "      <td>1281</td>\n",
       "    </tr>\n",
       "    <tr>\n",
       "      <th>24787</th>\n",
       "      <td>178</td>\n",
       "      <td>1302</td>\n",
       "      <td>2.5</td>\n",
       "      <td>2015-07-21</td>\n",
       "      <td>1055</td>\n",
       "    </tr>\n",
       "    <tr>\n",
       "      <th>82416</th>\n",
       "      <td>562</td>\n",
       "      <td>11</td>\n",
       "      <td>4.0</td>\n",
       "      <td>2006-12-30</td>\n",
       "      <td>10</td>\n",
       "    </tr>\n",
       "    <tr>\n",
       "      <th>71453</th>\n",
       "      <td>501</td>\n",
       "      <td>3949</td>\n",
       "      <td>5.0</td>\n",
       "      <td>2010-08-30</td>\n",
       "      <td>3157</td>\n",
       "    </tr>\n",
       "  </tbody>\n",
       "</table>\n",
       "<p>30002 rows × 5 columns</p>\n",
       "</div>"
      ],
      "text/plain": [
       "       userId  tmdb_id  rating   timestamp  id_trans\n",
       "37518     270     4308     3.0  2016-07-23      3420\n",
       "99000     664     7445     4.5  2012-07-31      5144\n",
       "70606     492      681     3.0  1998-06-18       581\n",
       "72993     509     3978     3.0  2002-11-21      3183\n",
       "71303     500     4973     4.5  2009-09-27      3854\n",
       "...       ...      ...     ...         ...       ...\n",
       "32047     232     2145     4.0  2000-04-07      1703\n",
       "65986     468     1610     2.5  2011-01-28      1281\n",
       "24787     178     1302     2.5  2015-07-21      1055\n",
       "82416     562       11     4.0  2006-12-30        10\n",
       "71453     501     3949     5.0  2010-08-30      3157\n",
       "\n",
       "[30002 rows x 5 columns]"
      ]
     },
     "execution_count": 198,
     "metadata": {},
     "output_type": "execute_result"
    }
   ],
   "source": [
    "test_data"
   ]
  },
  {
   "cell_type": "code",
   "execution_count": 121,
   "metadata": {
    "colab": {},
    "colab_type": "code",
    "id": "VlaWS4qXOVAm",
    "outputId": "52338684-adbb-4ec4-80be-4bcd19dee5c0"
   },
   "outputs": [
    {
     "data": {
      "text/plain": [
       "(671, 9066)"
      ]
     },
     "execution_count": 121,
     "metadata": {},
     "output_type": "execute_result"
    }
   ],
   "source": [
    "train_data_matrix = np.zeros((n_users, n_movies))\n",
    "\n",
    "train_data_matrix.shape"
   ]
  },
  {
   "cell_type": "code",
   "execution_count": 122,
   "metadata": {
    "colab": {},
    "colab_type": "code",
    "id": "Y1jVhTnAOVAp"
   },
   "outputs": [],
   "source": [
    "for line in train_data.itertuples():\n",
    "    train_data_matrix[line[1] - 1, line[5]] = line[3]"
   ]
  },
  {
   "cell_type": "code",
   "execution_count": 123,
   "metadata": {
    "colab": {},
    "colab_type": "code",
    "id": "lYyRDYWdOVAr"
   },
   "outputs": [],
   "source": [
    "test_data_matrix = np.zeros((n_users, n_movies))\n",
    "for line in test_data.itertuples():\n",
    "    test_data_matrix[line[1] - 1, line[5]] = line[3]"
   ]
  },
  {
   "cell_type": "code",
   "execution_count": 124,
   "metadata": {
    "colab": {},
    "colab_type": "code",
    "id": "k62hF21jOVAv",
    "outputId": "b3934b97-aca9-47f1-be79-ad4e34610d21"
   },
   "outputs": [
    {
     "name": "stdout",
     "output_type": "stream",
     "text": [
      "(671, 9066)\n",
      "(671, 9066)\n"
     ]
    }
   ],
   "source": [
    "print(train_data_matrix.shape)\n",
    "print(test_data_matrix.shape)"
   ]
  },
  {
   "cell_type": "code",
   "execution_count": 125,
   "metadata": {
    "colab": {},
    "colab_type": "code",
    "id": "8_e6HQk6OVAx",
    "outputId": "42ded08d-9660-452d-c098-11dbfb433948"
   },
   "outputs": [
    {
     "data": {
      "text/plain": [
       "array([[0., 0., 0., ..., 0., 0., 0.],\n",
       "       [0., 0., 0., ..., 0., 0., 0.],\n",
       "       [0., 0., 0., ..., 0., 0., 0.],\n",
       "       ...,\n",
       "       [0., 0., 0., ..., 0., 0., 0.],\n",
       "       [4., 0., 0., ..., 0., 0., 0.],\n",
       "       [0., 0., 0., ..., 0., 0., 0.]])"
      ]
     },
     "execution_count": 125,
     "metadata": {},
     "output_type": "execute_result"
    }
   ],
   "source": [
    "train_data_matrix"
   ]
  },
  {
   "cell_type": "code",
   "execution_count": 126,
   "metadata": {
    "colab": {},
    "colab_type": "code",
    "id": "_vxYZ7OxOVA0"
   },
   "outputs": [],
   "source": [
    "from sklearn.metrics.pairwise import pairwise_distances"
   ]
  },
  {
   "cell_type": "code",
   "execution_count": 127,
   "metadata": {
    "colab": {},
    "colab_type": "code",
    "id": "Em9OxbVyOVA2"
   },
   "outputs": [],
   "source": [
    "user_similarity = pairwise_distances(train_data_matrix, metric='cosine')"
   ]
  },
  {
   "cell_type": "code",
   "execution_count": 128,
   "metadata": {
    "colab": {},
    "colab_type": "code",
    "id": "Pj4ZE1-OOVA4"
   },
   "outputs": [],
   "source": [
    "movie_similarity = pairwise_distances(train_data_matrix.T, metric='cosine')"
   ]
  },
  {
   "cell_type": "code",
   "execution_count": 130,
   "metadata": {
    "colab": {},
    "colab_type": "code",
    "id": "1k_yyCC-OVBD",
    "outputId": "8d06bc6b-6e14-422e-88f9-d20843942d5e"
   },
   "outputs": [
    {
     "name": "stdout",
     "output_type": "stream",
     "text": [
      "User similarity matrix： (671, 671) Item similarity matrix： (9066, 9066)\n"
     ]
    }
   ],
   "source": [
    "print(u\"User similarity matrix：\", user_similarity.shape, u\"Item similarity matrix：\", movie_similarity.shape)"
   ]
  },
  {
   "cell_type": "code",
   "execution_count": 131,
   "metadata": {
    "colab": {},
    "colab_type": "code",
    "id": "5KQYB3lVOVBG",
    "outputId": "b1443103-ba0f-4800-e10b-0fbd869df470"
   },
   "outputs": [
    {
     "name": "stdout",
     "output_type": "stream",
     "text": [
      "[[0.         1.         1.         ... 1.         1.         1.        ]\n",
      " [1.         0.         0.92768556 ... 0.99119015 0.81051562 0.93183355]\n",
      " [1.         0.92768556 0.         ... 0.91322676 0.91766144 0.84648012]\n",
      " ...\n",
      " [1.         0.99119015 0.91322676 ... 0.         0.94662965 0.96779384]\n",
      " [1.         0.81051562 0.91766144 ... 0.94662965 0.         0.89010077]\n",
      " [1.         0.93183355 0.84648012 ... 0.96779384 0.89010077 0.        ]]\n"
     ]
    }
   ],
   "source": [
    "print(user_similarity)"
   ]
  },
  {
   "cell_type": "code",
   "execution_count": 133,
   "metadata": {
    "colab": {},
    "colab_type": "code",
    "id": "MplHdEuSOVBK",
    "outputId": "b7f813b5-8c5c-4659-c4f1-eff54889977d"
   },
   "outputs": [
    {
     "name": "stdout",
     "output_type": "stream",
     "text": [
      "[[0.         0.71361587 0.78719825 ... 1.         1.         0.93286896]\n",
      " [0.71361587 0.         0.81446775 ... 1.         1.         1.        ]\n",
      " [0.78719825 0.81446775 0.         ... 1.         1.         1.        ]\n",
      " ...\n",
      " [1.         1.         1.         ... 0.         0.         1.        ]\n",
      " [1.         1.         1.         ... 0.         0.         1.        ]\n",
      " [0.93286896 1.         1.         ... 1.         1.         0.        ]]\n"
     ]
    }
   ],
   "source": [
    "print(movie_similarity)"
   ]
  },
  {
   "cell_type": "code",
   "execution_count": 134,
   "metadata": {
    "colab": {},
    "colab_type": "code",
    "id": "Z0eWDUqWOVBN",
    "outputId": "f5ccfbc2-f9e7-4718-9205-cdfd6287ff06"
   },
   "outputs": [
    {
     "data": {
      "text/plain": [
       "array([[0.        , 1.        , 1.        , ..., 1.        , 1.        ,\n",
       "        1.        ],\n",
       "       [0.        , 0.        , 0.92768556, ..., 0.99119015, 0.81051562,\n",
       "        0.93183355],\n",
       "       [0.        , 0.        , 0.        , ..., 0.91322676, 0.91766144,\n",
       "        0.84648012],\n",
       "       ...,\n",
       "       [0.        , 0.        , 0.        , ..., 0.        , 0.94662965,\n",
       "        0.96779384],\n",
       "       [0.        , 0.        , 0.        , ..., 0.        , 0.        ,\n",
       "        0.89010077],\n",
       "       [0.        , 0.        , 0.        , ..., 0.        , 0.        ,\n",
       "        0.        ]])"
      ]
     },
     "execution_count": 134,
     "metadata": {},
     "output_type": "execute_result"
    }
   ],
   "source": [
    "user_similarity_triu = np.triu(user_similarity,k=1) #上三角矩阵\n",
    "user_similarity_triu"
   ]
  },
  {
   "cell_type": "code",
   "execution_count": 135,
   "metadata": {
    "colab": {},
    "colab_type": "code",
    "id": "b0e4kf6ZOVBQ",
    "outputId": "3943a5cd-e6af-4ddc-c3d4-b0f11b6b36c3"
   },
   "outputs": [
    {
     "data": {
      "text/plain": [
       "array([1.   , 1.   , 0.933, ..., 0.947, 0.968, 0.89 ])"
      ]
     },
     "execution_count": 135,
     "metadata": {},
     "output_type": "execute_result"
    }
   ],
   "source": [
    "item_sim_nonzero2 = np.round(user_similarity_triu[\n",
    "            user_similarity_triu.nonzero()\n",
    "            ],3)\n",
    "item_sim_nonzero2"
   ]
  },
  {
   "cell_type": "code",
   "execution_count": 136,
   "metadata": {
    "colab": {},
    "colab_type": "code",
    "id": "twPD1BxrOVBX",
    "outputId": "36e10359-9ec7-4933-dc42-294e619b3757"
   },
   "outputs": [
    {
     "data": {
      "text/plain": [
       "array([0.332, 0.844, 0.886, 0.912, 0.932, 0.948, 0.963, 0.977, 1.   ,\n",
       "       1.   , 1.   ])"
      ]
     },
     "execution_count": 136,
     "metadata": {},
     "output_type": "execute_result"
    }
   ],
   "source": [
    "np.percentile(item_sim_nonzero2,np.arange(0,101,10))"
   ]
  },
  {
   "cell_type": "code",
   "execution_count": 137,
   "metadata": {
    "colab": {},
    "colab_type": "code",
    "id": "W49rfLyeOVBa"
   },
   "outputs": [],
   "source": [
    "def predict(ratings, similarity, type):\n",
    "    # 基于用户相似度矩阵的\n",
    "    if type == 'user':\n",
    "        mean_user_rating = ratings.mean(axis=1)\n",
    "        # You use np.newaxis so that mean_user_rating has same format as ratings\n",
    "        ratings_diff = ( ratings - mean_user_rating[:, np.newaxis] )\n",
    "        pred = mean_user_rating[:, np.newaxis] + np.dot(similarity, ratings_diff) / np.array(\n",
    "            [np.abs(similarity).sum(axis=1)]).T\n",
    "    # 基于物品相似度矩阵的\n",
    "    elif type == 'item':\n",
    "        pred = ratings.dot(similarity) / np.array([np.abs(similarity).sum(axis=1)])\n",
    "    print(u\"Predictive value: \", pred.shape)\n",
    "    return pred"
   ]
  },
  {
   "cell_type": "code",
   "execution_count": 139,
   "metadata": {
    "colab": {},
    "colab_type": "code",
    "id": "V0oivcq2OVBd",
    "outputId": "13ceeae1-961c-4066-bd6a-7678e873b8d9"
   },
   "outputs": [
    {
     "name": "stdout",
     "output_type": "stream",
     "text": [
      "Predictive value:  (671, 9066)\n",
      "Predictive value:  (671, 9066)\n",
      "[[0.00332825 0.00355808 0.00361793 ... 0.00380872 0.00380872 0.00371499]\n",
      " [0.01727273 0.01664807 0.01854033 ... 0.02016694 0.02016694 0.02103006]\n",
      " [0.01178339 0.01266552 0.01378251 ... 0.01424785 0.01424785 0.01510425]\n",
      " ...\n",
      " [0.00798665 0.00848273 0.00877979 ... 0.00927341 0.00927341 0.0095207 ]\n",
      " [0.00854697 0.00966024 0.01059272 ... 0.01159176 0.01159176 0.01206697]\n",
      " [0.02736361 0.0302546  0.0322652  ... 0.03400388 0.03400388 0.03545437]]\n"
     ]
    }
   ],
   "source": [
    "user_prediction = predict(train_data_matrix, user_similarity, type='user')\n",
    "item_prediction = predict(train_data_matrix, movie_similarity, type='item')\n",
    "print(item_prediction)"
   ]
  },
  {
   "cell_type": "code",
   "execution_count": 140,
   "metadata": {
    "colab": {},
    "colab_type": "code",
    "id": "52lxM5XsOVBg",
    "outputId": "ae85d0f8-a94d-4d27-8599-57bb7be33ee0"
   },
   "outputs": [
    {
     "name": "stdout",
     "output_type": "stream",
     "text": [
      "[[ 9.51710774e-01  3.30607389e-01  1.41452457e-01 ... -2.89552481e-02\n",
      "  -3.19786324e-02 -2.94027254e-02]\n",
      " [ 9.71864032e-01  3.18266803e-01  1.57494909e-01 ... -1.24676016e-02\n",
      "  -1.56259861e-02 -1.27690375e-02]\n",
      " [ 9.50961417e-01  3.33701340e-01  1.57684979e-01 ... -1.88686694e-02\n",
      "  -2.16135367e-02 -1.80717766e-02]\n",
      " ...\n",
      " [ 9.50426053e-01  3.33029437e-01  1.46884974e-01 ... -2.32278957e-02\n",
      "  -2.63277545e-02 -2.35997984e-02]\n",
      " [ 9.28039408e-01  3.26541036e-01  1.47508750e-01 ... -2.06184262e-02\n",
      "  -2.39256136e-02 -2.12164156e-02]\n",
      " [ 9.55963060e-01  3.55053293e-01  1.75975097e-01 ...  2.65919656e-03\n",
      "  -4.10254331e-04  2.58654249e-03]]\n"
     ]
    }
   ],
   "source": [
    "print(user_prediction)"
   ]
  },
  {
   "cell_type": "code",
   "execution_count": 141,
   "metadata": {
    "colab": {},
    "colab_type": "code",
    "id": "14A5F-tNOVBj"
   },
   "outputs": [],
   "source": [
    "from sklearn.metrics import mean_squared_error\n",
    "from math import sqrt"
   ]
  },
  {
   "cell_type": "code",
   "execution_count": 142,
   "metadata": {
    "colab": {},
    "colab_type": "code",
    "id": "H6hiGKGsOVBp"
   },
   "outputs": [],
   "source": [
    "def rmse(prediction, ground_truth):\n",
    "    prediction = prediction[ground_truth.nonzero()].flatten()\n",
    "    ground_truth = ground_truth[ground_truth.nonzero()].flatten()\n",
    "    return sqrt(mean_squared_error(prediction, ground_truth))"
   ]
  },
  {
   "cell_type": "code",
   "execution_count": 143,
   "metadata": {
    "colab": {},
    "colab_type": "code",
    "id": "AzdQRB1fOVBw",
    "outputId": "462f25de-91d1-4c73-a13c-23a1f57c3a63"
   },
   "outputs": [
    {
     "name": "stdout",
     "output_type": "stream",
     "text": [
      "User-based CF RMSE: 3.387792761865986\n"
     ]
    }
   ],
   "source": [
    "print('User-based CF RMSE: ' + str(rmse(user_prediction, test_data_matrix)))"
   ]
  },
  {
   "cell_type": "code",
   "execution_count": 144,
   "metadata": {
    "colab": {},
    "colab_type": "code",
    "id": "gXdidYUmOVBy",
    "outputId": "0d5215a4-71c8-43a2-e613-a2f51e12e716"
   },
   "outputs": [
    {
     "name": "stdout",
     "output_type": "stream",
     "text": [
      "Item-based CF RMSE: 3.588796107874222\n"
     ]
    }
   ],
   "source": [
    "item_prediction = np.nan_to_num(item_prediction)\n",
    "print('Item-based CF RMSE: ' + str(rmse(item_prediction, test_data_matrix)))"
   ]
  },
  {
   "cell_type": "markdown",
   "metadata": {
    "colab_type": "text",
    "id": "NhTbH8nKOVB1"
   },
   "source": [
    "RMSE of training of model is a metric which measure how much the signal and the noise is explained by the model. "
   ]
  },
  {
   "cell_type": "markdown",
   "metadata": {
    "colab_type": "text",
    "id": "P0Y4kH5OOVB2"
   },
   "source": [
    "Overall, user-based and item-based Collaborative Filtering is easy to implement and produce reasonable prediction quality. However, there are some drawback of this approach:\n",
    "It doesn’t address the well-known cold-start problem, that is when new user or new item enters the system.\n",
    "It can’t deal with sparse data, meaning it’s hard to find users that have rated the same items.\n",
    "It suffers when new users or items that don’t have any ratings enter the system.\n",
    "It tends to recommend popular items."
   ]
  },
  {
   "cell_type": "markdown",
   "metadata": {
    "colab_type": "text",
    "id": "ziRcJr1NOVB2"
   },
   "source": [
    "### 2.2.2 Model-based Collaborative Filtering(SVD)"
   ]
  },
  {
   "cell_type": "code",
   "execution_count": 145,
   "metadata": {
    "colab": {},
    "colab_type": "code",
    "id": "nirIvMKqOVB3",
    "outputId": "5503bb7e-def0-4b5d-91cf-2535c4f61723"
   },
   "outputs": [
    {
     "data": {
      "text/html": [
       "<div>\n",
       "<style scoped>\n",
       "    .dataframe tbody tr th:only-of-type {\n",
       "        vertical-align: middle;\n",
       "    }\n",
       "\n",
       "    .dataframe tbody tr th {\n",
       "        vertical-align: top;\n",
       "    }\n",
       "\n",
       "    .dataframe thead th {\n",
       "        text-align: right;\n",
       "    }\n",
       "</style>\n",
       "<table border=\"1\" class=\"dataframe\">\n",
       "  <thead>\n",
       "    <tr style=\"text-align: right;\">\n",
       "      <th>tmdb_id</th>\n",
       "      <th>1</th>\n",
       "      <th>10</th>\n",
       "      <th>100</th>\n",
       "      <th>100017</th>\n",
       "      <th>100032</th>\n",
       "      <th>100034</th>\n",
       "      <th>100083</th>\n",
       "      <th>100106</th>\n",
       "      <th>100159</th>\n",
       "      <th>100163</th>\n",
       "      <th>...</th>\n",
       "      <th>99795</th>\n",
       "      <th>998</th>\n",
       "      <th>99811</th>\n",
       "      <th>99813</th>\n",
       "      <th>99839</th>\n",
       "      <th>99846</th>\n",
       "      <th>999</th>\n",
       "      <th>99912</th>\n",
       "      <th>99917</th>\n",
       "      <th>99992</th>\n",
       "    </tr>\n",
       "    <tr>\n",
       "      <th>userId</th>\n",
       "      <th></th>\n",
       "      <th></th>\n",
       "      <th></th>\n",
       "      <th></th>\n",
       "      <th></th>\n",
       "      <th></th>\n",
       "      <th></th>\n",
       "      <th></th>\n",
       "      <th></th>\n",
       "      <th></th>\n",
       "      <th></th>\n",
       "      <th></th>\n",
       "      <th></th>\n",
       "      <th></th>\n",
       "      <th></th>\n",
       "      <th></th>\n",
       "      <th></th>\n",
       "      <th></th>\n",
       "      <th></th>\n",
       "      <th></th>\n",
       "      <th></th>\n",
       "    </tr>\n",
       "  </thead>\n",
       "  <tbody>\n",
       "    <tr>\n",
       "      <th>1</th>\n",
       "      <td>0.0</td>\n",
       "      <td>0.0</td>\n",
       "      <td>0.0</td>\n",
       "      <td>0.0</td>\n",
       "      <td>0.0</td>\n",
       "      <td>0.0</td>\n",
       "      <td>0.0</td>\n",
       "      <td>0.0</td>\n",
       "      <td>0.0</td>\n",
       "      <td>0.0</td>\n",
       "      <td>...</td>\n",
       "      <td>0.0</td>\n",
       "      <td>0.0</td>\n",
       "      <td>0.0</td>\n",
       "      <td>0.0</td>\n",
       "      <td>0.0</td>\n",
       "      <td>0.0</td>\n",
       "      <td>0.0</td>\n",
       "      <td>0.0</td>\n",
       "      <td>0.0</td>\n",
       "      <td>0.0</td>\n",
       "    </tr>\n",
       "    <tr>\n",
       "      <th>2</th>\n",
       "      <td>0.0</td>\n",
       "      <td>4.0</td>\n",
       "      <td>0.0</td>\n",
       "      <td>0.0</td>\n",
       "      <td>0.0</td>\n",
       "      <td>0.0</td>\n",
       "      <td>0.0</td>\n",
       "      <td>0.0</td>\n",
       "      <td>0.0</td>\n",
       "      <td>0.0</td>\n",
       "      <td>...</td>\n",
       "      <td>0.0</td>\n",
       "      <td>0.0</td>\n",
       "      <td>0.0</td>\n",
       "      <td>0.0</td>\n",
       "      <td>0.0</td>\n",
       "      <td>0.0</td>\n",
       "      <td>0.0</td>\n",
       "      <td>0.0</td>\n",
       "      <td>0.0</td>\n",
       "      <td>0.0</td>\n",
       "    </tr>\n",
       "    <tr>\n",
       "      <th>3</th>\n",
       "      <td>0.0</td>\n",
       "      <td>0.0</td>\n",
       "      <td>0.0</td>\n",
       "      <td>0.0</td>\n",
       "      <td>0.0</td>\n",
       "      <td>0.0</td>\n",
       "      <td>0.0</td>\n",
       "      <td>0.0</td>\n",
       "      <td>0.0</td>\n",
       "      <td>0.0</td>\n",
       "      <td>...</td>\n",
       "      <td>0.0</td>\n",
       "      <td>0.0</td>\n",
       "      <td>0.0</td>\n",
       "      <td>0.0</td>\n",
       "      <td>0.0</td>\n",
       "      <td>0.0</td>\n",
       "      <td>0.0</td>\n",
       "      <td>0.0</td>\n",
       "      <td>0.0</td>\n",
       "      <td>0.0</td>\n",
       "    </tr>\n",
       "    <tr>\n",
       "      <th>4</th>\n",
       "      <td>0.0</td>\n",
       "      <td>4.0</td>\n",
       "      <td>0.0</td>\n",
       "      <td>0.0</td>\n",
       "      <td>0.0</td>\n",
       "      <td>0.0</td>\n",
       "      <td>0.0</td>\n",
       "      <td>0.0</td>\n",
       "      <td>0.0</td>\n",
       "      <td>0.0</td>\n",
       "      <td>...</td>\n",
       "      <td>0.0</td>\n",
       "      <td>0.0</td>\n",
       "      <td>0.0</td>\n",
       "      <td>0.0</td>\n",
       "      <td>0.0</td>\n",
       "      <td>0.0</td>\n",
       "      <td>0.0</td>\n",
       "      <td>0.0</td>\n",
       "      <td>0.0</td>\n",
       "      <td>0.0</td>\n",
       "    </tr>\n",
       "    <tr>\n",
       "      <th>5</th>\n",
       "      <td>0.0</td>\n",
       "      <td>0.0</td>\n",
       "      <td>0.0</td>\n",
       "      <td>0.0</td>\n",
       "      <td>0.0</td>\n",
       "      <td>0.0</td>\n",
       "      <td>0.0</td>\n",
       "      <td>0.0</td>\n",
       "      <td>0.0</td>\n",
       "      <td>0.0</td>\n",
       "      <td>...</td>\n",
       "      <td>0.0</td>\n",
       "      <td>0.0</td>\n",
       "      <td>0.0</td>\n",
       "      <td>0.0</td>\n",
       "      <td>0.0</td>\n",
       "      <td>0.0</td>\n",
       "      <td>0.0</td>\n",
       "      <td>0.0</td>\n",
       "      <td>0.0</td>\n",
       "      <td>0.0</td>\n",
       "    </tr>\n",
       "  </tbody>\n",
       "</table>\n",
       "<p>5 rows × 9066 columns</p>\n",
       "</div>"
      ],
      "text/plain": [
       "tmdb_id    1   10  100  100017  100032  100034  100083  100106  100159  \\\n",
       "userId                                                                   \n",
       "1        0.0  0.0  0.0     0.0     0.0     0.0     0.0     0.0     0.0   \n",
       "2        0.0  4.0  0.0     0.0     0.0     0.0     0.0     0.0     0.0   \n",
       "3        0.0  0.0  0.0     0.0     0.0     0.0     0.0     0.0     0.0   \n",
       "4        0.0  4.0  0.0     0.0     0.0     0.0     0.0     0.0     0.0   \n",
       "5        0.0  0.0  0.0     0.0     0.0     0.0     0.0     0.0     0.0   \n",
       "\n",
       "tmdb_id  100163  ...  99795  998  99811  99813  99839  99846  999  99912  \\\n",
       "userId           ...                                                       \n",
       "1           0.0  ...    0.0  0.0    0.0    0.0    0.0    0.0  0.0    0.0   \n",
       "2           0.0  ...    0.0  0.0    0.0    0.0    0.0    0.0  0.0    0.0   \n",
       "3           0.0  ...    0.0  0.0    0.0    0.0    0.0    0.0  0.0    0.0   \n",
       "4           0.0  ...    0.0  0.0    0.0    0.0    0.0    0.0  0.0    0.0   \n",
       "5           0.0  ...    0.0  0.0    0.0    0.0    0.0    0.0  0.0    0.0   \n",
       "\n",
       "tmdb_id  99917  99992  \n",
       "userId                 \n",
       "1          0.0    0.0  \n",
       "2          0.0    0.0  \n",
       "3          0.0    0.0  \n",
       "4          0.0    0.0  \n",
       "5          0.0    0.0  \n",
       "\n",
       "[5 rows x 9066 columns]"
      ]
     },
     "execution_count": 145,
     "metadata": {},
     "output_type": "execute_result"
    }
   ],
   "source": [
    "ratings['tmdb_id'] = ratings['tmdb_id'].apply(str)\n",
    "Ratings = ratings.pivot(index = 'userId', columns ='tmdb_id', values = 'rating').fillna(0)\n",
    "Ratings.head()"
   ]
  },
  {
   "cell_type": "code",
   "execution_count": 147,
   "metadata": {
    "colab": {},
    "colab_type": "code",
    "id": "lIwQo2kCOVB7",
    "outputId": "59518412-f85e-4fcc-ce85-1792923ab875"
   },
   "outputs": [],
   "source": [
    "#R = Ratings.as_matrix()\n",
    "R = Ratings.to_numpy()\n",
    "user_ratings_mean = np.mean(R, axis = 1)\n",
    "ratings_demeaned = R - user_ratings_mean.reshape(-1, 1)"
   ]
  },
  {
   "cell_type": "code",
   "execution_count": 148,
   "metadata": {
    "colab": {},
    "colab_type": "code",
    "id": "lxcVN_hsOVB-"
   },
   "outputs": [],
   "source": [
    "from scipy.sparse.linalg import svds \n",
    "U, sigma, Vt = svds(ratings_demeaned, k = 50)"
   ]
  },
  {
   "cell_type": "code",
   "execution_count": 149,
   "metadata": {
    "colab": {},
    "colab_type": "code",
    "id": "snjet29qOVCA"
   },
   "outputs": [],
   "source": [
    "sigma = np.diag(sigma)"
   ]
  },
  {
   "cell_type": "code",
   "execution_count": 150,
   "metadata": {
    "colab": {},
    "colab_type": "code",
    "id": "uVN7O-13OVCF"
   },
   "outputs": [],
   "source": [
    "all_user_predicted_ratings = np.dot(np.dot(U, sigma), Vt) + user_ratings_mean.reshape(-1, 1)"
   ]
  },
  {
   "cell_type": "code",
   "execution_count": 151,
   "metadata": {
    "colab": {},
    "colab_type": "code",
    "id": "vM55H6blOVCI",
    "outputId": "fffbf551-66bf-4d8c-e3f0-d105657a678a"
   },
   "outputs": [
    {
     "data": {
      "text/html": [
       "<div>\n",
       "<style scoped>\n",
       "    .dataframe tbody tr th:only-of-type {\n",
       "        vertical-align: middle;\n",
       "    }\n",
       "\n",
       "    .dataframe tbody tr th {\n",
       "        vertical-align: top;\n",
       "    }\n",
       "\n",
       "    .dataframe thead th {\n",
       "        text-align: right;\n",
       "    }\n",
       "</style>\n",
       "<table border=\"1\" class=\"dataframe\">\n",
       "  <thead>\n",
       "    <tr style=\"text-align: right;\">\n",
       "      <th>tmdb_id</th>\n",
       "      <th>1</th>\n",
       "      <th>10</th>\n",
       "      <th>100</th>\n",
       "      <th>100017</th>\n",
       "      <th>100032</th>\n",
       "      <th>100034</th>\n",
       "      <th>100083</th>\n",
       "      <th>100106</th>\n",
       "      <th>100159</th>\n",
       "      <th>100163</th>\n",
       "      <th>...</th>\n",
       "      <th>99795</th>\n",
       "      <th>998</th>\n",
       "      <th>99811</th>\n",
       "      <th>99813</th>\n",
       "      <th>99839</th>\n",
       "      <th>99846</th>\n",
       "      <th>999</th>\n",
       "      <th>99912</th>\n",
       "      <th>99917</th>\n",
       "      <th>99992</th>\n",
       "    </tr>\n",
       "  </thead>\n",
       "  <tbody>\n",
       "    <tr>\n",
       "      <th>0</th>\n",
       "      <td>-0.054239</td>\n",
       "      <td>0.037670</td>\n",
       "      <td>-0.009920</td>\n",
       "      <td>-0.020544</td>\n",
       "      <td>-0.004722</td>\n",
       "      <td>-0.008621</td>\n",
       "      <td>-0.004933</td>\n",
       "      <td>-0.003897</td>\n",
       "      <td>0.019938</td>\n",
       "      <td>-0.012280</td>\n",
       "      <td>...</td>\n",
       "      <td>0.008019</td>\n",
       "      <td>-0.011968</td>\n",
       "      <td>-0.003747</td>\n",
       "      <td>-0.015609</td>\n",
       "      <td>-0.004994</td>\n",
       "      <td>-0.003580</td>\n",
       "      <td>0.028580</td>\n",
       "      <td>-0.004408</td>\n",
       "      <td>-0.005453</td>\n",
       "      <td>-0.003580</td>\n",
       "    </tr>\n",
       "    <tr>\n",
       "      <th>1</th>\n",
       "      <td>0.419835</td>\n",
       "      <td>2.220256</td>\n",
       "      <td>-0.097641</td>\n",
       "      <td>-0.002199</td>\n",
       "      <td>-0.000172</td>\n",
       "      <td>-0.001921</td>\n",
       "      <td>-0.006062</td>\n",
       "      <td>-0.057228</td>\n",
       "      <td>-0.005017</td>\n",
       "      <td>-0.017252</td>\n",
       "      <td>...</td>\n",
       "      <td>-0.035397</td>\n",
       "      <td>-0.036604</td>\n",
       "      <td>0.004896</td>\n",
       "      <td>0.035671</td>\n",
       "      <td>-0.006310</td>\n",
       "      <td>-0.000182</td>\n",
       "      <td>0.006596</td>\n",
       "      <td>0.003073</td>\n",
       "      <td>-0.009955</td>\n",
       "      <td>-0.000182</td>\n",
       "    </tr>\n",
       "    <tr>\n",
       "      <th>2</th>\n",
       "      <td>1.345619</td>\n",
       "      <td>0.141176</td>\n",
       "      <td>-0.005922</td>\n",
       "      <td>0.033891</td>\n",
       "      <td>-0.012645</td>\n",
       "      <td>0.014838</td>\n",
       "      <td>0.005164</td>\n",
       "      <td>-0.015414</td>\n",
       "      <td>0.012995</td>\n",
       "      <td>-0.045484</td>\n",
       "      <td>...</td>\n",
       "      <td>0.018898</td>\n",
       "      <td>0.044556</td>\n",
       "      <td>-0.026354</td>\n",
       "      <td>-0.023502</td>\n",
       "      <td>-0.004873</td>\n",
       "      <td>-0.001294</td>\n",
       "      <td>0.023425</td>\n",
       "      <td>0.023469</td>\n",
       "      <td>0.000569</td>\n",
       "      <td>-0.001294</td>\n",
       "    </tr>\n",
       "    <tr>\n",
       "      <th>3</th>\n",
       "      <td>1.133455</td>\n",
       "      <td>1.611664</td>\n",
       "      <td>-0.661506</td>\n",
       "      <td>0.026870</td>\n",
       "      <td>0.022393</td>\n",
       "      <td>-0.050393</td>\n",
       "      <td>-0.008704</td>\n",
       "      <td>0.146679</td>\n",
       "      <td>0.052567</td>\n",
       "      <td>0.057701</td>\n",
       "      <td>...</td>\n",
       "      <td>0.009655</td>\n",
       "      <td>0.439857</td>\n",
       "      <td>0.051705</td>\n",
       "      <td>-0.031724</td>\n",
       "      <td>0.037440</td>\n",
       "      <td>0.005385</td>\n",
       "      <td>-0.348629</td>\n",
       "      <td>-0.027301</td>\n",
       "      <td>-0.013167</td>\n",
       "      <td>0.005385</td>\n",
       "    </tr>\n",
       "    <tr>\n",
       "      <th>4</th>\n",
       "      <td>1.389578</td>\n",
       "      <td>0.307926</td>\n",
       "      <td>-0.135217</td>\n",
       "      <td>0.077073</td>\n",
       "      <td>-0.008298</td>\n",
       "      <td>-0.002522</td>\n",
       "      <td>-0.010923</td>\n",
       "      <td>0.001503</td>\n",
       "      <td>0.045325</td>\n",
       "      <td>-0.042554</td>\n",
       "      <td>...</td>\n",
       "      <td>-0.020408</td>\n",
       "      <td>0.045892</td>\n",
       "      <td>-0.003615</td>\n",
       "      <td>0.160520</td>\n",
       "      <td>-0.004087</td>\n",
       "      <td>0.010483</td>\n",
       "      <td>0.013108</td>\n",
       "      <td>0.013803</td>\n",
       "      <td>-0.052466</td>\n",
       "      <td>0.010483</td>\n",
       "    </tr>\n",
       "    <tr>\n",
       "      <th>...</th>\n",
       "      <td>...</td>\n",
       "      <td>...</td>\n",
       "      <td>...</td>\n",
       "      <td>...</td>\n",
       "      <td>...</td>\n",
       "      <td>...</td>\n",
       "      <td>...</td>\n",
       "      <td>...</td>\n",
       "      <td>...</td>\n",
       "      <td>...</td>\n",
       "      <td>...</td>\n",
       "      <td>...</td>\n",
       "      <td>...</td>\n",
       "      <td>...</td>\n",
       "      <td>...</td>\n",
       "      <td>...</td>\n",
       "      <td>...</td>\n",
       "      <td>...</td>\n",
       "      <td>...</td>\n",
       "      <td>...</td>\n",
       "      <td>...</td>\n",
       "    </tr>\n",
       "    <tr>\n",
       "      <th>666</th>\n",
       "      <td>1.445072</td>\n",
       "      <td>1.376292</td>\n",
       "      <td>0.254094</td>\n",
       "      <td>0.006200</td>\n",
       "      <td>-0.003249</td>\n",
       "      <td>-0.016679</td>\n",
       "      <td>-0.008304</td>\n",
       "      <td>0.027554</td>\n",
       "      <td>-0.009522</td>\n",
       "      <td>-0.019855</td>\n",
       "      <td>...</td>\n",
       "      <td>-0.001625</td>\n",
       "      <td>-0.087263</td>\n",
       "      <td>0.001066</td>\n",
       "      <td>-0.016884</td>\n",
       "      <td>-0.003227</td>\n",
       "      <td>0.011049</td>\n",
       "      <td>0.287438</td>\n",
       "      <td>-0.016345</td>\n",
       "      <td>-0.031019</td>\n",
       "      <td>0.011049</td>\n",
       "    </tr>\n",
       "    <tr>\n",
       "      <th>667</th>\n",
       "      <td>0.556714</td>\n",
       "      <td>0.004020</td>\n",
       "      <td>0.097895</td>\n",
       "      <td>0.011280</td>\n",
       "      <td>-0.006188</td>\n",
       "      <td>0.016954</td>\n",
       "      <td>-0.003288</td>\n",
       "      <td>0.021735</td>\n",
       "      <td>-0.021619</td>\n",
       "      <td>0.023661</td>\n",
       "      <td>...</td>\n",
       "      <td>0.015179</td>\n",
       "      <td>-0.003594</td>\n",
       "      <td>-0.016268</td>\n",
       "      <td>-0.016771</td>\n",
       "      <td>0.003840</td>\n",
       "      <td>0.013436</td>\n",
       "      <td>0.059448</td>\n",
       "      <td>-0.010360</td>\n",
       "      <td>-0.011425</td>\n",
       "      <td>0.013436</td>\n",
       "    </tr>\n",
       "    <tr>\n",
       "      <th>668</th>\n",
       "      <td>0.728688</td>\n",
       "      <td>0.030707</td>\n",
       "      <td>0.033541</td>\n",
       "      <td>-0.004786</td>\n",
       "      <td>-0.007358</td>\n",
       "      <td>0.006884</td>\n",
       "      <td>-0.006156</td>\n",
       "      <td>0.008107</td>\n",
       "      <td>0.009116</td>\n",
       "      <td>-0.027498</td>\n",
       "      <td>...</td>\n",
       "      <td>-0.007988</td>\n",
       "      <td>-0.023080</td>\n",
       "      <td>-0.011503</td>\n",
       "      <td>0.012145</td>\n",
       "      <td>-0.006243</td>\n",
       "      <td>-0.000677</td>\n",
       "      <td>0.187338</td>\n",
       "      <td>0.008716</td>\n",
       "      <td>-0.014622</td>\n",
       "      <td>-0.000677</td>\n",
       "    </tr>\n",
       "    <tr>\n",
       "      <th>669</th>\n",
       "      <td>1.581870</td>\n",
       "      <td>0.240628</td>\n",
       "      <td>0.156856</td>\n",
       "      <td>-0.014139</td>\n",
       "      <td>0.005590</td>\n",
       "      <td>-0.003352</td>\n",
       "      <td>0.000890</td>\n",
       "      <td>-0.019380</td>\n",
       "      <td>-0.012332</td>\n",
       "      <td>-0.017724</td>\n",
       "      <td>...</td>\n",
       "      <td>-0.035337</td>\n",
       "      <td>-0.077717</td>\n",
       "      <td>0.005399</td>\n",
       "      <td>-0.040386</td>\n",
       "      <td>0.004823</td>\n",
       "      <td>0.008510</td>\n",
       "      <td>0.164131</td>\n",
       "      <td>-0.015918</td>\n",
       "      <td>-0.002344</td>\n",
       "      <td>0.008510</td>\n",
       "    </tr>\n",
       "    <tr>\n",
       "      <th>670</th>\n",
       "      <td>3.507905</td>\n",
       "      <td>0.075675</td>\n",
       "      <td>-0.187195</td>\n",
       "      <td>-0.051775</td>\n",
       "      <td>-0.031160</td>\n",
       "      <td>0.003855</td>\n",
       "      <td>0.005426</td>\n",
       "      <td>-0.019523</td>\n",
       "      <td>-0.021649</td>\n",
       "      <td>0.005269</td>\n",
       "      <td>...</td>\n",
       "      <td>-0.043425</td>\n",
       "      <td>-0.207043</td>\n",
       "      <td>-0.070658</td>\n",
       "      <td>-0.118675</td>\n",
       "      <td>-0.011802</td>\n",
       "      <td>-0.009108</td>\n",
       "      <td>0.031460</td>\n",
       "      <td>-0.008574</td>\n",
       "      <td>0.045531</td>\n",
       "      <td>-0.009108</td>\n",
       "    </tr>\n",
       "  </tbody>\n",
       "</table>\n",
       "<p>671 rows × 9066 columns</p>\n",
       "</div>"
      ],
      "text/plain": [
       "tmdb_id         1        10       100    100017    100032    100034    100083  \\\n",
       "0       -0.054239  0.037670 -0.009920 -0.020544 -0.004722 -0.008621 -0.004933   \n",
       "1        0.419835  2.220256 -0.097641 -0.002199 -0.000172 -0.001921 -0.006062   \n",
       "2        1.345619  0.141176 -0.005922  0.033891 -0.012645  0.014838  0.005164   \n",
       "3        1.133455  1.611664 -0.661506  0.026870  0.022393 -0.050393 -0.008704   \n",
       "4        1.389578  0.307926 -0.135217  0.077073 -0.008298 -0.002522 -0.010923   \n",
       "..            ...       ...       ...       ...       ...       ...       ...   \n",
       "666      1.445072  1.376292  0.254094  0.006200 -0.003249 -0.016679 -0.008304   \n",
       "667      0.556714  0.004020  0.097895  0.011280 -0.006188  0.016954 -0.003288   \n",
       "668      0.728688  0.030707  0.033541 -0.004786 -0.007358  0.006884 -0.006156   \n",
       "669      1.581870  0.240628  0.156856 -0.014139  0.005590 -0.003352  0.000890   \n",
       "670      3.507905  0.075675 -0.187195 -0.051775 -0.031160  0.003855  0.005426   \n",
       "\n",
       "tmdb_id    100106    100159    100163  ...     99795       998     99811  \\\n",
       "0       -0.003897  0.019938 -0.012280  ...  0.008019 -0.011968 -0.003747   \n",
       "1       -0.057228 -0.005017 -0.017252  ... -0.035397 -0.036604  0.004896   \n",
       "2       -0.015414  0.012995 -0.045484  ...  0.018898  0.044556 -0.026354   \n",
       "3        0.146679  0.052567  0.057701  ...  0.009655  0.439857  0.051705   \n",
       "4        0.001503  0.045325 -0.042554  ... -0.020408  0.045892 -0.003615   \n",
       "..            ...       ...       ...  ...       ...       ...       ...   \n",
       "666      0.027554 -0.009522 -0.019855  ... -0.001625 -0.087263  0.001066   \n",
       "667      0.021735 -0.021619  0.023661  ...  0.015179 -0.003594 -0.016268   \n",
       "668      0.008107  0.009116 -0.027498  ... -0.007988 -0.023080 -0.011503   \n",
       "669     -0.019380 -0.012332 -0.017724  ... -0.035337 -0.077717  0.005399   \n",
       "670     -0.019523 -0.021649  0.005269  ... -0.043425 -0.207043 -0.070658   \n",
       "\n",
       "tmdb_id     99813     99839     99846       999     99912     99917     99992  \n",
       "0       -0.015609 -0.004994 -0.003580  0.028580 -0.004408 -0.005453 -0.003580  \n",
       "1        0.035671 -0.006310 -0.000182  0.006596  0.003073 -0.009955 -0.000182  \n",
       "2       -0.023502 -0.004873 -0.001294  0.023425  0.023469  0.000569 -0.001294  \n",
       "3       -0.031724  0.037440  0.005385 -0.348629 -0.027301 -0.013167  0.005385  \n",
       "4        0.160520 -0.004087  0.010483  0.013108  0.013803 -0.052466  0.010483  \n",
       "..            ...       ...       ...       ...       ...       ...       ...  \n",
       "666     -0.016884 -0.003227  0.011049  0.287438 -0.016345 -0.031019  0.011049  \n",
       "667     -0.016771  0.003840  0.013436  0.059448 -0.010360 -0.011425  0.013436  \n",
       "668      0.012145 -0.006243 -0.000677  0.187338  0.008716 -0.014622 -0.000677  \n",
       "669     -0.040386  0.004823  0.008510  0.164131 -0.015918 -0.002344  0.008510  \n",
       "670     -0.118675 -0.011802 -0.009108  0.031460 -0.008574  0.045531 -0.009108  \n",
       "\n",
       "[671 rows x 9066 columns]"
      ]
     },
     "execution_count": 151,
     "metadata": {},
     "output_type": "execute_result"
    }
   ],
   "source": [
    "preds = pd.DataFrame(all_user_predicted_ratings, columns = Ratings.columns)\n",
    "preds"
   ]
  },
  {
   "cell_type": "code",
   "execution_count": 164,
   "metadata": {
    "colab": {},
    "colab_type": "code",
    "id": "-Zd2ZY3vOVCM"
   },
   "outputs": [
    {
     "data": {
      "text/html": [
       "<div>\n",
       "<style scoped>\n",
       "    .dataframe tbody tr th:only-of-type {\n",
       "        vertical-align: middle;\n",
       "    }\n",
       "\n",
       "    .dataframe tbody tr th {\n",
       "        vertical-align: top;\n",
       "    }\n",
       "\n",
       "    .dataframe thead th {\n",
       "        text-align: right;\n",
       "    }\n",
       "</style>\n",
       "<table border=\"1\" class=\"dataframe\">\n",
       "  <thead>\n",
       "    <tr style=\"text-align: right;\">\n",
       "      <th></th>\n",
       "      <th>userId</th>\n",
       "      <th>tmdb_id</th>\n",
       "      <th>rating</th>\n",
       "      <th>timestamp</th>\n",
       "      <th>id_trans</th>\n",
       "    </tr>\n",
       "  </thead>\n",
       "  <tbody>\n",
       "    <tr>\n",
       "      <th>0</th>\n",
       "      <td>1</td>\n",
       "      <td>31</td>\n",
       "      <td>2.5</td>\n",
       "      <td>2009-12-14</td>\n",
       "      <td>30</td>\n",
       "    </tr>\n",
       "    <tr>\n",
       "      <th>1</th>\n",
       "      <td>1</td>\n",
       "      <td>1029</td>\n",
       "      <td>3.0</td>\n",
       "      <td>2009-12-14</td>\n",
       "      <td>833</td>\n",
       "    </tr>\n",
       "    <tr>\n",
       "      <th>2</th>\n",
       "      <td>1</td>\n",
       "      <td>1061</td>\n",
       "      <td>3.0</td>\n",
       "      <td>2009-12-14</td>\n",
       "      <td>859</td>\n",
       "    </tr>\n",
       "    <tr>\n",
       "      <th>3</th>\n",
       "      <td>1</td>\n",
       "      <td>1129</td>\n",
       "      <td>2.0</td>\n",
       "      <td>2009-12-14</td>\n",
       "      <td>906</td>\n",
       "    </tr>\n",
       "    <tr>\n",
       "      <th>4</th>\n",
       "      <td>1</td>\n",
       "      <td>1172</td>\n",
       "      <td>4.0</td>\n",
       "      <td>2009-12-14</td>\n",
       "      <td>931</td>\n",
       "    </tr>\n",
       "  </tbody>\n",
       "</table>\n",
       "</div>"
      ],
      "text/plain": [
       "   userId tmdb_id  rating   timestamp  id_trans\n",
       "0       1      31     2.5  2009-12-14        30\n",
       "1       1    1029     3.0  2009-12-14       833\n",
       "2       1    1061     3.0  2009-12-14       859\n",
       "3       1    1129     2.0  2009-12-14       906\n",
       "4       1    1172     4.0  2009-12-14       931"
      ]
     },
     "execution_count": 164,
     "metadata": {},
     "output_type": "execute_result"
    }
   ],
   "source": [
    "ratings['tmdb_id'] = ratings['tmdb_id'].apply(str)\n",
    "ratings.head()"
   ]
  },
  {
   "cell_type": "code",
   "execution_count": 167,
   "metadata": {},
   "outputs": [
    {
     "data": {
      "text/html": [
       "<div>\n",
       "<style scoped>\n",
       "    .dataframe tbody tr th:only-of-type {\n",
       "        vertical-align: middle;\n",
       "    }\n",
       "\n",
       "    .dataframe tbody tr th {\n",
       "        vertical-align: top;\n",
       "    }\n",
       "\n",
       "    .dataframe thead th {\n",
       "        text-align: right;\n",
       "    }\n",
       "</style>\n",
       "<table border=\"1\" class=\"dataframe\">\n",
       "  <thead>\n",
       "    <tr style=\"text-align: right;\">\n",
       "      <th>tmdb_id</th>\n",
       "      <th>1</th>\n",
       "      <th>10</th>\n",
       "      <th>100</th>\n",
       "      <th>100017</th>\n",
       "      <th>100032</th>\n",
       "      <th>100034</th>\n",
       "      <th>100083</th>\n",
       "      <th>100106</th>\n",
       "      <th>100159</th>\n",
       "      <th>100163</th>\n",
       "      <th>...</th>\n",
       "      <th>99795</th>\n",
       "      <th>998</th>\n",
       "      <th>99811</th>\n",
       "      <th>99813</th>\n",
       "      <th>99839</th>\n",
       "      <th>99846</th>\n",
       "      <th>999</th>\n",
       "      <th>99912</th>\n",
       "      <th>99917</th>\n",
       "      <th>99992</th>\n",
       "    </tr>\n",
       "  </thead>\n",
       "  <tbody>\n",
       "    <tr>\n",
       "      <th>0</th>\n",
       "      <td>-0.054239</td>\n",
       "      <td>0.037670</td>\n",
       "      <td>-0.009920</td>\n",
       "      <td>-0.020544</td>\n",
       "      <td>-0.004722</td>\n",
       "      <td>-0.008621</td>\n",
       "      <td>-0.004933</td>\n",
       "      <td>-0.003897</td>\n",
       "      <td>0.019938</td>\n",
       "      <td>-0.012280</td>\n",
       "      <td>...</td>\n",
       "      <td>0.008019</td>\n",
       "      <td>-0.011968</td>\n",
       "      <td>-0.003747</td>\n",
       "      <td>-0.015609</td>\n",
       "      <td>-0.004994</td>\n",
       "      <td>-0.003580</td>\n",
       "      <td>0.028580</td>\n",
       "      <td>-0.004408</td>\n",
       "      <td>-0.005453</td>\n",
       "      <td>-0.003580</td>\n",
       "    </tr>\n",
       "    <tr>\n",
       "      <th>1</th>\n",
       "      <td>0.419835</td>\n",
       "      <td>2.220256</td>\n",
       "      <td>-0.097641</td>\n",
       "      <td>-0.002199</td>\n",
       "      <td>-0.000172</td>\n",
       "      <td>-0.001921</td>\n",
       "      <td>-0.006062</td>\n",
       "      <td>-0.057228</td>\n",
       "      <td>-0.005017</td>\n",
       "      <td>-0.017252</td>\n",
       "      <td>...</td>\n",
       "      <td>-0.035397</td>\n",
       "      <td>-0.036604</td>\n",
       "      <td>0.004896</td>\n",
       "      <td>0.035671</td>\n",
       "      <td>-0.006310</td>\n",
       "      <td>-0.000182</td>\n",
       "      <td>0.006596</td>\n",
       "      <td>0.003073</td>\n",
       "      <td>-0.009955</td>\n",
       "      <td>-0.000182</td>\n",
       "    </tr>\n",
       "    <tr>\n",
       "      <th>2</th>\n",
       "      <td>1.345619</td>\n",
       "      <td>0.141176</td>\n",
       "      <td>-0.005922</td>\n",
       "      <td>0.033891</td>\n",
       "      <td>-0.012645</td>\n",
       "      <td>0.014838</td>\n",
       "      <td>0.005164</td>\n",
       "      <td>-0.015414</td>\n",
       "      <td>0.012995</td>\n",
       "      <td>-0.045484</td>\n",
       "      <td>...</td>\n",
       "      <td>0.018898</td>\n",
       "      <td>0.044556</td>\n",
       "      <td>-0.026354</td>\n",
       "      <td>-0.023502</td>\n",
       "      <td>-0.004873</td>\n",
       "      <td>-0.001294</td>\n",
       "      <td>0.023425</td>\n",
       "      <td>0.023469</td>\n",
       "      <td>0.000569</td>\n",
       "      <td>-0.001294</td>\n",
       "    </tr>\n",
       "    <tr>\n",
       "      <th>3</th>\n",
       "      <td>1.133455</td>\n",
       "      <td>1.611664</td>\n",
       "      <td>-0.661506</td>\n",
       "      <td>0.026870</td>\n",
       "      <td>0.022393</td>\n",
       "      <td>-0.050393</td>\n",
       "      <td>-0.008704</td>\n",
       "      <td>0.146679</td>\n",
       "      <td>0.052567</td>\n",
       "      <td>0.057701</td>\n",
       "      <td>...</td>\n",
       "      <td>0.009655</td>\n",
       "      <td>0.439857</td>\n",
       "      <td>0.051705</td>\n",
       "      <td>-0.031724</td>\n",
       "      <td>0.037440</td>\n",
       "      <td>0.005385</td>\n",
       "      <td>-0.348629</td>\n",
       "      <td>-0.027301</td>\n",
       "      <td>-0.013167</td>\n",
       "      <td>0.005385</td>\n",
       "    </tr>\n",
       "    <tr>\n",
       "      <th>4</th>\n",
       "      <td>1.389578</td>\n",
       "      <td>0.307926</td>\n",
       "      <td>-0.135217</td>\n",
       "      <td>0.077073</td>\n",
       "      <td>-0.008298</td>\n",
       "      <td>-0.002522</td>\n",
       "      <td>-0.010923</td>\n",
       "      <td>0.001503</td>\n",
       "      <td>0.045325</td>\n",
       "      <td>-0.042554</td>\n",
       "      <td>...</td>\n",
       "      <td>-0.020408</td>\n",
       "      <td>0.045892</td>\n",
       "      <td>-0.003615</td>\n",
       "      <td>0.160520</td>\n",
       "      <td>-0.004087</td>\n",
       "      <td>0.010483</td>\n",
       "      <td>0.013108</td>\n",
       "      <td>0.013803</td>\n",
       "      <td>-0.052466</td>\n",
       "      <td>0.010483</td>\n",
       "    </tr>\n",
       "    <tr>\n",
       "      <th>...</th>\n",
       "      <td>...</td>\n",
       "      <td>...</td>\n",
       "      <td>...</td>\n",
       "      <td>...</td>\n",
       "      <td>...</td>\n",
       "      <td>...</td>\n",
       "      <td>...</td>\n",
       "      <td>...</td>\n",
       "      <td>...</td>\n",
       "      <td>...</td>\n",
       "      <td>...</td>\n",
       "      <td>...</td>\n",
       "      <td>...</td>\n",
       "      <td>...</td>\n",
       "      <td>...</td>\n",
       "      <td>...</td>\n",
       "      <td>...</td>\n",
       "      <td>...</td>\n",
       "      <td>...</td>\n",
       "      <td>...</td>\n",
       "      <td>...</td>\n",
       "    </tr>\n",
       "    <tr>\n",
       "      <th>666</th>\n",
       "      <td>1.445072</td>\n",
       "      <td>1.376292</td>\n",
       "      <td>0.254094</td>\n",
       "      <td>0.006200</td>\n",
       "      <td>-0.003249</td>\n",
       "      <td>-0.016679</td>\n",
       "      <td>-0.008304</td>\n",
       "      <td>0.027554</td>\n",
       "      <td>-0.009522</td>\n",
       "      <td>-0.019855</td>\n",
       "      <td>...</td>\n",
       "      <td>-0.001625</td>\n",
       "      <td>-0.087263</td>\n",
       "      <td>0.001066</td>\n",
       "      <td>-0.016884</td>\n",
       "      <td>-0.003227</td>\n",
       "      <td>0.011049</td>\n",
       "      <td>0.287438</td>\n",
       "      <td>-0.016345</td>\n",
       "      <td>-0.031019</td>\n",
       "      <td>0.011049</td>\n",
       "    </tr>\n",
       "    <tr>\n",
       "      <th>667</th>\n",
       "      <td>0.556714</td>\n",
       "      <td>0.004020</td>\n",
       "      <td>0.097895</td>\n",
       "      <td>0.011280</td>\n",
       "      <td>-0.006188</td>\n",
       "      <td>0.016954</td>\n",
       "      <td>-0.003288</td>\n",
       "      <td>0.021735</td>\n",
       "      <td>-0.021619</td>\n",
       "      <td>0.023661</td>\n",
       "      <td>...</td>\n",
       "      <td>0.015179</td>\n",
       "      <td>-0.003594</td>\n",
       "      <td>-0.016268</td>\n",
       "      <td>-0.016771</td>\n",
       "      <td>0.003840</td>\n",
       "      <td>0.013436</td>\n",
       "      <td>0.059448</td>\n",
       "      <td>-0.010360</td>\n",
       "      <td>-0.011425</td>\n",
       "      <td>0.013436</td>\n",
       "    </tr>\n",
       "    <tr>\n",
       "      <th>668</th>\n",
       "      <td>0.728688</td>\n",
       "      <td>0.030707</td>\n",
       "      <td>0.033541</td>\n",
       "      <td>-0.004786</td>\n",
       "      <td>-0.007358</td>\n",
       "      <td>0.006884</td>\n",
       "      <td>-0.006156</td>\n",
       "      <td>0.008107</td>\n",
       "      <td>0.009116</td>\n",
       "      <td>-0.027498</td>\n",
       "      <td>...</td>\n",
       "      <td>-0.007988</td>\n",
       "      <td>-0.023080</td>\n",
       "      <td>-0.011503</td>\n",
       "      <td>0.012145</td>\n",
       "      <td>-0.006243</td>\n",
       "      <td>-0.000677</td>\n",
       "      <td>0.187338</td>\n",
       "      <td>0.008716</td>\n",
       "      <td>-0.014622</td>\n",
       "      <td>-0.000677</td>\n",
       "    </tr>\n",
       "    <tr>\n",
       "      <th>669</th>\n",
       "      <td>1.581870</td>\n",
       "      <td>0.240628</td>\n",
       "      <td>0.156856</td>\n",
       "      <td>-0.014139</td>\n",
       "      <td>0.005590</td>\n",
       "      <td>-0.003352</td>\n",
       "      <td>0.000890</td>\n",
       "      <td>-0.019380</td>\n",
       "      <td>-0.012332</td>\n",
       "      <td>-0.017724</td>\n",
       "      <td>...</td>\n",
       "      <td>-0.035337</td>\n",
       "      <td>-0.077717</td>\n",
       "      <td>0.005399</td>\n",
       "      <td>-0.040386</td>\n",
       "      <td>0.004823</td>\n",
       "      <td>0.008510</td>\n",
       "      <td>0.164131</td>\n",
       "      <td>-0.015918</td>\n",
       "      <td>-0.002344</td>\n",
       "      <td>0.008510</td>\n",
       "    </tr>\n",
       "    <tr>\n",
       "      <th>670</th>\n",
       "      <td>3.507905</td>\n",
       "      <td>0.075675</td>\n",
       "      <td>-0.187195</td>\n",
       "      <td>-0.051775</td>\n",
       "      <td>-0.031160</td>\n",
       "      <td>0.003855</td>\n",
       "      <td>0.005426</td>\n",
       "      <td>-0.019523</td>\n",
       "      <td>-0.021649</td>\n",
       "      <td>0.005269</td>\n",
       "      <td>...</td>\n",
       "      <td>-0.043425</td>\n",
       "      <td>-0.207043</td>\n",
       "      <td>-0.070658</td>\n",
       "      <td>-0.118675</td>\n",
       "      <td>-0.011802</td>\n",
       "      <td>-0.009108</td>\n",
       "      <td>0.031460</td>\n",
       "      <td>-0.008574</td>\n",
       "      <td>0.045531</td>\n",
       "      <td>-0.009108</td>\n",
       "    </tr>\n",
       "  </tbody>\n",
       "</table>\n",
       "<p>671 rows × 9066 columns</p>\n",
       "</div>"
      ],
      "text/plain": [
       "tmdb_id         1        10       100    100017    100032    100034    100083  \\\n",
       "0       -0.054239  0.037670 -0.009920 -0.020544 -0.004722 -0.008621 -0.004933   \n",
       "1        0.419835  2.220256 -0.097641 -0.002199 -0.000172 -0.001921 -0.006062   \n",
       "2        1.345619  0.141176 -0.005922  0.033891 -0.012645  0.014838  0.005164   \n",
       "3        1.133455  1.611664 -0.661506  0.026870  0.022393 -0.050393 -0.008704   \n",
       "4        1.389578  0.307926 -0.135217  0.077073 -0.008298 -0.002522 -0.010923   \n",
       "..            ...       ...       ...       ...       ...       ...       ...   \n",
       "666      1.445072  1.376292  0.254094  0.006200 -0.003249 -0.016679 -0.008304   \n",
       "667      0.556714  0.004020  0.097895  0.011280 -0.006188  0.016954 -0.003288   \n",
       "668      0.728688  0.030707  0.033541 -0.004786 -0.007358  0.006884 -0.006156   \n",
       "669      1.581870  0.240628  0.156856 -0.014139  0.005590 -0.003352  0.000890   \n",
       "670      3.507905  0.075675 -0.187195 -0.051775 -0.031160  0.003855  0.005426   \n",
       "\n",
       "tmdb_id    100106    100159    100163  ...     99795       998     99811  \\\n",
       "0       -0.003897  0.019938 -0.012280  ...  0.008019 -0.011968 -0.003747   \n",
       "1       -0.057228 -0.005017 -0.017252  ... -0.035397 -0.036604  0.004896   \n",
       "2       -0.015414  0.012995 -0.045484  ...  0.018898  0.044556 -0.026354   \n",
       "3        0.146679  0.052567  0.057701  ...  0.009655  0.439857  0.051705   \n",
       "4        0.001503  0.045325 -0.042554  ... -0.020408  0.045892 -0.003615   \n",
       "..            ...       ...       ...  ...       ...       ...       ...   \n",
       "666      0.027554 -0.009522 -0.019855  ... -0.001625 -0.087263  0.001066   \n",
       "667      0.021735 -0.021619  0.023661  ...  0.015179 -0.003594 -0.016268   \n",
       "668      0.008107  0.009116 -0.027498  ... -0.007988 -0.023080 -0.011503   \n",
       "669     -0.019380 -0.012332 -0.017724  ... -0.035337 -0.077717  0.005399   \n",
       "670     -0.019523 -0.021649  0.005269  ... -0.043425 -0.207043 -0.070658   \n",
       "\n",
       "tmdb_id     99813     99839     99846       999     99912     99917     99992  \n",
       "0       -0.015609 -0.004994 -0.003580  0.028580 -0.004408 -0.005453 -0.003580  \n",
       "1        0.035671 -0.006310 -0.000182  0.006596  0.003073 -0.009955 -0.000182  \n",
       "2       -0.023502 -0.004873 -0.001294  0.023425  0.023469  0.000569 -0.001294  \n",
       "3       -0.031724  0.037440  0.005385 -0.348629 -0.027301 -0.013167  0.005385  \n",
       "4        0.160520 -0.004087  0.010483  0.013108  0.013803 -0.052466  0.010483  \n",
       "..            ...       ...       ...       ...       ...       ...       ...  \n",
       "666     -0.016884 -0.003227  0.011049  0.287438 -0.016345 -0.031019  0.011049  \n",
       "667     -0.016771  0.003840  0.013436  0.059448 -0.010360 -0.011425  0.013436  \n",
       "668      0.012145 -0.006243 -0.000677  0.187338  0.008716 -0.014622 -0.000677  \n",
       "669     -0.040386  0.004823  0.008510  0.164131 -0.015918 -0.002344  0.008510  \n",
       "670     -0.118675 -0.011802 -0.009108  0.031460 -0.008574  0.045531 -0.009108  \n",
       "\n",
       "[671 rows x 9066 columns]"
      ]
     },
     "execution_count": 167,
     "metadata": {},
     "output_type": "execute_result"
    }
   ],
   "source": [
    "preds"
   ]
  },
  {
   "cell_type": "code",
   "execution_count": 166,
   "metadata": {},
   "outputs": [
    {
     "data": {
      "text/html": [
       "<div>\n",
       "<style scoped>\n",
       "    .dataframe tbody tr th:only-of-type {\n",
       "        vertical-align: middle;\n",
       "    }\n",
       "\n",
       "    .dataframe tbody tr th {\n",
       "        vertical-align: top;\n",
       "    }\n",
       "\n",
       "    .dataframe thead th {\n",
       "        text-align: right;\n",
       "    }\n",
       "</style>\n",
       "<table border=\"1\" class=\"dataframe\">\n",
       "  <thead>\n",
       "    <tr style=\"text-align: right;\">\n",
       "      <th>tmdb_id</th>\n",
       "      <th>1</th>\n",
       "      <th>10</th>\n",
       "      <th>100</th>\n",
       "      <th>100017</th>\n",
       "      <th>100032</th>\n",
       "      <th>100034</th>\n",
       "      <th>100083</th>\n",
       "      <th>100106</th>\n",
       "      <th>100159</th>\n",
       "      <th>100163</th>\n",
       "      <th>...</th>\n",
       "      <th>99795</th>\n",
       "      <th>998</th>\n",
       "      <th>99811</th>\n",
       "      <th>99813</th>\n",
       "      <th>99839</th>\n",
       "      <th>99846</th>\n",
       "      <th>999</th>\n",
       "      <th>99912</th>\n",
       "      <th>99917</th>\n",
       "      <th>99992</th>\n",
       "    </tr>\n",
       "    <tr>\n",
       "      <th>userId</th>\n",
       "      <th></th>\n",
       "      <th></th>\n",
       "      <th></th>\n",
       "      <th></th>\n",
       "      <th></th>\n",
       "      <th></th>\n",
       "      <th></th>\n",
       "      <th></th>\n",
       "      <th></th>\n",
       "      <th></th>\n",
       "      <th></th>\n",
       "      <th></th>\n",
       "      <th></th>\n",
       "      <th></th>\n",
       "      <th></th>\n",
       "      <th></th>\n",
       "      <th></th>\n",
       "      <th></th>\n",
       "      <th></th>\n",
       "      <th></th>\n",
       "      <th></th>\n",
       "    </tr>\n",
       "  </thead>\n",
       "  <tbody>\n",
       "    <tr>\n",
       "      <th>1</th>\n",
       "      <td>0.0</td>\n",
       "      <td>0.0</td>\n",
       "      <td>0.0</td>\n",
       "      <td>0.0</td>\n",
       "      <td>0.0</td>\n",
       "      <td>0.0</td>\n",
       "      <td>0.0</td>\n",
       "      <td>0.0</td>\n",
       "      <td>0.0</td>\n",
       "      <td>0.0</td>\n",
       "      <td>...</td>\n",
       "      <td>0.0</td>\n",
       "      <td>0.0</td>\n",
       "      <td>0.0</td>\n",
       "      <td>0.0</td>\n",
       "      <td>0.0</td>\n",
       "      <td>0.0</td>\n",
       "      <td>0.0</td>\n",
       "      <td>0.0</td>\n",
       "      <td>0.0</td>\n",
       "      <td>0.0</td>\n",
       "    </tr>\n",
       "    <tr>\n",
       "      <th>2</th>\n",
       "      <td>0.0</td>\n",
       "      <td>4.0</td>\n",
       "      <td>0.0</td>\n",
       "      <td>0.0</td>\n",
       "      <td>0.0</td>\n",
       "      <td>0.0</td>\n",
       "      <td>0.0</td>\n",
       "      <td>0.0</td>\n",
       "      <td>0.0</td>\n",
       "      <td>0.0</td>\n",
       "      <td>...</td>\n",
       "      <td>0.0</td>\n",
       "      <td>0.0</td>\n",
       "      <td>0.0</td>\n",
       "      <td>0.0</td>\n",
       "      <td>0.0</td>\n",
       "      <td>0.0</td>\n",
       "      <td>0.0</td>\n",
       "      <td>0.0</td>\n",
       "      <td>0.0</td>\n",
       "      <td>0.0</td>\n",
       "    </tr>\n",
       "    <tr>\n",
       "      <th>3</th>\n",
       "      <td>0.0</td>\n",
       "      <td>0.0</td>\n",
       "      <td>0.0</td>\n",
       "      <td>0.0</td>\n",
       "      <td>0.0</td>\n",
       "      <td>0.0</td>\n",
       "      <td>0.0</td>\n",
       "      <td>0.0</td>\n",
       "      <td>0.0</td>\n",
       "      <td>0.0</td>\n",
       "      <td>...</td>\n",
       "      <td>0.0</td>\n",
       "      <td>0.0</td>\n",
       "      <td>0.0</td>\n",
       "      <td>0.0</td>\n",
       "      <td>0.0</td>\n",
       "      <td>0.0</td>\n",
       "      <td>0.0</td>\n",
       "      <td>0.0</td>\n",
       "      <td>0.0</td>\n",
       "      <td>0.0</td>\n",
       "    </tr>\n",
       "    <tr>\n",
       "      <th>4</th>\n",
       "      <td>0.0</td>\n",
       "      <td>4.0</td>\n",
       "      <td>0.0</td>\n",
       "      <td>0.0</td>\n",
       "      <td>0.0</td>\n",
       "      <td>0.0</td>\n",
       "      <td>0.0</td>\n",
       "      <td>0.0</td>\n",
       "      <td>0.0</td>\n",
       "      <td>0.0</td>\n",
       "      <td>...</td>\n",
       "      <td>0.0</td>\n",
       "      <td>0.0</td>\n",
       "      <td>0.0</td>\n",
       "      <td>0.0</td>\n",
       "      <td>0.0</td>\n",
       "      <td>0.0</td>\n",
       "      <td>0.0</td>\n",
       "      <td>0.0</td>\n",
       "      <td>0.0</td>\n",
       "      <td>0.0</td>\n",
       "    </tr>\n",
       "    <tr>\n",
       "      <th>5</th>\n",
       "      <td>0.0</td>\n",
       "      <td>0.0</td>\n",
       "      <td>0.0</td>\n",
       "      <td>0.0</td>\n",
       "      <td>0.0</td>\n",
       "      <td>0.0</td>\n",
       "      <td>0.0</td>\n",
       "      <td>0.0</td>\n",
       "      <td>0.0</td>\n",
       "      <td>0.0</td>\n",
       "      <td>...</td>\n",
       "      <td>0.0</td>\n",
       "      <td>0.0</td>\n",
       "      <td>0.0</td>\n",
       "      <td>0.0</td>\n",
       "      <td>0.0</td>\n",
       "      <td>0.0</td>\n",
       "      <td>0.0</td>\n",
       "      <td>0.0</td>\n",
       "      <td>0.0</td>\n",
       "      <td>0.0</td>\n",
       "    </tr>\n",
       "    <tr>\n",
       "      <th>...</th>\n",
       "      <td>...</td>\n",
       "      <td>...</td>\n",
       "      <td>...</td>\n",
       "      <td>...</td>\n",
       "      <td>...</td>\n",
       "      <td>...</td>\n",
       "      <td>...</td>\n",
       "      <td>...</td>\n",
       "      <td>...</td>\n",
       "      <td>...</td>\n",
       "      <td>...</td>\n",
       "      <td>...</td>\n",
       "      <td>...</td>\n",
       "      <td>...</td>\n",
       "      <td>...</td>\n",
       "      <td>...</td>\n",
       "      <td>...</td>\n",
       "      <td>...</td>\n",
       "      <td>...</td>\n",
       "      <td>...</td>\n",
       "      <td>...</td>\n",
       "    </tr>\n",
       "    <tr>\n",
       "      <th>667</th>\n",
       "      <td>0.0</td>\n",
       "      <td>0.0</td>\n",
       "      <td>0.0</td>\n",
       "      <td>0.0</td>\n",
       "      <td>0.0</td>\n",
       "      <td>0.0</td>\n",
       "      <td>0.0</td>\n",
       "      <td>0.0</td>\n",
       "      <td>0.0</td>\n",
       "      <td>0.0</td>\n",
       "      <td>...</td>\n",
       "      <td>0.0</td>\n",
       "      <td>0.0</td>\n",
       "      <td>0.0</td>\n",
       "      <td>0.0</td>\n",
       "      <td>0.0</td>\n",
       "      <td>0.0</td>\n",
       "      <td>0.0</td>\n",
       "      <td>0.0</td>\n",
       "      <td>0.0</td>\n",
       "      <td>0.0</td>\n",
       "    </tr>\n",
       "    <tr>\n",
       "      <th>668</th>\n",
       "      <td>0.0</td>\n",
       "      <td>0.0</td>\n",
       "      <td>0.0</td>\n",
       "      <td>0.0</td>\n",
       "      <td>0.0</td>\n",
       "      <td>0.0</td>\n",
       "      <td>0.0</td>\n",
       "      <td>0.0</td>\n",
       "      <td>0.0</td>\n",
       "      <td>0.0</td>\n",
       "      <td>...</td>\n",
       "      <td>0.0</td>\n",
       "      <td>0.0</td>\n",
       "      <td>0.0</td>\n",
       "      <td>0.0</td>\n",
       "      <td>0.0</td>\n",
       "      <td>0.0</td>\n",
       "      <td>0.0</td>\n",
       "      <td>0.0</td>\n",
       "      <td>0.0</td>\n",
       "      <td>0.0</td>\n",
       "    </tr>\n",
       "    <tr>\n",
       "      <th>669</th>\n",
       "      <td>0.0</td>\n",
       "      <td>0.0</td>\n",
       "      <td>0.0</td>\n",
       "      <td>0.0</td>\n",
       "      <td>0.0</td>\n",
       "      <td>0.0</td>\n",
       "      <td>0.0</td>\n",
       "      <td>0.0</td>\n",
       "      <td>0.0</td>\n",
       "      <td>0.0</td>\n",
       "      <td>...</td>\n",
       "      <td>0.0</td>\n",
       "      <td>0.0</td>\n",
       "      <td>0.0</td>\n",
       "      <td>0.0</td>\n",
       "      <td>0.0</td>\n",
       "      <td>0.0</td>\n",
       "      <td>0.0</td>\n",
       "      <td>0.0</td>\n",
       "      <td>0.0</td>\n",
       "      <td>0.0</td>\n",
       "    </tr>\n",
       "    <tr>\n",
       "      <th>670</th>\n",
       "      <td>4.0</td>\n",
       "      <td>0.0</td>\n",
       "      <td>0.0</td>\n",
       "      <td>0.0</td>\n",
       "      <td>0.0</td>\n",
       "      <td>0.0</td>\n",
       "      <td>0.0</td>\n",
       "      <td>0.0</td>\n",
       "      <td>0.0</td>\n",
       "      <td>0.0</td>\n",
       "      <td>...</td>\n",
       "      <td>0.0</td>\n",
       "      <td>0.0</td>\n",
       "      <td>0.0</td>\n",
       "      <td>0.0</td>\n",
       "      <td>0.0</td>\n",
       "      <td>0.0</td>\n",
       "      <td>0.0</td>\n",
       "      <td>0.0</td>\n",
       "      <td>0.0</td>\n",
       "      <td>0.0</td>\n",
       "    </tr>\n",
       "    <tr>\n",
       "      <th>671</th>\n",
       "      <td>5.0</td>\n",
       "      <td>0.0</td>\n",
       "      <td>0.0</td>\n",
       "      <td>0.0</td>\n",
       "      <td>0.0</td>\n",
       "      <td>0.0</td>\n",
       "      <td>0.0</td>\n",
       "      <td>0.0</td>\n",
       "      <td>0.0</td>\n",
       "      <td>0.0</td>\n",
       "      <td>...</td>\n",
       "      <td>0.0</td>\n",
       "      <td>0.0</td>\n",
       "      <td>0.0</td>\n",
       "      <td>0.0</td>\n",
       "      <td>0.0</td>\n",
       "      <td>0.0</td>\n",
       "      <td>0.0</td>\n",
       "      <td>0.0</td>\n",
       "      <td>0.0</td>\n",
       "      <td>0.0</td>\n",
       "    </tr>\n",
       "  </tbody>\n",
       "</table>\n",
       "<p>671 rows × 9066 columns</p>\n",
       "</div>"
      ],
      "text/plain": [
       "tmdb_id    1   10  100  100017  100032  100034  100083  100106  100159  \\\n",
       "userId                                                                   \n",
       "1        0.0  0.0  0.0     0.0     0.0     0.0     0.0     0.0     0.0   \n",
       "2        0.0  4.0  0.0     0.0     0.0     0.0     0.0     0.0     0.0   \n",
       "3        0.0  0.0  0.0     0.0     0.0     0.0     0.0     0.0     0.0   \n",
       "4        0.0  4.0  0.0     0.0     0.0     0.0     0.0     0.0     0.0   \n",
       "5        0.0  0.0  0.0     0.0     0.0     0.0     0.0     0.0     0.0   \n",
       "...      ...  ...  ...     ...     ...     ...     ...     ...     ...   \n",
       "667      0.0  0.0  0.0     0.0     0.0     0.0     0.0     0.0     0.0   \n",
       "668      0.0  0.0  0.0     0.0     0.0     0.0     0.0     0.0     0.0   \n",
       "669      0.0  0.0  0.0     0.0     0.0     0.0     0.0     0.0     0.0   \n",
       "670      4.0  0.0  0.0     0.0     0.0     0.0     0.0     0.0     0.0   \n",
       "671      5.0  0.0  0.0     0.0     0.0     0.0     0.0     0.0     0.0   \n",
       "\n",
       "tmdb_id  100163  ...  99795  998  99811  99813  99839  99846  999  99912  \\\n",
       "userId           ...                                                       \n",
       "1           0.0  ...    0.0  0.0    0.0    0.0    0.0    0.0  0.0    0.0   \n",
       "2           0.0  ...    0.0  0.0    0.0    0.0    0.0    0.0  0.0    0.0   \n",
       "3           0.0  ...    0.0  0.0    0.0    0.0    0.0    0.0  0.0    0.0   \n",
       "4           0.0  ...    0.0  0.0    0.0    0.0    0.0    0.0  0.0    0.0   \n",
       "5           0.0  ...    0.0  0.0    0.0    0.0    0.0    0.0  0.0    0.0   \n",
       "...         ...  ...    ...  ...    ...    ...    ...    ...  ...    ...   \n",
       "667         0.0  ...    0.0  0.0    0.0    0.0    0.0    0.0  0.0    0.0   \n",
       "668         0.0  ...    0.0  0.0    0.0    0.0    0.0    0.0  0.0    0.0   \n",
       "669         0.0  ...    0.0  0.0    0.0    0.0    0.0    0.0  0.0    0.0   \n",
       "670         0.0  ...    0.0  0.0    0.0    0.0    0.0    0.0  0.0    0.0   \n",
       "671         0.0  ...    0.0  0.0    0.0    0.0    0.0    0.0  0.0    0.0   \n",
       "\n",
       "tmdb_id  99917  99992  \n",
       "userId                 \n",
       "1          0.0    0.0  \n",
       "2          0.0    0.0  \n",
       "3          0.0    0.0  \n",
       "4          0.0    0.0  \n",
       "5          0.0    0.0  \n",
       "...        ...    ...  \n",
       "667        0.0    0.0  \n",
       "668        0.0    0.0  \n",
       "669        0.0    0.0  \n",
       "670        0.0    0.0  \n",
       "671        0.0    0.0  \n",
       "\n",
       "[671 rows x 9066 columns]"
      ]
     },
     "execution_count": 166,
     "metadata": {},
     "output_type": "execute_result"
    }
   ],
   "source": [
    "Ratings"
   ]
  },
  {
   "cell_type": "code",
   "execution_count": 189,
   "metadata": {
    "colab": {},
    "colab_type": "code",
    "id": "8H6h8rIFOVCP"
   },
   "outputs": [],
   "source": [
    "def recommend_movies(predictions, userID, movies, original_ratings, num_recommendations):\n",
    "    \n",
    "    # Get and sort the user's predictions\n",
    "    user_row_number = userID - 1 # User ID starts at 1, not 0\n",
    "    sorted_user_predictions = preds.iloc[user_row_number].sort_values(ascending=False) # User ID starts at 1\n",
    "    \n",
    "    # Get the user's data and merge in the movie information.\n",
    "    user_data = original_ratings[original_ratings.userId == (userID)]\n",
    "    user_full = (user_data.merge(movies, how = 'left', left_on = 'tmdb_id', right_on = 'tmdb_id').\n",
    "                     sort_values(['rating'], ascending=False)\n",
    "                 )\n",
    "    \n",
    "    # Recommend the highest predicted rating movies that the user hasn't seen yet.\n",
    "    recommendations = (movies[~movies['tmdb_id'].isin(user_full['tmdb_id'])].\n",
    "         merge(pd.DataFrame(sorted_user_predictions).reset_index(), how = 'left',\n",
    "               left_on = 'tmdb_id',\n",
    "               right_on = 'tmdb_id').\n",
    "         rename(columns = {user_row_number: 'Predictions'}).\n",
    "         sort_values('Predictions', ascending = False).\n",
    "                       iloc[:num_recommendations, :-1]\n",
    "                      )\n",
    "\n",
    "    return user_full, recommendations"
   ]
  },
  {
   "cell_type": "code",
   "execution_count": 158,
   "metadata": {
    "colab": {},
    "colab_type": "code",
    "id": "U_t2UoGVOVCS",
    "outputId": "576dc893-22ab-4b20-9ca0-f483b174861f"
   },
   "outputs": [
    {
     "data": {
      "text/plain": [
       "{'test_rmse': array([0.88649564, 0.90536654, 0.90525064, 0.89288734, 0.89192123]),\n",
       " 'fit_time': (4.133270025253296,\n",
       "  4.081800937652588,\n",
       "  4.122941970825195,\n",
       "  4.077491044998169,\n",
       "  4.107571840286255),\n",
       " 'test_time': (0.1250162124633789,\n",
       "  0.12777113914489746,\n",
       "  0.11834120750427246,\n",
       "  0.11837005615234375,\n",
       "  0.11803269386291504)}"
      ]
     },
     "execution_count": 158,
     "metadata": {},
     "output_type": "execute_result"
    }
   ],
   "source": [
    "# Import libraries from Surprise package\n",
    "from surprise import Reader, Dataset, SVD\n",
    "\n",
    "# Load Reader library\n",
    "reader = Reader()\n",
    "\n",
    "# Load ratings dataset with Dataset library\n",
    "data = Dataset.load_from_df(ratings[['userId', 'tmdb_id', 'rating']], reader)\n",
    "\n",
    "# Split the dataset for 5-fold evaluation\n",
    "#data.split(n_folds=5)\n",
    "# Use the SVD algorithm.\n",
    "svd = SVD()\n",
    "\n",
    "# Compute the RMSE of the SVD algorithm.\n",
    "cross_validate(svd, data, measures=['RMSE'], cv=5)"
   ]
  },
  {
   "cell_type": "code",
   "execution_count": 157,
   "metadata": {
    "colab": {},
    "colab_type": "code",
    "id": "SftDSJRJOVCa"
   },
   "outputs": [],
   "source": [
    "movies = data_movies[['tmdb_id', 'title', 'genres']]"
   ]
  },
  {
   "cell_type": "code",
   "execution_count": 159,
   "metadata": {},
   "outputs": [
    {
     "data": {
      "text/plain": [
       "(671, 9066)"
      ]
     },
     "execution_count": 159,
     "metadata": {},
     "output_type": "execute_result"
    }
   ],
   "source": [
    "preds.shape"
   ]
  },
  {
   "cell_type": "code",
   "execution_count": 184,
   "metadata": {},
   "outputs": [
    {
     "data": {
      "text/plain": [
       "(46165, 3)"
      ]
     },
     "execution_count": 184,
     "metadata": {},
     "output_type": "execute_result"
    }
   ],
   "source": [
    "movies.shape"
   ]
  },
  {
   "cell_type": "code",
   "execution_count": 188,
   "metadata": {},
   "outputs": [],
   "source": [
    "movies = movies.astype(str)\n",
    "ratings = ratings.astype(str)"
   ]
  },
  {
   "cell_type": "code",
   "execution_count": 187,
   "metadata": {},
   "outputs": [
    {
     "data": {
      "text/plain": [
       "(46, 7)"
      ]
     },
     "execution_count": 187,
     "metadata": {},
     "output_type": "execute_result"
    }
   ],
   "source": [
    "merged_data = pd.merge(user_data_2, movies, on=\"tmdb_id\")\n",
    "merged_data.shape"
   ]
  },
  {
   "cell_type": "code",
   "execution_count": 162,
   "metadata": {},
   "outputs": [
    {
     "data": {
      "text/plain": [
       "(100004, 5)"
      ]
     },
     "execution_count": 162,
     "metadata": {},
     "output_type": "execute_result"
    }
   ],
   "source": [
    "ratings.shape"
   ]
  },
  {
   "cell_type": "code",
   "execution_count": 196,
   "metadata": {
    "colab": {},
    "colab_type": "code",
    "id": "MtTjXh0kOVCc",
    "outputId": "170b34b2-448a-41aa-9d43-e31aa0ebc289"
   },
   "outputs": [
    {
     "data": {
      "text/html": [
       "<div>\n",
       "<style scoped>\n",
       "    .dataframe tbody tr th:only-of-type {\n",
       "        vertical-align: middle;\n",
       "    }\n",
       "\n",
       "    .dataframe tbody tr th {\n",
       "        vertical-align: top;\n",
       "    }\n",
       "\n",
       "    .dataframe thead th {\n",
       "        text-align: right;\n",
       "    }\n",
       "</style>\n",
       "<table border=\"1\" class=\"dataframe\">\n",
       "  <thead>\n",
       "    <tr style=\"text-align: right;\">\n",
       "      <th></th>\n",
       "      <th>tmdb_id</th>\n",
       "      <th>title</th>\n",
       "      <th>genres</th>\n",
       "    </tr>\n",
       "  </thead>\n",
       "  <tbody>\n",
       "    <tr>\n",
       "      <th>940</th>\n",
       "      <td>260</td>\n",
       "      <td>The 39 Steps</td>\n",
       "      <td>['action', 'thriller', 'mystery']</td>\n",
       "    </tr>\n",
       "    <tr>\n",
       "      <th>2069</th>\n",
       "      <td>1580</td>\n",
       "      <td>Rope</td>\n",
       "      <td>['crime', 'drama', 'mystery', 'thriller']</td>\n",
       "    </tr>\n",
       "    <tr>\n",
       "      <th>11539</th>\n",
       "      <td>1265</td>\n",
       "      <td>Bridge to Terabithia</td>\n",
       "      <td>['adventure', 'drama', 'family']</td>\n",
       "    </tr>\n",
       "    <tr>\n",
       "      <th>11483</th>\n",
       "      <td>1259</td>\n",
       "      <td>Notes on a Scandal</td>\n",
       "      <td>['drama', 'romance']</td>\n",
       "    </tr>\n",
       "    <tr>\n",
       "      <th>9281</th>\n",
       "      <td>919</td>\n",
       "      <td>Blood: The Last Vampire</td>\n",
       "      <td>['fantasy', 'animation', 'horror', 'comedy', 'thriller', 'science fiction']</td>\n",
       "    </tr>\n",
       "    <tr>\n",
       "      <th>1403</th>\n",
       "      <td>1968</td>\n",
       "      <td>Fools Rush In</td>\n",
       "      <td>['drama', 'comedy', 'romance']</td>\n",
       "    </tr>\n",
       "    <tr>\n",
       "      <th>10940</th>\n",
       "      <td>588</td>\n",
       "      <td>Silent Hill</td>\n",
       "      <td>['horror', 'mystery']</td>\n",
       "    </tr>\n",
       "    <tr>\n",
       "      <th>1332</th>\n",
       "      <td>364</td>\n",
       "      <td>Batman Returns</td>\n",
       "      <td>['action', 'fantasy']</td>\n",
       "    </tr>\n",
       "    <tr>\n",
       "      <th>4468</th>\n",
       "      <td>1380</td>\n",
       "      <td>Gleaming the Cube</td>\n",
       "      <td>['drama']</td>\n",
       "    </tr>\n",
       "    <tr>\n",
       "      <th>13610</th>\n",
       "      <td>1387</td>\n",
       "      <td>Superstar: The Karen Carpenter Story</td>\n",
       "      <td>['drama', 'music']</td>\n",
       "    </tr>\n",
       "  </tbody>\n",
       "</table>\n",
       "</div>"
      ],
      "text/plain": [
       "      tmdb_id                                 title  \\\n",
       "940       260                          The 39 Steps   \n",
       "2069     1580                                  Rope   \n",
       "11539    1265                  Bridge to Terabithia   \n",
       "11483    1259                    Notes on a Scandal   \n",
       "9281      919               Blood: The Last Vampire   \n",
       "1403     1968                         Fools Rush In   \n",
       "10940     588                           Silent Hill   \n",
       "1332      364                        Batman Returns   \n",
       "4468     1380                     Gleaming the Cube   \n",
       "13610    1387  Superstar: The Karen Carpenter Story   \n",
       "\n",
       "                                                                            genres  \n",
       "940                                              ['action', 'thriller', 'mystery']  \n",
       "2069                                     ['crime', 'drama', 'mystery', 'thriller']  \n",
       "11539                                             ['adventure', 'drama', 'family']  \n",
       "11483                                                         ['drama', 'romance']  \n",
       "9281   ['fantasy', 'animation', 'horror', 'comedy', 'thriller', 'science fiction']  \n",
       "1403                                                ['drama', 'comedy', 'romance']  \n",
       "10940                                                        ['horror', 'mystery']  \n",
       "1332                                                         ['action', 'fantasy']  \n",
       "4468                                                                     ['drama']  \n",
       "13610                                                           ['drama', 'music']  "
      ]
     },
     "execution_count": 196,
     "metadata": {},
     "output_type": "execute_result"
    }
   ],
   "source": [
    "predictions = recommend_movies(preds, 4, movies, ratings, 10)\n",
    "predictions[1]"
   ]
  },
  {
   "cell_type": "markdown",
   "metadata": {},
   "source": [
    "# ======================================================="
   ]
  },
  {
   "cell_type": "markdown",
   "metadata": {},
   "source": [
    "## MODEL EVALUATION"
   ]
  },
  {
   "cell_type": "code",
   "execution_count": 6,
   "metadata": {},
   "outputs": [],
   "source": [
    "from matplotlib.lines import Line2D\n",
    "import matplotlib.pyplot as plt\n",
    "\n",
    "def long_tail_plot(df, item_id_column, interaction_type, percentage=None, x_labels=True):\n",
    "    \"\"\"\n",
    "    Plots the long tail for a user-item interaction dataset.\n",
    "    \"\"\"\n",
    "    #calculate cumulative volumes\n",
    "    volume_df = pd.DataFrame(df[item_id_column].value_counts())\n",
    "    volume_df.reset_index(inplace=True)\n",
    "    volume_df.columns = [item_id_column, \"volume\"]\n",
    "    volume_df[item_id_column] = volume_df[item_id_column].astype(str)\n",
    "    volume_df['cumulative_volume'] = volume_df['volume'].cumsum() #cumulative aggregation\n",
    "    volume_df['percent_of_total_volume'] = volume_df['cumulative_volume']/volume_df['volume'].sum()\n",
    "\n",
    "    #line plot of cumulative volume\n",
    "    x=range(0,len(volume_df))\n",
    "    ax = sns.lineplot(x, y=\"volume\", data=volume_df, color=\"black\")\n",
    "    plt.xticks(x)\n",
    "\n",
    "    #set labels\n",
    "    ax.set_title('Long Tail Plot')\n",
    "    ax.set_ylabel('# of ' + interaction_type)\n",
    "    ax.set_xlabel(item_id_column)\n",
    "\n",
    "    if percentage != None:\n",
    "        #plot vertical line at the tail location\n",
    "        head = volume_df[volume_df.percent_of_total_volume <= percentage]\n",
    "        tail = volume_df[volume_df.percent_of_total_volume > percentage]\n",
    "        items_in_head = len(head)\n",
    "        items_in_tail = len(tail)\n",
    "        plt.axvline(x=items_in_head, color=\"red\",  linestyle='--')\n",
    "\n",
    "        # fill area under plot\n",
    "        head = head.append(tail.head(1))\n",
    "        x1 = head.index.values\n",
    "        y1 = head['volume']\n",
    "        x2 = tail.index.values\n",
    "        y2 = tail['volume']\n",
    "        ax.fill_between(x1, y1, color=\"blue\", alpha=0.2)\n",
    "        ax.fill_between(x2, y2,  color=\"orange\", alpha=0.2)\n",
    "\n",
    "        #create legend\n",
    "        legend_elements = [Line2D([0], [0], marker='o', color='w', label=str(items_in_head)+': items in the head', markerfacecolor='blue', markersize=5),\n",
    "                           Line2D([0], [0], marker='o', color='w', label=str(items_in_tail)+': items in the tail', markerfacecolor='orange', markersize=5)]\n",
    "        ax.legend(handles=legend_elements, loc=1)\n",
    "\n",
    "    else:\n",
    "        x1 = volume_df[item_id_column]\n",
    "        y1 = volume_df['volume']\n",
    "        ax.fill_between(x1, y1, color=\"blue\", alpha=0.3)\n",
    "    if x_labels == False:\n",
    "        plt.xticks([], [])\n",
    "        ax.set(xticklabels=[])\n",
    "    else:\n",
    "        ax.set_xticklabels(labels = volume_df[item_id_column], rotation = 45, ha=\"right\")\n",
    "\n",
    "    plt.show()"
   ]
  },
  {
   "cell_type": "code",
   "execution_count": 94,
   "metadata": {},
   "outputs": [
    {
     "data": {
      "image/png": "[encoded data removed]",
      "text/plain": [
       "<Figure size 1080x504 with 1 Axes>"
      ]
     },
     "metadata": {
      "needs_background": "light"
     },
     "output_type": "display_data"
    }
   ],
   "source": [
    "import pandas as pd\n",
    "import matplotlib.pyplot as plt\n",
    "from datetime import datetime\n",
    "from surprise import Reader, Dataset, SVD\n",
    "from surprise.model_selection import cross_validate\n",
    "import seaborn as sns\n",
    "\n",
    "reader = Reader()\n",
    "ratings = pd.read_csv('data/themoviesdataset/ratings_small.csv')\n",
    "#ratings = pd.read_csv('data/themoviesdataset/ratings_small.csv')\n",
    "ratings['timestamp'] = ratings['timestamp'].apply( lambda x: datetime.fromtimestamp(x).date())\n",
    "ratings.rename(columns = {'movieId':'tmdb_id'},inplace=True)\n",
    "ratings.head()\n",
    "\n",
    "fig = plt.figure(figsize=(15, 7))\n",
    "long_tail_plot(df=ratings,\n",
    "               item_id_column=\"tmdb_id\",\n",
    "               interaction_type=\"movie ratings\",\n",
    "               percentage=0.5,\n",
    "               x_labels=False)"
   ]
  },
  {
   "cell_type": "markdown",
   "metadata": {},
   "source": [
    "## Collaborative Filtering Recommender"
   ]
  },
  {
   "cell_type": "code",
   "execution_count": 95,
   "metadata": {},
   "outputs": [],
   "source": [
    "#format data for surprise\n",
    "# Surprise(Simple Python RecommendatIon System Engine)\n",
    "from surprise.model_selection import train_test_split\n",
    "\n",
    "reader = Reader(rating_scale=(0, 5))\n",
    "data = Dataset.load_from_df(ratings[['userId', 'tmdb_id', 'rating']], reader)\n",
    "trainset, testset = train_test_split(data, test_size=0.25)"
   ]
  },
  {
   "cell_type": "code",
   "execution_count": 10,
   "metadata": {},
   "outputs": [
    {
     "data": {
      "text/plain": [
       "<surprise.prediction_algorithms.matrix_factorization.SVD at 0x16e0514f948>"
      ]
     },
     "execution_count": 10,
     "metadata": {},
     "output_type": "execute_result"
    }
   ],
   "source": [
    "#train SVD recommender \n",
    "algo = SVD()\n",
    "algo.fit(trainset)"
   ]
  },
  {
   "cell_type": "code",
   "execution_count": 98,
   "metadata": {},
   "outputs": [
    {
     "data": {
      "text/html": [
       "<div>\n",
       "<style scoped>\n",
       "    .dataframe tbody tr th:only-of-type {\n",
       "        vertical-align: middle;\n",
       "    }\n",
       "\n",
       "    .dataframe tbody tr th {\n",
       "        vertical-align: top;\n",
       "    }\n",
       "\n",
       "    .dataframe thead th {\n",
       "        text-align: right;\n",
       "    }\n",
       "</style>\n",
       "<table border=\"1\" class=\"dataframe\">\n",
       "  <thead>\n",
       "    <tr style=\"text-align: right;\">\n",
       "      <th></th>\n",
       "      <th>userId</th>\n",
       "      <th>movieId</th>\n",
       "      <th>actual</th>\n",
       "      <th>cf_predictions</th>\n",
       "    </tr>\n",
       "  </thead>\n",
       "  <tbody>\n",
       "    <tr>\n",
       "      <td>0</td>\n",
       "      <td>15</td>\n",
       "      <td>1303</td>\n",
       "      <td>2.0</td>\n",
       "      <td>2.340967</td>\n",
       "    </tr>\n",
       "    <tr>\n",
       "      <td>1</td>\n",
       "      <td>654</td>\n",
       "      <td>236</td>\n",
       "      <td>4.0</td>\n",
       "      <td>3.983133</td>\n",
       "    </tr>\n",
       "    <tr>\n",
       "      <td>2</td>\n",
       "      <td>382</td>\n",
       "      <td>91886</td>\n",
       "      <td>4.0</td>\n",
       "      <td>3.161195</td>\n",
       "    </tr>\n",
       "    <tr>\n",
       "      <td>3</td>\n",
       "      <td>350</td>\n",
       "      <td>2890</td>\n",
       "      <td>4.0</td>\n",
       "      <td>3.936461</td>\n",
       "    </tr>\n",
       "    <tr>\n",
       "      <td>4</td>\n",
       "      <td>41</td>\n",
       "      <td>1220</td>\n",
       "      <td>5.0</td>\n",
       "      <td>4.523042</td>\n",
       "    </tr>\n",
       "  </tbody>\n",
       "</table>\n",
       "</div>"
      ],
      "text/plain": [
       "   userId  movieId  actual  cf_predictions\n",
       "0      15     1303     2.0        2.340967\n",
       "1     654      236     4.0        3.983133\n",
       "2     382    91886     4.0        3.161195\n",
       "3     350     2890     4.0        3.936461\n",
       "4      41     1220     5.0        4.523042"
      ]
     },
     "execution_count": 98,
     "metadata": {},
     "output_type": "execute_result"
    }
   ],
   "source": [
    "#make predictions on test set. \n",
    "test = algo.test(testset)\n",
    "test = pd.DataFrame(test)\n",
    "test.drop(\"details\", inplace=True, axis=1)\n",
    "test.columns = ['userId', 'movieId', 'actual', 'cf_predictions']\n",
    "test.head()"
   ]
  },
  {
   "cell_type": "markdown",
   "metadata": {},
   "source": [
    "## MSE and RMSE"
   ]
  },
  {
   "cell_type": "code",
   "execution_count": 104,
   "metadata": {},
   "outputs": [],
   "source": [
    "from sklearn.metrics import mean_squared_error\n",
    "\n",
    "def mse(y, yhat):\n",
    "    mse = mean_squared_error(y, yhat)\n",
    "    return mse\n",
    "\n",
    "def rmse(y, yhat):\n",
    "    rmse = sqrt(mean_squared_error(y, yhat))\n",
    "    return rmse"
   ]
  },
  {
   "cell_type": "code",
   "execution_count": 105,
   "metadata": {},
   "outputs": [
    {
     "name": "stdout",
     "output_type": "stream",
     "text": [
      "0.5224652845187561\n",
      "0.7228176011406723\n"
     ]
    }
   ],
   "source": [
    "#evaluate model with MSE and RMSE\n",
    "from math import sqrt\n",
    "print(mse(test.actual, test.cf_predictions))\n",
    "print(rmse(test.actual, test.cf_predictions))"
   ]
  },
  {
   "cell_type": "markdown",
   "metadata": {},
   "source": [
    "## Collaborative Filtering"
   ]
  },
  {
   "cell_type": "code",
   "execution_count": 106,
   "metadata": {},
   "outputs": [],
   "source": [
    "#create model (matrix of predicted values)\n",
    "cf_model = test.pivot_table(index='userId', columns='movieId', values='cf_predictions').fillna(0)"
   ]
  },
  {
   "cell_type": "code",
   "execution_count": 107,
   "metadata": {},
   "outputs": [
    {
     "data": {
      "text/html": [
       "<div>\n",
       "<style scoped>\n",
       "    .dataframe tbody tr th:only-of-type {\n",
       "        vertical-align: middle;\n",
       "    }\n",
       "\n",
       "    .dataframe tbody tr th {\n",
       "        vertical-align: top;\n",
       "    }\n",
       "\n",
       "    .dataframe thead th {\n",
       "        text-align: right;\n",
       "    }\n",
       "</style>\n",
       "<table border=\"1\" class=\"dataframe\">\n",
       "  <thead>\n",
       "    <tr style=\"text-align: right;\">\n",
       "      <th>movieId</th>\n",
       "      <th>1</th>\n",
       "      <th>2</th>\n",
       "      <th>3</th>\n",
       "      <th>4</th>\n",
       "      <th>5</th>\n",
       "      <th>6</th>\n",
       "      <th>7</th>\n",
       "      <th>8</th>\n",
       "      <th>9</th>\n",
       "      <th>10</th>\n",
       "      <th>...</th>\n",
       "      <th>157407</th>\n",
       "      <th>159690</th>\n",
       "      <th>159858</th>\n",
       "      <th>159972</th>\n",
       "      <th>160271</th>\n",
       "      <th>160440</th>\n",
       "      <th>160563</th>\n",
       "      <th>160565</th>\n",
       "      <th>160590</th>\n",
       "      <th>163949</th>\n",
       "    </tr>\n",
       "    <tr>\n",
       "      <th>userId</th>\n",
       "      <th></th>\n",
       "      <th></th>\n",
       "      <th></th>\n",
       "      <th></th>\n",
       "      <th></th>\n",
       "      <th></th>\n",
       "      <th></th>\n",
       "      <th></th>\n",
       "      <th></th>\n",
       "      <th></th>\n",
       "      <th></th>\n",
       "      <th></th>\n",
       "      <th></th>\n",
       "      <th></th>\n",
       "      <th></th>\n",
       "      <th></th>\n",
       "      <th></th>\n",
       "      <th></th>\n",
       "      <th></th>\n",
       "      <th></th>\n",
       "      <th></th>\n",
       "    </tr>\n",
       "  </thead>\n",
       "  <tbody>\n",
       "    <tr>\n",
       "      <td>1</td>\n",
       "      <td>0.0</td>\n",
       "      <td>0.0</td>\n",
       "      <td>0.00000</td>\n",
       "      <td>0.0</td>\n",
       "      <td>0.0</td>\n",
       "      <td>0.0</td>\n",
       "      <td>0.0</td>\n",
       "      <td>0.0</td>\n",
       "      <td>0.0</td>\n",
       "      <td>0.0</td>\n",
       "      <td>...</td>\n",
       "      <td>0.0</td>\n",
       "      <td>0.0</td>\n",
       "      <td>0.0</td>\n",
       "      <td>0.0</td>\n",
       "      <td>0.0</td>\n",
       "      <td>0.0</td>\n",
       "      <td>0.0</td>\n",
       "      <td>0.0</td>\n",
       "      <td>0.0</td>\n",
       "      <td>0.0</td>\n",
       "    </tr>\n",
       "    <tr>\n",
       "      <td>2</td>\n",
       "      <td>0.0</td>\n",
       "      <td>0.0</td>\n",
       "      <td>0.00000</td>\n",
       "      <td>0.0</td>\n",
       "      <td>0.0</td>\n",
       "      <td>0.0</td>\n",
       "      <td>0.0</td>\n",
       "      <td>0.0</td>\n",
       "      <td>0.0</td>\n",
       "      <td>0.0</td>\n",
       "      <td>...</td>\n",
       "      <td>0.0</td>\n",
       "      <td>0.0</td>\n",
       "      <td>0.0</td>\n",
       "      <td>0.0</td>\n",
       "      <td>0.0</td>\n",
       "      <td>0.0</td>\n",
       "      <td>0.0</td>\n",
       "      <td>0.0</td>\n",
       "      <td>0.0</td>\n",
       "      <td>0.0</td>\n",
       "    </tr>\n",
       "    <tr>\n",
       "      <td>3</td>\n",
       "      <td>0.0</td>\n",
       "      <td>0.0</td>\n",
       "      <td>0.00000</td>\n",
       "      <td>0.0</td>\n",
       "      <td>0.0</td>\n",
       "      <td>0.0</td>\n",
       "      <td>0.0</td>\n",
       "      <td>0.0</td>\n",
       "      <td>0.0</td>\n",
       "      <td>0.0</td>\n",
       "      <td>...</td>\n",
       "      <td>0.0</td>\n",
       "      <td>0.0</td>\n",
       "      <td>0.0</td>\n",
       "      <td>0.0</td>\n",
       "      <td>0.0</td>\n",
       "      <td>0.0</td>\n",
       "      <td>0.0</td>\n",
       "      <td>0.0</td>\n",
       "      <td>0.0</td>\n",
       "      <td>0.0</td>\n",
       "    </tr>\n",
       "    <tr>\n",
       "      <td>4</td>\n",
       "      <td>0.0</td>\n",
       "      <td>0.0</td>\n",
       "      <td>0.00000</td>\n",
       "      <td>0.0</td>\n",
       "      <td>0.0</td>\n",
       "      <td>0.0</td>\n",
       "      <td>0.0</td>\n",
       "      <td>0.0</td>\n",
       "      <td>0.0</td>\n",
       "      <td>0.0</td>\n",
       "      <td>...</td>\n",
       "      <td>0.0</td>\n",
       "      <td>0.0</td>\n",
       "      <td>0.0</td>\n",
       "      <td>0.0</td>\n",
       "      <td>0.0</td>\n",
       "      <td>0.0</td>\n",
       "      <td>0.0</td>\n",
       "      <td>0.0</td>\n",
       "      <td>0.0</td>\n",
       "      <td>0.0</td>\n",
       "    </tr>\n",
       "    <tr>\n",
       "      <td>5</td>\n",
       "      <td>0.0</td>\n",
       "      <td>0.0</td>\n",
       "      <td>3.35075</td>\n",
       "      <td>0.0</td>\n",
       "      <td>0.0</td>\n",
       "      <td>0.0</td>\n",
       "      <td>0.0</td>\n",
       "      <td>0.0</td>\n",
       "      <td>0.0</td>\n",
       "      <td>0.0</td>\n",
       "      <td>...</td>\n",
       "      <td>0.0</td>\n",
       "      <td>0.0</td>\n",
       "      <td>0.0</td>\n",
       "      <td>0.0</td>\n",
       "      <td>0.0</td>\n",
       "      <td>0.0</td>\n",
       "      <td>0.0</td>\n",
       "      <td>0.0</td>\n",
       "      <td>0.0</td>\n",
       "      <td>0.0</td>\n",
       "    </tr>\n",
       "    <tr>\n",
       "      <td>...</td>\n",
       "      <td>...</td>\n",
       "      <td>...</td>\n",
       "      <td>...</td>\n",
       "      <td>...</td>\n",
       "      <td>...</td>\n",
       "      <td>...</td>\n",
       "      <td>...</td>\n",
       "      <td>...</td>\n",
       "      <td>...</td>\n",
       "      <td>...</td>\n",
       "      <td>...</td>\n",
       "      <td>...</td>\n",
       "      <td>...</td>\n",
       "      <td>...</td>\n",
       "      <td>...</td>\n",
       "      <td>...</td>\n",
       "      <td>...</td>\n",
       "      <td>...</td>\n",
       "      <td>...</td>\n",
       "      <td>...</td>\n",
       "      <td>...</td>\n",
       "    </tr>\n",
       "    <tr>\n",
       "      <td>667</td>\n",
       "      <td>0.0</td>\n",
       "      <td>0.0</td>\n",
       "      <td>0.00000</td>\n",
       "      <td>0.0</td>\n",
       "      <td>0.0</td>\n",
       "      <td>0.0</td>\n",
       "      <td>0.0</td>\n",
       "      <td>0.0</td>\n",
       "      <td>0.0</td>\n",
       "      <td>0.0</td>\n",
       "      <td>...</td>\n",
       "      <td>0.0</td>\n",
       "      <td>0.0</td>\n",
       "      <td>0.0</td>\n",
       "      <td>0.0</td>\n",
       "      <td>0.0</td>\n",
       "      <td>0.0</td>\n",
       "      <td>0.0</td>\n",
       "      <td>0.0</td>\n",
       "      <td>0.0</td>\n",
       "      <td>0.0</td>\n",
       "    </tr>\n",
       "    <tr>\n",
       "      <td>668</td>\n",
       "      <td>0.0</td>\n",
       "      <td>0.0</td>\n",
       "      <td>0.00000</td>\n",
       "      <td>0.0</td>\n",
       "      <td>0.0</td>\n",
       "      <td>0.0</td>\n",
       "      <td>0.0</td>\n",
       "      <td>0.0</td>\n",
       "      <td>0.0</td>\n",
       "      <td>0.0</td>\n",
       "      <td>...</td>\n",
       "      <td>0.0</td>\n",
       "      <td>0.0</td>\n",
       "      <td>0.0</td>\n",
       "      <td>0.0</td>\n",
       "      <td>0.0</td>\n",
       "      <td>0.0</td>\n",
       "      <td>0.0</td>\n",
       "      <td>0.0</td>\n",
       "      <td>0.0</td>\n",
       "      <td>0.0</td>\n",
       "    </tr>\n",
       "    <tr>\n",
       "      <td>669</td>\n",
       "      <td>0.0</td>\n",
       "      <td>0.0</td>\n",
       "      <td>0.00000</td>\n",
       "      <td>0.0</td>\n",
       "      <td>0.0</td>\n",
       "      <td>0.0</td>\n",
       "      <td>0.0</td>\n",
       "      <td>0.0</td>\n",
       "      <td>0.0</td>\n",
       "      <td>0.0</td>\n",
       "      <td>...</td>\n",
       "      <td>0.0</td>\n",
       "      <td>0.0</td>\n",
       "      <td>0.0</td>\n",
       "      <td>0.0</td>\n",
       "      <td>0.0</td>\n",
       "      <td>0.0</td>\n",
       "      <td>0.0</td>\n",
       "      <td>0.0</td>\n",
       "      <td>0.0</td>\n",
       "      <td>0.0</td>\n",
       "    </tr>\n",
       "    <tr>\n",
       "      <td>670</td>\n",
       "      <td>0.0</td>\n",
       "      <td>0.0</td>\n",
       "      <td>0.00000</td>\n",
       "      <td>0.0</td>\n",
       "      <td>0.0</td>\n",
       "      <td>0.0</td>\n",
       "      <td>0.0</td>\n",
       "      <td>0.0</td>\n",
       "      <td>0.0</td>\n",
       "      <td>0.0</td>\n",
       "      <td>...</td>\n",
       "      <td>0.0</td>\n",
       "      <td>0.0</td>\n",
       "      <td>0.0</td>\n",
       "      <td>0.0</td>\n",
       "      <td>0.0</td>\n",
       "      <td>0.0</td>\n",
       "      <td>0.0</td>\n",
       "      <td>0.0</td>\n",
       "      <td>0.0</td>\n",
       "      <td>0.0</td>\n",
       "    </tr>\n",
       "    <tr>\n",
       "      <td>671</td>\n",
       "      <td>0.0</td>\n",
       "      <td>0.0</td>\n",
       "      <td>0.00000</td>\n",
       "      <td>0.0</td>\n",
       "      <td>0.0</td>\n",
       "      <td>0.0</td>\n",
       "      <td>0.0</td>\n",
       "      <td>0.0</td>\n",
       "      <td>0.0</td>\n",
       "      <td>0.0</td>\n",
       "      <td>...</td>\n",
       "      <td>0.0</td>\n",
       "      <td>0.0</td>\n",
       "      <td>0.0</td>\n",
       "      <td>0.0</td>\n",
       "      <td>0.0</td>\n",
       "      <td>0.0</td>\n",
       "      <td>0.0</td>\n",
       "      <td>0.0</td>\n",
       "      <td>0.0</td>\n",
       "      <td>0.0</td>\n",
       "    </tr>\n",
       "  </tbody>\n",
       "</table>\n",
       "<p>671 rows × 5358 columns</p>\n",
       "</div>"
      ],
      "text/plain": [
       "movieId  1       2        3       4       5       6       7       8       \\\n",
       "userId                                                                     \n",
       "1           0.0     0.0  0.00000     0.0     0.0     0.0     0.0     0.0   \n",
       "2           0.0     0.0  0.00000     0.0     0.0     0.0     0.0     0.0   \n",
       "3           0.0     0.0  0.00000     0.0     0.0     0.0     0.0     0.0   \n",
       "4           0.0     0.0  0.00000     0.0     0.0     0.0     0.0     0.0   \n",
       "5           0.0     0.0  3.35075     0.0     0.0     0.0     0.0     0.0   \n",
       "...         ...     ...      ...     ...     ...     ...     ...     ...   \n",
       "667         0.0     0.0  0.00000     0.0     0.0     0.0     0.0     0.0   \n",
       "668         0.0     0.0  0.00000     0.0     0.0     0.0     0.0     0.0   \n",
       "669         0.0     0.0  0.00000     0.0     0.0     0.0     0.0     0.0   \n",
       "670         0.0     0.0  0.00000     0.0     0.0     0.0     0.0     0.0   \n",
       "671         0.0     0.0  0.00000     0.0     0.0     0.0     0.0     0.0   \n",
       "\n",
       "movieId  9       10      ...  157407  159690  159858  159972  160271  160440  \\\n",
       "userId                   ...                                                   \n",
       "1           0.0     0.0  ...     0.0     0.0     0.0     0.0     0.0     0.0   \n",
       "2           0.0     0.0  ...     0.0     0.0     0.0     0.0     0.0     0.0   \n",
       "3           0.0     0.0  ...     0.0     0.0     0.0     0.0     0.0     0.0   \n",
       "4           0.0     0.0  ...     0.0     0.0     0.0     0.0     0.0     0.0   \n",
       "5           0.0     0.0  ...     0.0     0.0     0.0     0.0     0.0     0.0   \n",
       "...         ...     ...  ...     ...     ...     ...     ...     ...     ...   \n",
       "667         0.0     0.0  ...     0.0     0.0     0.0     0.0     0.0     0.0   \n",
       "668         0.0     0.0  ...     0.0     0.0     0.0     0.0     0.0     0.0   \n",
       "669         0.0     0.0  ...     0.0     0.0     0.0     0.0     0.0     0.0   \n",
       "670         0.0     0.0  ...     0.0     0.0     0.0     0.0     0.0     0.0   \n",
       "671         0.0     0.0  ...     0.0     0.0     0.0     0.0     0.0     0.0   \n",
       "\n",
       "movieId  160563  160565  160590  163949  \n",
       "userId                                   \n",
       "1           0.0     0.0     0.0     0.0  \n",
       "2           0.0     0.0     0.0     0.0  \n",
       "3           0.0     0.0     0.0     0.0  \n",
       "4           0.0     0.0     0.0     0.0  \n",
       "5           0.0     0.0     0.0     0.0  \n",
       "...         ...     ...     ...     ...  \n",
       "667         0.0     0.0     0.0     0.0  \n",
       "668         0.0     0.0     0.0     0.0  \n",
       "669         0.0     0.0     0.0     0.0  \n",
       "670         0.0     0.0     0.0     0.0  \n",
       "671         0.0     0.0     0.0     0.0  \n",
       "\n",
       "[671 rows x 5358 columns]"
      ]
     },
     "execution_count": 107,
     "metadata": {},
     "output_type": "execute_result"
    }
   ],
   "source": [
    "cf_model"
   ]
  },
  {
   "cell_type": "code",
   "execution_count": 108,
   "metadata": {},
   "outputs": [],
   "source": [
    "def get_users_predictions(user_id, n, model):\n",
    "    recommended_items = pd.DataFrame(model.loc[user_id])\n",
    "    recommended_items.columns = [\"predicted_rating\"]\n",
    "    recommended_items = recommended_items.sort_values('predicted_rating', ascending=False)    \n",
    "    recommended_items = recommended_items.head(n)\n",
    "    return recommended_items.index.tolist()"
   ]
  },
  {
   "cell_type": "code",
   "execution_count": 67,
   "metadata": {},
   "outputs": [],
   "source": [
    "#cf_model = cf_model.applymap(str)"
   ]
  },
  {
   "cell_type": "code",
   "execution_count": 109,
   "metadata": {},
   "outputs": [
    {
     "data": {
      "text/plain": [
       "movieId\n",
       "1         0.0\n",
       "2         0.0\n",
       "3         0.0\n",
       "4         0.0\n",
       "5         0.0\n",
       "         ... \n",
       "160440    0.0\n",
       "160563    0.0\n",
       "160565    0.0\n",
       "160590    0.0\n",
       "163949    0.0\n",
       "Name: 1, Length: 5358, dtype: float64"
      ]
     },
     "execution_count": 109,
     "metadata": {},
     "output_type": "execute_result"
    }
   ],
   "source": [
    "cf_model.loc[1]"
   ]
  },
  {
   "cell_type": "code",
   "execution_count": 111,
   "metadata": {},
   "outputs": [],
   "source": [
    "#format test data\n",
    "test_series = test.copy().groupby('userId')['movieId'].agg(actual=(lambda x: list(set(x)))).reset_index()['actual']"
   ]
  },
  {
   "cell_type": "code",
   "execution_count": 112,
   "metadata": {},
   "outputs": [],
   "source": [
    "#make recommendations for all members in the test data\n",
    "cf_recs = [] = []\n",
    "for user in test_series.index:\n",
    "    cf_predictions = get_users_predictions(user+1, 10, cf_model)\n",
    "    cf_recs.append(cf_predictions)"
   ]
  },
  {
   "cell_type": "code",
   "execution_count": 113,
   "metadata": {},
   "outputs": [
    {
     "data": {
      "text/html": [
       "<div>\n",
       "<style scoped>\n",
       "    .dataframe tbody tr th:only-of-type {\n",
       "        vertical-align: middle;\n",
       "    }\n",
       "\n",
       "    .dataframe tbody tr th {\n",
       "        vertical-align: top;\n",
       "    }\n",
       "\n",
       "    .dataframe thead th {\n",
       "        text-align: right;\n",
       "    }\n",
       "</style>\n",
       "<table border=\"1\" class=\"dataframe\">\n",
       "  <thead>\n",
       "    <tr style=\"text-align: right;\">\n",
       "      <th></th>\n",
       "      <th>actual</th>\n",
       "      <th>cf_predictions</th>\n",
       "    </tr>\n",
       "  </thead>\n",
       "  <tbody>\n",
       "    <tr>\n",
       "      <td>0</td>\n",
       "      <td>[1263, 1339, 1172, 3671, 2105, 1371, 31]</td>\n",
       "      <td>[1172, 1263, 2105, 3671, 1339, 31, 1371, 7810,...</td>\n",
       "    </tr>\n",
       "    <tr>\n",
       "      <td>1</td>\n",
       "      <td>[261, 144, 273, 539, 550, 552, 300, 319, 457, ...</td>\n",
       "      <td>[720, 110, 457, 497, 261, 349, 364, 300, 144, ...</td>\n",
       "    </tr>\n",
       "    <tr>\n",
       "      <td>2</td>\n",
       "      <td>[2694, 267, 84236, 2959, 50068, 2716, 44191, 2...</td>\n",
       "      <td>[318, 296, 2959, 1197, 1235, 2762, 44191, 110,...</td>\n",
       "    </tr>\n",
       "    <tr>\n",
       "      <td>3</td>\n",
       "      <td>[2822, 903, 3210, 2699, 1674, 1805, 919, 3101,...</td>\n",
       "      <td>[2918, 903, 2788, 1198, 1240, 1259, 2144, 2005...</td>\n",
       "    </tr>\n",
       "    <tr>\n",
       "      <td>4</td>\n",
       "      <td>[1923, 4995, 3, 33166, 2706, 1307, 30749, 6942...</td>\n",
       "      <td>[33166, 2081, 30749, 3897, 4995, 4963, 6502, 4...</td>\n",
       "    </tr>\n",
       "    <tr>\n",
       "      <td>...</td>\n",
       "      <td>...</td>\n",
       "      <td>...</td>\n",
       "    </tr>\n",
       "    <tr>\n",
       "      <td>666</td>\n",
       "      <td>[292, 356, 41, 266, 300, 110, 1199, 272, 307, ...</td>\n",
       "      <td>[307, 1199, 356, 501, 272, 41, 110, 247, 300, ...</td>\n",
       "    </tr>\n",
       "    <tr>\n",
       "      <td>667</td>\n",
       "      <td>[296, 6425, 720]</td>\n",
       "      <td>[296, 720, 6425, 1, 7782, 7831, 7827, 7826, 78...</td>\n",
       "    </tr>\n",
       "    <tr>\n",
       "      <td>668</td>\n",
       "      <td>[2881, 1953, 3016, 4015, 785, 3863, 2396, 2174]</td>\n",
       "      <td>[2396, 1953, 785, 3016, 2174, 3863, 2881, 4015...</td>\n",
       "    </tr>\n",
       "    <tr>\n",
       "      <td>669</td>\n",
       "      <td>[608, 34, 1923, 2759, 2571, 2770]</td>\n",
       "      <td>[608, 2571, 34, 1923, 2759, 2770, 7757, 7802, ...</td>\n",
       "    </tr>\n",
       "    <tr>\n",
       "      <td>670</td>\n",
       "      <td>[5377, 1673, 1036, 2959, 2194, 4886, 3481, 489...</td>\n",
       "      <td>[1136, 2359, 5952, 2959, 3147, 1259, 4886, 311...</td>\n",
       "    </tr>\n",
       "  </tbody>\n",
       "</table>\n",
       "<p>671 rows × 2 columns</p>\n",
       "</div>"
      ],
      "text/plain": [
       "                                                actual  \\\n",
       "0             [1263, 1339, 1172, 3671, 2105, 1371, 31]   \n",
       "1    [261, 144, 273, 539, 550, 552, 300, 319, 457, ...   \n",
       "2    [2694, 267, 84236, 2959, 50068, 2716, 44191, 2...   \n",
       "3    [2822, 903, 3210, 2699, 1674, 1805, 919, 3101,...   \n",
       "4    [1923, 4995, 3, 33166, 2706, 1307, 30749, 6942...   \n",
       "..                                                 ...   \n",
       "666  [292, 356, 41, 266, 300, 110, 1199, 272, 307, ...   \n",
       "667                                   [296, 6425, 720]   \n",
       "668    [2881, 1953, 3016, 4015, 785, 3863, 2396, 2174]   \n",
       "669                  [608, 34, 1923, 2759, 2571, 2770]   \n",
       "670  [5377, 1673, 1036, 2959, 2194, 4886, 3481, 489...   \n",
       "\n",
       "                                        cf_predictions  \n",
       "0    [1172, 1263, 2105, 3671, 1339, 31, 1371, 7810,...  \n",
       "1    [720, 110, 457, 497, 261, 349, 364, 300, 144, ...  \n",
       "2    [318, 296, 2959, 1197, 1235, 2762, 44191, 110,...  \n",
       "3    [2918, 903, 2788, 1198, 1240, 1259, 2144, 2005...  \n",
       "4    [33166, 2081, 30749, 3897, 4995, 4963, 6502, 4...  \n",
       "..                                                 ...  \n",
       "666  [307, 1199, 356, 501, 272, 41, 110, 247, 300, ...  \n",
       "667  [296, 720, 6425, 1, 7782, 7831, 7827, 7826, 78...  \n",
       "668  [2396, 1953, 785, 3016, 2174, 3863, 2881, 4015...  \n",
       "669  [608, 2571, 34, 1923, 2759, 2770, 7757, 7802, ...  \n",
       "670  [1136, 2359, 5952, 2959, 3147, 1259, 4886, 311...  \n",
       "\n",
       "[671 rows x 2 columns]"
      ]
     },
     "execution_count": 113,
     "metadata": {},
     "output_type": "execute_result"
    }
   ],
   "source": [
    "test_df = pd.DataFrame(test_series, columns = ['actual', 'cf_predictions'])\n",
    "test_df['cf_predictions'] = cf_recs\n",
    "test_df"
   ]
  },
  {
   "cell_type": "code",
   "execution_count": 114,
   "metadata": {},
   "outputs": [],
   "source": [
    "popularity_recs = ratings.tmdb_id.value_counts().head(10).index.tolist()"
   ]
  },
  {
   "cell_type": "markdown",
   "metadata": {},
   "source": [
    "### Popularity Recommender"
   ]
  },
  {
   "cell_type": "code",
   "execution_count": 115,
   "metadata": {},
   "outputs": [
    {
     "data": {
      "text/html": [
       "<div>\n",
       "<style scoped>\n",
       "    .dataframe tbody tr th:only-of-type {\n",
       "        vertical-align: middle;\n",
       "    }\n",
       "\n",
       "    .dataframe tbody tr th {\n",
       "        vertical-align: top;\n",
       "    }\n",
       "\n",
       "    .dataframe thead th {\n",
       "        text-align: right;\n",
       "    }\n",
       "</style>\n",
       "<table border=\"1\" class=\"dataframe\">\n",
       "  <thead>\n",
       "    <tr style=\"text-align: right;\">\n",
       "      <th></th>\n",
       "      <th>actual</th>\n",
       "      <th>cf_predictions</th>\n",
       "      <th>pop_predictions</th>\n",
       "    </tr>\n",
       "  </thead>\n",
       "  <tbody>\n",
       "    <tr>\n",
       "      <td>0</td>\n",
       "      <td>[1263, 1339, 1172, 3671, 2105, 1371, 31]</td>\n",
       "      <td>[1172, 1263, 2105, 3671, 1339, 31, 1371, 7810,...</td>\n",
       "      <td>[356, 296, 318, 593, 260, 480, 2571, 1, 527, 589]</td>\n",
       "    </tr>\n",
       "    <tr>\n",
       "      <td>1</td>\n",
       "      <td>[261, 144, 273, 539, 550, 552, 300, 319, 457, ...</td>\n",
       "      <td>[720, 110, 457, 497, 261, 349, 364, 300, 144, ...</td>\n",
       "      <td>[356, 296, 318, 593, 260, 480, 2571, 1, 527, 589]</td>\n",
       "    </tr>\n",
       "    <tr>\n",
       "      <td>2</td>\n",
       "      <td>[2694, 267, 84236, 2959, 50068, 2716, 44191, 2...</td>\n",
       "      <td>[318, 296, 2959, 1197, 1235, 2762, 44191, 110,...</td>\n",
       "      <td>[356, 296, 318, 593, 260, 480, 2571, 1, 527, 589]</td>\n",
       "    </tr>\n",
       "    <tr>\n",
       "      <td>3</td>\n",
       "      <td>[2822, 903, 3210, 2699, 1674, 1805, 919, 3101,...</td>\n",
       "      <td>[2918, 903, 2788, 1198, 1240, 1259, 2144, 2005...</td>\n",
       "      <td>[356, 296, 318, 593, 260, 480, 2571, 1, 527, 589]</td>\n",
       "    </tr>\n",
       "    <tr>\n",
       "      <td>4</td>\n",
       "      <td>[1923, 4995, 3, 33166, 2706, 1307, 30749, 6942...</td>\n",
       "      <td>[33166, 2081, 30749, 3897, 4995, 4963, 6502, 4...</td>\n",
       "      <td>[356, 296, 318, 593, 260, 480, 2571, 1, 527, 589]</td>\n",
       "    </tr>\n",
       "  </tbody>\n",
       "</table>\n",
       "</div>"
      ],
      "text/plain": [
       "                                              actual  \\\n",
       "0           [1263, 1339, 1172, 3671, 2105, 1371, 31]   \n",
       "1  [261, 144, 273, 539, 550, 552, 300, 319, 457, ...   \n",
       "2  [2694, 267, 84236, 2959, 50068, 2716, 44191, 2...   \n",
       "3  [2822, 903, 3210, 2699, 1674, 1805, 919, 3101,...   \n",
       "4  [1923, 4995, 3, 33166, 2706, 1307, 30749, 6942...   \n",
       "\n",
       "                                      cf_predictions  \\\n",
       "0  [1172, 1263, 2105, 3671, 1339, 31, 1371, 7810,...   \n",
       "1  [720, 110, 457, 497, 261, 349, 364, 300, 144, ...   \n",
       "2  [318, 296, 2959, 1197, 1235, 2762, 44191, 110,...   \n",
       "3  [2918, 903, 2788, 1198, 1240, 1259, 2144, 2005...   \n",
       "4  [33166, 2081, 30749, 3897, 4995, 4963, 6502, 4...   \n",
       "\n",
       "                                     pop_predictions  \n",
       "0  [356, 296, 318, 593, 260, 480, 2571, 1, 527, 589]  \n",
       "1  [356, 296, 318, 593, 260, 480, 2571, 1, 527, 589]  \n",
       "2  [356, 296, 318, 593, 260, 480, 2571, 1, 527, 589]  \n",
       "3  [356, 296, 318, 593, 260, 480, 2571, 1, 527, 589]  \n",
       "4  [356, 296, 318, 593, 260, 480, 2571, 1, 527, 589]  "
      ]
     },
     "execution_count": 115,
     "metadata": {},
     "output_type": "execute_result"
    }
   ],
   "source": [
    "#make recommendations for all members in the test data\n",
    "popularity_recs = ratings.tmdb_id.value_counts().head(10).index.tolist()\n",
    "\n",
    "pop_recs = []\n",
    "for user in test_series.index:\n",
    "    pop_predictions = popularity_recs\n",
    "    pop_recs.append(pop_predictions)\n",
    "        \n",
    "test_df['pop_predictions'] = pop_recs\n",
    "test_df.head()"
   ]
  },
  {
   "cell_type": "markdown",
   "metadata": {},
   "source": [
    "### Random Recommender"
   ]
  },
  {
   "cell_type": "code",
   "execution_count": 116,
   "metadata": {},
   "outputs": [
    {
     "data": {
      "text/html": [
       "<div>\n",
       "<style scoped>\n",
       "    .dataframe tbody tr th:only-of-type {\n",
       "        vertical-align: middle;\n",
       "    }\n",
       "\n",
       "    .dataframe tbody tr th {\n",
       "        vertical-align: top;\n",
       "    }\n",
       "\n",
       "    .dataframe thead th {\n",
       "        text-align: right;\n",
       "    }\n",
       "</style>\n",
       "<table border=\"1\" class=\"dataframe\">\n",
       "  <thead>\n",
       "    <tr style=\"text-align: right;\">\n",
       "      <th></th>\n",
       "      <th>actual</th>\n",
       "      <th>cf_predictions</th>\n",
       "      <th>pop_predictions</th>\n",
       "      <th>random_predictions</th>\n",
       "    </tr>\n",
       "  </thead>\n",
       "  <tbody>\n",
       "    <tr>\n",
       "      <td>0</td>\n",
       "      <td>[1263, 1339, 1172, 3671, 2105, 1371, 31]</td>\n",
       "      <td>[1172, 1263, 2105, 3671, 1339, 31, 1371, 7810,...</td>\n",
       "      <td>[356, 296, 318, 593, 260, 480, 2571, 1, 527, 589]</td>\n",
       "      <td>[2523, 8947, 38798, 480, 357, 51662, 99114, 42...</td>\n",
       "    </tr>\n",
       "    <tr>\n",
       "      <td>1</td>\n",
       "      <td>[261, 144, 273, 539, 550, 552, 300, 319, 457, ...</td>\n",
       "      <td>[720, 110, 457, 497, 261, 349, 364, 300, 144, ...</td>\n",
       "      <td>[356, 296, 318, 593, 260, 480, 2571, 1, 527, 589]</td>\n",
       "      <td>[160, 1882, 4975, 898, 919, 800, 264, 3256, 10...</td>\n",
       "    </tr>\n",
       "    <tr>\n",
       "      <td>2</td>\n",
       "      <td>[2694, 267, 84236, 2959, 50068, 2716, 44191, 2...</td>\n",
       "      <td>[318, 296, 2959, 1197, 1235, 2762, 44191, 110,...</td>\n",
       "      <td>[356, 296, 318, 593, 260, 480, 2571, 1, 527, 589]</td>\n",
       "      <td>[1193, 8511, 3543, 741, 4979, 206, 2394, 2716,...</td>\n",
       "    </tr>\n",
       "    <tr>\n",
       "      <td>3</td>\n",
       "      <td>[2822, 903, 3210, 2699, 1674, 1805, 919, 3101,...</td>\n",
       "      <td>[2918, 903, 2788, 1198, 1240, 1259, 2144, 2005...</td>\n",
       "      <td>[356, 296, 318, 593, 260, 480, 2571, 1, 527, 589]</td>\n",
       "      <td>[3919, 5219, 260, 112552, 27904, 3264, 316, 17...</td>\n",
       "    </tr>\n",
       "    <tr>\n",
       "      <td>4</td>\n",
       "      <td>[1923, 4995, 3, 33166, 2706, 1307, 30749, 6942...</td>\n",
       "      <td>[33166, 2081, 30749, 3897, 4995, 4963, 6502, 4...</td>\n",
       "      <td>[356, 296, 318, 593, 260, 480, 2571, 1, 527, 589]</td>\n",
       "      <td>[596, 49957, 1225, 68838, 733, 109487, 5618, 9...</td>\n",
       "    </tr>\n",
       "  </tbody>\n",
       "</table>\n",
       "</div>"
      ],
      "text/plain": [
       "                                              actual  \\\n",
       "0           [1263, 1339, 1172, 3671, 2105, 1371, 31]   \n",
       "1  [261, 144, 273, 539, 550, 552, 300, 319, 457, ...   \n",
       "2  [2694, 267, 84236, 2959, 50068, 2716, 44191, 2...   \n",
       "3  [2822, 903, 3210, 2699, 1674, 1805, 919, 3101,...   \n",
       "4  [1923, 4995, 3, 33166, 2706, 1307, 30749, 6942...   \n",
       "\n",
       "                                      cf_predictions  \\\n",
       "0  [1172, 1263, 2105, 3671, 1339, 31, 1371, 7810,...   \n",
       "1  [720, 110, 457, 497, 261, 349, 364, 300, 144, ...   \n",
       "2  [318, 296, 2959, 1197, 1235, 2762, 44191, 110,...   \n",
       "3  [2918, 903, 2788, 1198, 1240, 1259, 2144, 2005...   \n",
       "4  [33166, 2081, 30749, 3897, 4995, 4963, 6502, 4...   \n",
       "\n",
       "                                     pop_predictions  \\\n",
       "0  [356, 296, 318, 593, 260, 480, 2571, 1, 527, 589]   \n",
       "1  [356, 296, 318, 593, 260, 480, 2571, 1, 527, 589]   \n",
       "2  [356, 296, 318, 593, 260, 480, 2571, 1, 527, 589]   \n",
       "3  [356, 296, 318, 593, 260, 480, 2571, 1, 527, 589]   \n",
       "4  [356, 296, 318, 593, 260, 480, 2571, 1, 527, 589]   \n",
       "\n",
       "                                  random_predictions  \n",
       "0  [2523, 8947, 38798, 480, 357, 51662, 99114, 42...  \n",
       "1  [160, 1882, 4975, 898, 919, 800, 264, 3256, 10...  \n",
       "2  [1193, 8511, 3543, 741, 4979, 206, 2394, 2716,...  \n",
       "3  [3919, 5219, 260, 112552, 27904, 3264, 316, 17...  \n",
       "4  [596, 49957, 1225, 68838, 733, 109487, 5618, 9...  "
      ]
     },
     "execution_count": 116,
     "metadata": {},
     "output_type": "execute_result"
    }
   ],
   "source": [
    "#make recommendations for all members in the test data\n",
    "\n",
    "ran_recs = []\n",
    "for user in test_series.index:\n",
    "    random_predictions = ratings.tmdb_id.sample(10).values.tolist()\n",
    "    ran_recs.append(random_predictions)\n",
    "        \n",
    "test_df['random_predictions'] = ran_recs\n",
    "test_df.head()"
   ]
  },
  {
   "cell_type": "markdown",
   "metadata": {},
   "source": [
    "### Recall"
   ]
  },
  {
   "cell_type": "code",
   "execution_count": 117,
   "metadata": {},
   "outputs": [],
   "source": [
    "actual = test_df.actual.values.tolist()\n",
    "cf_predictions = test_df.cf_predictions.values.tolist()\n",
    "pop_predictions = test_df.pop_predictions.values.tolist()\n",
    "random_predictions = test_df.random_predictions.values.tolist()"
   ]
  },
  {
   "cell_type": "code",
   "execution_count": 118,
   "metadata": {},
   "outputs": [],
   "source": [
    "\"\"\"\n",
    "Computes the average recall at k.\n",
    "\"\"\"\n",
    "def _ark(actual, predicted, k=10):\n",
    "    if len(predicted)>k:\n",
    "        predicted = predicted[:k]\n",
    "\n",
    "    score = 0.0\n",
    "    num_hits = 0.0\n",
    "\n",
    "    for i,p in enumerate(predicted):\n",
    "        if p in actual and p not in predicted[:i]:\n",
    "            num_hits += 1.0\n",
    "            score += num_hits / (i+1.0)\n",
    "\n",
    "    if not actual:\n",
    "        return 0.0\n",
    "\n",
    "    return score / len(actual)"
   ]
  },
  {
   "cell_type": "code",
   "execution_count": 119,
   "metadata": {},
   "outputs": [],
   "source": [
    "\"\"\"\n",
    "Computes the mean average recall at k.\n",
    "\"\"\"\n",
    "def mark(actual, predicted, k=10):\n",
    "    return np.mean([_ark(a,p,k) for a,p in zip(actual, predicted)])"
   ]
  },
  {
   "cell_type": "code",
   "execution_count": 120,
   "metadata": {},
   "outputs": [
    {
     "data": {
      "text/plain": [
       "[0.005004481274583573,\n",
       " 0.009046464560470402,\n",
       " 0.0115243583144317,\n",
       " 0.013565070245334323,\n",
       " 0.014935255971330084,\n",
       " 0.01622791775378849,\n",
       " 0.017423589352414382,\n",
       " 0.018217095747630748,\n",
       " 0.019070035988817777,\n",
       " 0.019848767586987687]"
      ]
     },
     "execution_count": 120,
     "metadata": {},
     "output_type": "execute_result"
    }
   ],
   "source": [
    "import numpy as np\n",
    "pop_mark = []\n",
    "for K in np.arange(1, 11):\n",
    "    pop_mark.extend([mark(actual, pop_predictions, k=K)])\n",
    "pop_mark"
   ]
  },
  {
   "cell_type": "code",
   "execution_count": 122,
   "metadata": {},
   "outputs": [
    {
     "data": {
      "text/plain": [
       "[0.0014085788964469709,\n",
       " 0.001737071387358876,\n",
       " 0.002023013218812417,\n",
       " 0.002141822234876485,\n",
       " 0.0023561834830999884,\n",
       " 0.0025569024247794063,\n",
       " 0.0026966150317588554,\n",
       " 0.0027944529484446663,\n",
       " 0.0028451680587885672,\n",
       " 0.0029449604204396136]"
      ]
     },
     "execution_count": 122,
     "metadata": {},
     "output_type": "execute_result"
    }
   ],
   "source": [
    "random_mark = []\n",
    "for K in np.arange(1, 11):\n",
    "    random_mark.extend([mark(actual, random_predictions, k=K)])\n",
    "random_mark"
   ]
  },
  {
   "cell_type": "code",
   "execution_count": 121,
   "metadata": {},
   "outputs": [
    {
     "data": {
      "text/plain": [
       "[0.07828402096557176,\n",
       " 0.15656804193114351,\n",
       " 0.23336174993099248,\n",
       " 0.30369743507937597,\n",
       " 0.3665815553991454,\n",
       " 0.4229082986697345,\n",
       " 0.4727770190888582,\n",
       " 0.5141296654181373,\n",
       " 0.5508250837295326,\n",
       " 0.5833807438028091]"
      ]
     },
     "execution_count": 121,
     "metadata": {},
     "output_type": "execute_result"
    }
   ],
   "source": [
    "cf_mark = []\n",
    "for K in np.arange(1, 11):\n",
    "    cf_mark.extend([mark(actual, cf_predictions, k=K)])\n",
    "cf_mark"
   ]
  },
  {
   "cell_type": "markdown",
   "metadata": {},
   "source": [
    "## Mean Average Recall @ K"
   ]
  },
  {
   "cell_type": "code",
   "execution_count": 123,
   "metadata": {},
   "outputs": [],
   "source": [
    "\"\"\"\n",
    "Plots the mean average recall at k for a set of models to compare.\n",
    "\"\"\"\n",
    "def mark_plot(mark_scores, model_names, k_range):\n",
    "    #create palette\n",
    "    recommender_palette = [\"#ED2BFF\", \"#14E2C0\", \"#FF9F1C\", \"#5E2BFF\",\"#FC5FA3\"]\n",
    "    sns.set_palette(recommender_palette)\n",
    "\n",
    "    #lineplot\n",
    "    mark_df = pd.DataFrame(np.column_stack(mark_scores), k_range, columns=model_names)\n",
    "    ax = sns.lineplot(data=mark_df)\n",
    "    plt.xticks(k_range)\n",
    "    plt.setp(ax.lines,linewidth=5)\n",
    "\n",
    "    #set labels\n",
    "    ax.set_title('Mean Average Recall at K (MAR@K) Comparison')\n",
    "    ax.set_ylabel('MAR@K')\n",
    "    ax.set_xlabel('K')\n",
    "\n",
    "    plt.show()"
   ]
  },
  {
   "cell_type": "code",
   "execution_count": 124,
   "metadata": {},
   "outputs": [
    {
     "data": {
      "image/png": "[encoded data removed]",
      "text/plain": [
       "<Figure size 1080x504 with 1 Axes>"
      ]
     },
     "metadata": {
      "needs_background": "light"
     },
     "output_type": "display_data"
    }
   ],
   "source": [
    "mark_scores = [random_mark, pop_mark, cf_mark]\n",
    "index = range(1,10+1)\n",
    "names = ['Random Recommender', 'Popularity Recommender', 'Collaborative Filter']\n",
    "\n",
    "fig = plt.figure(figsize=(15, 7))\n",
    "mark_plot(mark_scores, model_names=names, k_range=index)"
   ]
  },
  {
   "cell_type": "markdown",
   "metadata": {},
   "source": [
    "## Mean Average Precision @ K"
   ]
  },
  {
   "cell_type": "code",
   "execution_count": 125,
   "metadata": {},
   "outputs": [],
   "source": [
    "\"\"\"\n",
    "Computes the average precision at k.\n",
    "\"\"\"\n",
    "def apk(actual, predicted, k=10):\n",
    "    if len(predicted)>k:\n",
    "        predicted = predicted[:k]\n",
    "\n",
    "    score = 0.0\n",
    "    num_hits = 0.0\n",
    "\n",
    "    for i,p in enumerate(predicted):\n",
    "        if p in actual and p not in predicted[:i]:\n",
    "            num_hits += 1.0\n",
    "            score += num_hits / (i+1.0)\n",
    "\n",
    "    if not actual:\n",
    "        return 0.0\n",
    "\n",
    "    return score / min(len(actual), k)\n",
    "\n",
    "\"\"\"\n",
    "Computes the mean average precision at k.\n",
    "\"\"\"\n",
    "def mapk(actual, predicted, k=10):\n",
    "    return np.mean([apk(a,p,k) for a,p in zip(actual, predicted)])"
   ]
  },
  {
   "cell_type": "code",
   "execution_count": 126,
   "metadata": {},
   "outputs": [],
   "source": [
    "pop_mapk = []\n",
    "for K in np.arange(1, 11):\n",
    "    pop_mapk.extend([mapk(actual, pop_predictions, k=K)])\n",
    "\n",
    "random_mapk = []\n",
    "for K in np.arange(1, 11):\n",
    "    random_mapk.extend([mapk(actual, random_predictions, k=K)])\n",
    "\n",
    "cf_mapk = []\n",
    "for K in np.arange(1, 11):\n",
    "    cf_mapk.extend([mapk(actual, cf_predictions, k=K)])"
   ]
  },
  {
   "cell_type": "code",
   "execution_count": 127,
   "metadata": {},
   "outputs": [],
   "source": [
    "\"\"\"\n",
    "Plots the mean average precision at k for a set of models to compare.\n",
    "\"\"\"\n",
    "def mapk_plot(mapk_scores, model_names, k_range):\n",
    "    #create palette\n",
    "    recommender_palette = [\"#ED2BFF\", \"#14E2C0\", \"#FF9F1C\", \"#5E2BFF\",\"#FC5FA3\"]\n",
    "    sns.set_palette(recommender_palette)\n",
    "\n",
    "    #lineplot\n",
    "    mapk_df = pd.DataFrame(np.column_stack(mapk_scores), k_range, columns=model_names)\n",
    "    ax = sns.lineplot(data=mapk_df)\n",
    "    plt.xticks(k_range)\n",
    "    plt.setp(ax.lines,linewidth=5)\n",
    "\n",
    "    #set labels\n",
    "    ax.set_title('Mean Average Precision at K (MAP@K) Comparison')\n",
    "    ax.set_ylabel('MAP@K')\n",
    "    ax.set_xlabel('K')\n",
    "\n",
    "    plt.show()"
   ]
  },
  {
   "cell_type": "code",
   "execution_count": 128,
   "metadata": {},
   "outputs": [
    {
     "data": {
      "image/png": "[encoded data removed]",
      "text/plain": [
       "<Figure size 1080x504 with 1 Axes>"
      ]
     },
     "metadata": {
      "needs_background": "light"
     },
     "output_type": "display_data"
    }
   ],
   "source": [
    "mapk_scores = [random_mapk, pop_mapk, cf_mapk]\n",
    "index = range(1,10+1)\n",
    "names = ['Random Recommender', 'Popularity Recommender', 'Collaborative Filter']\n",
    "\n",
    "fig = plt.figure(figsize=(15, 7))\n",
    "mapk_plot(mapk_scores, model_names=names, k_range=index)"
   ]
  },
  {
   "cell_type": "code",
   "execution_count": null,
   "metadata": {},
   "outputs": [],
   "source": []
  }
 ],
 "metadata": {
  "accelerator": "TPU",
  "colab": {
   "collapsed_sections": [
    "QtcZhSbK2dk0"
   ],
   "machine_shape": "hm",
   "name": "Recommendation System_0.2_mh_lastedit.ipynb",
   "provenance": [],
   "toc_visible": true
  },
  "kernelspec": {
   "display_name": "Python 3",
   "language": "python",
   "name": "python3"
  },
  "language_info": {
   "codemirror_mode": {
    "name": "ipython",
    "version": 3
   },
   "file_extension": ".py",
   "mimetype": "text/x-python",
   "name": "python",
   "nbconvert_exporter": "python",
   "pygments_lexer": "ipython3",
   "version": "3.7.6"
  },
  "toc": {
   "base_numbering": 1,
   "nav_menu": {},
   "number_sections": true,
   "sideBar": true,
   "skip_h1_title": false,
   "title_cell": "Table of Contents",
   "title_sidebar": "Contents",
   "toc_cell": false,
   "toc_position": {},
   "toc_section_display": true,
   "toc_window_display": true
  },
  "toc-autonumbering": false
 },
 "nbformat": 4,
 "nbformat_minor": 4
}
